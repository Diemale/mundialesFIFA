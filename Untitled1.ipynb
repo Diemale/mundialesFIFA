{
 "cells": [
  {
   "cell_type": "code",
   "execution_count": 1,
   "id": "aff28e05-931c-4743-8ffe-15562cbf8abb",
   "metadata": {
    "tags": []
   },
   "outputs": [],
   "source": [
    "import requests\n",
    "from bs4 import BeautifulSoup\n",
    "import pandas as pd\n",
    "import numpy as np"
   ]
  },
  {
   "cell_type": "markdown",
   "id": "3480eeb5-4e30-4596-9632-ecdda9f2202f",
   "metadata": {},
   "source": [
    "## Crawling"
   ]
  },
  {
   "cell_type": "code",
   "execution_count": 2,
   "id": "21d0bc01-2a0b-47d1-a09b-0849993e3db3",
   "metadata": {},
   "outputs": [],
   "source": [
    "# En caso de que quiera interactuar con el usuario\n",
    "def create_list_of_links(url):\n",
    "    #url = input('Ingrese una pagina de su interés')\n",
    "    reqs = requests.get(url)\n",
    "    soup = BeautifulSoup(reqs.text, 'html.parser')               # response\n",
    " \n",
    "    urls = []\n",
    "    diccionario = {}\n",
    "    \n",
    "    for link in soup.find_all('a'):\n",
    "        urls.append(link.get('href'))\n",
    "    lista = list(diccionario.fromkeys(urls))\n",
    "    lista.remove(None)\n",
    "    \n",
    "    return lista"
   ]
  },
  {
   "cell_type": "code",
   "execution_count": 3,
   "id": "e45a8629-db0f-45f8-9a6d-aeb98315c6a0",
   "metadata": {
    "tags": []
   },
   "outputs": [],
   "source": [
    "listA = create_list_of_links('https://en.wikipedia.org/wiki/2022_FIFA_World_Cup_squads')"
   ]
  },
  {
   "cell_type": "code",
   "execution_count": 4,
   "id": "0be02ea8-eb35-42d9-99dd-916539b35cc3",
   "metadata": {},
   "outputs": [],
   "source": [
    "sudDirsStringLength = len('/wiki/1930_FIFA_World_Cup_squads')  # we could try to filter by the subdirectories string length"
   ]
  },
  {
   "cell_type": "code",
   "execution_count": 5,
   "id": "ecd2910b-e8ad-4eb9-bb58-bf5a572ccde7",
   "metadata": {},
   "outputs": [],
   "source": [
    "subString = 'squads'                   # keyword\n",
    "rootURL = 'https://en.wikipedia.org'   # website root address"
   ]
  },
  {
   "cell_type": "code",
   "execution_count": 6,
   "id": "8b86ba11-b913-410e-8a0f-b137865e841e",
   "metadata": {},
   "outputs": [],
   "source": [
    "def filter_list(aList, mySubString,rootAddress):\n",
    "    requiredURLS = []\n",
    "    for element in aList:\n",
    "        if ((subString in element) and(len(element)==sudDirsStringLength)):\n",
    "            desiredURL = rootAddress + element\n",
    "            requiredURLS.append(desiredURL)\n",
    "    return requiredURLS       "
   ]
  },
  {
   "cell_type": "code",
   "execution_count": 8,
   "id": "e543ace1-c364-462c-a310-2c8a6ce1a8b5",
   "metadata": {},
   "outputs": [],
   "source": [
    "def get_soup(ListaMundiales, indice):   \n",
    "    \n",
    "    page = requests.get(ListaMundiales[indice]).text\n",
    "    soup = BeautifulSoup(page, 'html.parser')\n",
    "    \n",
    "    return soup"
   ]
  },
  {
   "cell_type": "code",
   "execution_count": 16,
   "id": "454b152c-5d02-4c3d-a11e-f029cd3ecccb",
   "metadata": {},
   "outputs": [],
   "source": [
    "worldCupYears = []\n",
    "for i in range(1930,2023,4):\n",
    "    if i <= 1938:\n",
    "        worldCupYears.append(i)\n",
    "    elif ((i > 1938) & (i <1950)):\n",
    "        pass\n",
    "    else:\n",
    "        worldCupYears.append(i)"
   ]
  },
  {
   "cell_type": "code",
   "execution_count": 17,
   "id": "13445e50-c631-490f-9e57-0e29efa2d8df",
   "metadata": {},
   "outputs": [],
   "source": [
    "additionalTablesList = []"
   ]
  },
  {
   "cell_type": "markdown",
   "id": "c183384e-e725-4453-b3c5-b6b7336e3e2f",
   "metadata": {},
   "source": [
    "## If exists additional players tables"
   ]
  },
  {
   "cell_type": "code",
   "execution_count": 18,
   "id": "b1b959fa-9fda-44b1-b5c5-6dfc16080a8c",
   "metadata": {},
   "outputs": [],
   "source": [
    "def exists_replacement_table(todasLasTablasDeJugadores):\n",
    "    for i in range(len(todasLasTablasDeJugadores)):\n",
    "        if len(allSquadsTables[i].find_all('tr')[1::1]) < 4:\n",
    "            return True\n",
    "        \n",
    "    return False"
   ]
  },
  {
   "cell_type": "code",
   "execution_count": 20,
   "id": "bf43d5c3-5709-46b4-a4b9-3a8a52c799d6",
   "metadata": {},
   "outputs": [],
   "source": [
    "def report_additional_tables(worldCup, tablas, reportmentList):\n",
    "    for i in range(len(allSquadsTables)):\n",
    "        if len(allSquadsTables[i].find_all('tr')[1::1]) < 4:\n",
    "            reportmentList.append((worldCup,i))\n",
    "    return reportmentList"
   ]
  },
  {
   "cell_type": "code",
   "execution_count": 23,
   "id": "9fec8a75-ed64-4f5f-b19e-4040742cba5c",
   "metadata": {},
   "outputs": [],
   "source": [
    "def take_off_additional_tables(aSoup, allSquadsTables):\n",
    "    for i in range(len(allSquadsTables)):\n",
    "        if len(allSquadsTables[i].find_all('tr')[1::1]) < 4:\n",
    "\n",
    "            # cambio the class para diferenciarlo de las tablas de equipos\n",
    "            tablaPeque = allSquadsTables[i]\n",
    "            tablaPeque['class'] = 'replacement'\n",
    "\n",
    "    return soup.find_all('table', class_=\"sortable wikitable plainrowheaders\")"
   ]
  },
  {
   "cell_type": "code",
   "execution_count": null,
   "id": "995f7b4f-6c3e-40c3-92d7-9479d91fe44b",
   "metadata": {},
   "outputs": [],
   "source": []
  },
  {
   "cell_type": "code",
   "execution_count": 27,
   "id": "55adea2c-8755-41ad-9c8a-608a3b624074",
   "metadata": {},
   "outputs": [],
   "source": [
    "def get_total_players_in_squad(mySoup, index):\n",
    "    totalRows = len(mySoup.find_all('table', class_=\"sortable wikitable plainrowheaders\")[index].find_all('tr')[1::1])\n",
    "    return totalRows"
   ]
  },
  {
   "cell_type": "code",
   "execution_count": 28,
   "id": "5e7e24b7-2696-4c78-adb1-fc1eebc57411",
   "metadata": {},
   "outputs": [],
   "source": [
    "#totalPlayers = get_total_players_in_squad(soup, 0)  # totalRows of my table (myTable)"
   ]
  },
  {
   "cell_type": "code",
   "execution_count": 29,
   "id": "11d6a8fa-277d-4e60-a3fe-2e27a32800ed",
   "metadata": {},
   "outputs": [],
   "source": [
    "def columns_in_tags(aTable):\n",
    "    # Navigate downwards in the data tree\n",
    "    tbodyContents = aTable.tbody.contents   \n",
    "    # The 3rd element corresponds to the 1st data row. Once there, we can start counting the 'th' tags with relevant data\n",
    "    amountOfThTags  = len(tbodyContents[2].find_all(\"th\")) \n",
    "    # and also the 'td' tags\n",
    "    totalTdTags = len(tbodyContents[2].find_all('td'))      # number of 'td' tags > number of 'th' tags \n",
    "    \n",
    "    return (totalTdTags, amountOfThTags)"
   ]
  },
  {
   "cell_type": "code",
   "execution_count": 31,
   "id": "10f6378e-84de-4c91-8d0f-cc8b0936f24c",
   "metadata": {
    "tags": []
   },
   "outputs": [],
   "source": [
    "def get_list_of_birthdays(aTable, number):\n",
    "    listOfBirthDays = []\n",
    "    offset = columns_in_tags(aTable)[0]\n",
    "    contador = 0\n",
    "    for i in range(number):\n",
    "        position = 2 + (contador*offset)    # The date of birth is in the fourth column so our initial position should be at the \n",
    "        try:                                # index [3], not[2], but remember that there is a 'th' tag in the middle of the 'td' \n",
    "                                            # tags. So our starting point was moved one to the left.\n",
    "            data = aTable.find_all('td')      # find all the 'td' tags that store the data\n",
    "            dateOfBirth = data[position]       \n",
    "            listOfBirthDays.append(dateOfBirth.span.text)\n",
    "        except (IndexError, AttributeError):\n",
    "            listOfBirthDays.append(dateOfBirth.text)\n",
    "        contador +=1\n",
    "    return listOfBirthDays"
   ]
  },
  {
   "cell_type": "code",
   "execution_count": 33,
   "id": "021b5259-24a2-47b8-8515-ff9b85efd9a2",
   "metadata": {},
   "outputs": [],
   "source": [
    "def get_list_of_clubs_federations(aTable, number):\n",
    "    listOfClubsFederations = []\n",
    "    offset = columns_in_tags(aTable)[0]\n",
    "    contador = 0\n",
    "    for i in range(number):\n",
    "        position = (offset -1) + (contador*offset) # number of 'td' tags columns - number of 'th' tags columns\n",
    "        data = aTable.find_all('td')  \n",
    "        clubFederation = data[position] \n",
    "        try:\n",
    "             \n",
    "            listOfClubsFederations.append(clubFederation.a.img.get(\"alt\"))\n",
    "        except (IndexError, AttributeError):\n",
    "            if clubFederation.find(class_=\"flagicon\"):\n",
    "                listOfClubsFederations.append(clubFederation.span.img.get(\"alt\"))\n",
    "            else:\n",
    "                listOfClubsFederations.append(np.nan)\n",
    "        contador +=1\n",
    "    return listOfClubsFederations"
   ]
  },
  {
   "cell_type": "code",
   "execution_count": 38,
   "id": "f5f59dad-ed8d-4642-9f7c-2d74e5abc8fe",
   "metadata": {},
   "outputs": [],
   "source": [
    "def get_listed_national_teams(resultSet, numberOfSquads):\n",
    "    listNationalTeams=[]\n",
    "    for i in range(numberOfSquads):\n",
    "        try:\n",
    "            listNationalTeams.append(resultSet[i].span.text)\n",
    "        except(AttributeError):\n",
    "            listNationalTeams.append(resultSet[i].text)\n",
    "    return listNationalTeams  "
   ]
  },
  {
   "cell_type": "markdown",
   "id": "77428762-ba57-4fdb-aed9-63bb16fe76e0",
   "metadata": {},
   "source": [
    "## Files Management"
   ]
  },
  {
   "cell_type": "code",
   "execution_count": 40,
   "id": "379397dd-5b62-4dd8-9f8a-3aecb961c891",
   "metadata": {},
   "outputs": [],
   "source": [
    "import os \n",
    "from os import path"
   ]
  },
  {
   "cell_type": "code",
   "execution_count": 41,
   "id": "c49314a4-5fc9-4e23-b6f2-2136ba805015",
   "metadata": {},
   "outputs": [],
   "source": [
    "def create_directories_tree(listOfWCYears):\n",
    "    \n",
    "    for i in range(len(listOfWCYears)):\n",
    "        year = str(listOfWCYears[i])\n",
    "        os.makedirs(f'dataSets\\\\{year}_world_cup', exist_ok=True)  # makes a new directory\n",
    "         "
   ]
  },
  {
   "cell_type": "code",
   "execution_count": 42,
   "id": "6297107c-2916-4e9c-aae6-cbb08a4c6326",
   "metadata": {},
   "outputs": [],
   "source": [
    "if (path.exists('dataSets') == False):\n",
    "    create_directories_tree(worldCupYears)\n",
    "if (path.exists('dataSets\\\\1930_world_cup')) & (len(os.listdir('dataSets')) < (len(worldCupYears))):\n",
    "    create_directories_tree(worldCupYears)"
   ]
  },
  {
   "cell_type": "code",
   "execution_count": 43,
   "id": "4f6be93f-9b01-4c52-ae0a-5989acda9485",
   "metadata": {},
   "outputs": [],
   "source": [
    "listdir = os.listdir('dataSets')"
   ]
  },
  {
   "cell_type": "markdown",
   "id": "c0bee1ac-dc92-438f-bd32-7dca158c3f89",
   "metadata": {},
   "source": [
    "## Execution"
   ]
  },
  {
   "cell_type": "code",
   "execution_count": 44,
   "id": "ce2d7bd5-1d58-420b-9374-885554b03823",
   "metadata": {},
   "outputs": [
    {
     "name": "stdout",
     "output_type": "stream",
     "text": [
      "1990\n",
      "CPU times: total: 2min 5s\n",
      "Wall time: 4min 7s\n"
     ]
    }
   ],
   "source": [
    "%%time\n",
    "squadsHystorical = filter_list(listA,subString, rootURL)\n",
    "for j in range(len(squadsHystorical)):\n",
    "    \n",
    "    soup = get_soup(squadsHystorical, j)\n",
    "    allSquadsTables = soup.find_all('table', class_=\"sortable wikitable plainrowheaders\")\n",
    "\n",
    "    if exists_replacement_table(allSquadsTables):\n",
    "        report_additional_tables(worldCupYears[j],allSquadsTables, additionalTablesList)\n",
    "        take_off_additional_tables(soup, allSquadsTables)\n",
    "        allSquadsTables = soup.find_all('table', class_=\"sortable wikitable plainrowheaders\")\n",
    "    \n",
    "    totalSquads = len(soup.find_all('table',{'class': 'sortable wikitable plainrowheaders'}))\n",
    "    listH3CountryNames = soup.find_all(\"h3\", limit = totalSquads)\n",
    "    listH2CountryNames = soup.find_all(\"span\", class_=\"mw-headline\", limit = totalSquads)\n",
    "    allSquadsTables = soup.find_all('table', class_=\"sortable wikitable plainrowheaders\")\n",
    "\n",
    "    for i in range(totalSquads):\n",
    "    \n",
    "        myTable = allSquadsTables[i]\n",
    "        totalRows =  get_total_players_in_squad(soup, i) \n",
    "    \n",
    "        tagsTuple = columns_in_tags(myTable)\n",
    "    \n",
    "        # get the number of columns inside the 'td' tags\n",
    "        columnsAsTdTags = tagsTuple[0]\n",
    "            \n",
    "        try:\n",
    "            listNationalTeams= get_listed_national_teams(listH3CountryNames, totalSquads)\n",
    "        except (IndexError):\n",
    "            listNationalTeams= get_listed_national_teams(listH2CountryNames, totalSquads)\n",
    "    \n",
    "        listOfBirthDays =  get_list_of_birthdays(myTable, totalRows)\n",
    "        listOfClubsOrigin = get_list_of_clubs_federations(myTable, totalRows)\n",
    "    \n",
    "        df = pd.read_html(str(myTable))\n",
    "        df = pd.concat(df)\n",
    "       \n",
    "        if 'Goals' not in df.columns:\n",
    "            df.insert(5, 'Goals', np.nan)\n",
    "        \n",
    "        df['Club Origin'] = listOfClubsOrigin\n",
    "        df['Date of birth (age)'] = listOfBirthDays\n",
    "    \n",
    "        df.insert(0, 'National Team', listNationalTeams[i])\n",
    "        players = df.pop('Player')\n",
    "        df.insert(0,'Player', players) \n",
    "        \n",
    "        nameFile = (f'{worldCupYears[j]}_{listNationalTeams[i]}')           \n",
    "    \n",
    "        df.to_csv(f'dataSets\\\\{listdir[j]}\\\\{nameFile}.csv', index=False)"
   ]
  },
  {
   "cell_type": "code",
   "execution_count": 45,
   "id": "1e1f5cb0-c894-4529-8f31-82a2f0e43350",
   "metadata": {},
   "outputs": [
    {
     "data": {
      "text/plain": [
       "[(1990, 5), (1990, 23)]"
      ]
     },
     "execution_count": 45,
     "metadata": {},
     "output_type": "execute_result"
    }
   ],
   "source": [
    "additionalTablesList"
   ]
  },
  {
   "cell_type": "code",
   "execution_count": 53,
   "id": "cefda6c9-76a6-410f-bec0-cad2e93ab464",
   "metadata": {},
   "outputs": [],
   "source": [
    "os.makedirs(f'errors', exist_ok=True)"
   ]
  },
  {
   "cell_type": "code",
   "execution_count": 54,
   "id": "e07de768-8ef7-4307-b2c1-3a091ad33afb",
   "metadata": {},
   "outputs": [],
   "source": [
    "with open(\"errors\\\\additionalTables.txt\", \"w\") as output:\n",
    "    output.write(str(additionalTablesList))"
   ]
  },
  {
   "cell_type": "code",
   "execution_count": 59,
   "id": "0db24a00-2af7-4d15-9fbd-dd88e4c7a495",
   "metadata": {},
   "outputs": [
    {
     "name": "stdout",
     "output_type": "stream",
     "text": [
      "[(1990, 5), (1990, 23)]\n"
     ]
    }
   ],
   "source": [
    "f = open(\"errors\\\\additionalTables.txt\", \"r\")\n",
    "print(f.readline())"
   ]
  },
  {
   "cell_type": "code",
   "execution_count": null,
   "id": "295c08d4-38b6-461e-b074-cc6ff5a4c754",
   "metadata": {},
   "outputs": [],
   "source": []
  }
 ],
 "metadata": {
  "kernelspec": {
   "display_name": "Python 3 (ipykernel)",
   "language": "python",
   "name": "python3"
  },
  "language_info": {
   "codemirror_mode": {
    "name": "ipython",
    "version": 3
   },
   "file_extension": ".py",
   "mimetype": "text/x-python",
   "name": "python",
   "nbconvert_exporter": "python",
   "pygments_lexer": "ipython3",
   "version": "3.9.15"
  }
 },
 "nbformat": 4,
 "nbformat_minor": 5
}
