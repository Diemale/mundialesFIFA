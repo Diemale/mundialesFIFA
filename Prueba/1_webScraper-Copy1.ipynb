{
 "cells": [
  {
   "cell_type": "code",
   "execution_count": 20,
   "id": "aff28e05-931c-4743-8ffe-15562cbf8abb",
   "metadata": {
    "tags": []
   },
   "outputs": [],
   "source": [
    "import requests\n",
    "from bs4 import BeautifulSoup\n",
    "import pandas as pd\n",
    "import numpy as np"
   ]
  },
  {
   "cell_type": "markdown",
   "id": "3480eeb5-4e30-4596-9632-ecdda9f2202f",
   "metadata": {},
   "source": [
    "## Crawling"
   ]
  },
  {
   "cell_type": "code",
   "execution_count": 21,
   "id": "21d0bc01-2a0b-47d1-a09b-0849993e3db3",
   "metadata": {},
   "outputs": [],
   "source": [
    "# Get all the web pages linked to the input url\n",
    "def create_list_of_links(url):\n",
    "    #url = input('Ingrese una pagina de su interés')\n",
    "    reqs = requests.get(url)\n",
    "    soup = BeautifulSoup(reqs.text, 'html.parser')               \n",
    " \n",
    "    urls = []\n",
    "    diccionario = {}\n",
    "    \n",
    "    for link in soup.find_all('a'):\n",
    "        urls.append(link.get('href'))\n",
    "    lista = list(diccionario.fromkeys(urls))\n",
    "    lista.remove(None)\n",
    "    \n",
    "    return lista"
   ]
  },
  {
   "cell_type": "code",
   "execution_count": 22,
   "id": "e45a8629-db0f-45f8-9a6d-aeb98315c6a0",
   "metadata": {
    "tags": []
   },
   "outputs": [],
   "source": [
    "listA = create_list_of_links('https://en.wikipedia.org/wiki/2022_FIFA_World_Cup_squads')"
   ]
  },
  {
   "cell_type": "markdown",
   "id": "2d284fbb-d6e8-4985-9c09-fe9b99257d3c",
   "metadata": {},
   "source": [
    " - We need to list all the web pages which contain __'/wiki/xxxx_FIFA_World_Cup_squads'__ , where xxxx represents a year. Web [root](https://en.wikipedia.org) "
   ]
  },
  {
   "cell_type": "markdown",
   "id": "b8c39ec7-9f22-4fba-91c7-dfe5dcbe19c5",
   "metadata": {},
   "source": [
    "Let's filter the urls we want"
   ]
  },
  {
   "cell_type": "code",
   "execution_count": 23,
   "id": "0be02ea8-eb35-42d9-99dd-916539b35cc3",
   "metadata": {},
   "outputs": [],
   "source": [
    "sudDirsStringLength = len('/wiki/1930_FIFA_World_Cup_squads')  # we could try to filter by the subdirectories string length"
   ]
  },
  {
   "cell_type": "code",
   "execution_count": 24,
   "id": "ecd2910b-e8ad-4eb9-bb58-bf5a572ccde7",
   "metadata": {},
   "outputs": [],
   "source": [
    "subString = 'squads'                   # keyword\n",
    "rootURL = 'https://en.wikipedia.org'   # website root address"
   ]
  },
  {
   "cell_type": "markdown",
   "id": "499c3015-233e-4064-948c-845011822ae7",
   "metadata": {},
   "source": [
    "The function `filter_list` receives three parameters. The first is a list of all the websites we got after crawling. The second, a substring with a keyword shared by all wanted urls. And the third is the website root address. "
   ]
  },
  {
   "cell_type": "code",
   "execution_count": 25,
   "id": "8b86ba11-b913-410e-8a0f-b137865e841e",
   "metadata": {},
   "outputs": [],
   "source": [
    "def filter_list(aList, mySubString,rootAddress):\n",
    "    requiredURLS = []\n",
    "    for element in aList:\n",
    "        if ((subString in element) and(len(element)==sudDirsStringLength)):\n",
    "            desiredURL = rootAddress + element\n",
    "            requiredURLS.append(desiredURL)\n",
    "    return requiredURLS       "
   ]
  },
  {
   "cell_type": "markdown",
   "id": "0afce266-959f-4336-b6ba-b67b0f575a92",
   "metadata": {},
   "source": [
    "## Functions to process the gathered data"
   ]
  },
  {
   "cell_type": "markdown",
   "id": "00d29a7f-86ad-4cc2-be71-cf823fc3bd04",
   "metadata": {},
   "source": [
    "The following function, `get_soup`, receives the filtered url list plus an index and returns a BeautifulSoup object which encloses all the url parsed code. "
   ]
  },
  {
   "cell_type": "code",
   "execution_count": 26,
   "id": "e543ace1-c364-462c-a310-2c8a6ce1a8b5",
   "metadata": {},
   "outputs": [],
   "source": [
    "def get_soup(WorldCupsList, index):   \n",
    "    \n",
    "    page = requests.get(WorldCupsList[index]).text\n",
    "    soup = BeautifulSoup(page, 'html.parser')\n",
    "    \n",
    "    return soup"
   ]
  },
  {
   "cell_type": "markdown",
   "id": "a8fe0d87-3199-4208-a0c7-cf770747fd44",
   "metadata": {},
   "source": [
    "The function `get_total_players_in_squad` counts all the rows of the national teams tables; or what\n",
    "is the same, all the players belonging to a given team."
   ]
  },
  {
   "cell_type": "code",
   "execution_count": 27,
   "id": "55adea2c-8755-41ad-9c8a-608a3b624074",
   "metadata": {},
   "outputs": [],
   "source": [
    "def get_total_players_in_squad(mySoup, index):\n",
    "    totalRows = len(mySoup.find_all('table', class_=\"sortable wikitable plainrowheaders\")[index].find_all('tr')[1::1])\n",
    "    return totalRows"
   ]
  },
  {
   "cell_type": "markdown",
   "id": "f23936e5-b4e6-46bf-bfb0-e2e5cead25cd",
   "metadata": {},
   "source": [
    "The tables we've found have an odd and confusing structure. They used different tags to create the columns instead of using the same. The 'Pos.' column is in a \"th\" tag, while the rest are inside a \"td\" tag. This fact has complicated our work a little bit. So, we'll have to create two separate counts, one for each type of tag, because we'll have to reshape these tables later."
   ]
  },
  {
   "cell_type": "markdown",
   "id": "cfff2c00-f2c9-4cab-8dad-4c364659c1c6",
   "metadata": {},
   "source": [
    "The function `count_columns_in_tags` counts and discriminates tags."
   ]
  },
  {
   "cell_type": "code",
   "execution_count": 28,
   "id": "11d6a8fa-277d-4e60-a3fe-2e27a32800ed",
   "metadata": {},
   "outputs": [],
   "source": [
    "def count_columns_in_tags(aTable):\n",
    "    # Navigate downwards in the data tree\n",
    "    tbodyContents = aTable.tbody.contents   \n",
    "    # The 3rd element corresponds to the 1st data row. Once in there, we can start counting the 'th' tags with relevant data\n",
    "    amountOfThTags  = len(tbodyContents[2].find_all(\"th\")) \n",
    "    # and also the 'td' tags\n",
    "    totalTdTags = len(tbodyContents[2].find_all('td'))      # number of 'td' tags > number of 'th' tags \n",
    "    \n",
    "    return (totalTdTags, amountOfThTags)"
   ]
  },
  {
   "cell_type": "markdown",
   "id": "0dd67500-63bb-45ce-ae42-bc17be8daacb",
   "metadata": {},
   "source": [
    "As Pandas doesn't fill the column named \"Date of birth\" we'll work around this issue as follows:\n",
    "Firstly, we'll use the function below, `get_list_of_birthdays`, to get a list of each footballer's birthday.\n",
    "Secondly, we'll convert the table to a DataFrame.\n",
    "Finally, we'll add a new column to the DataFrame, and set the values with each corresponding element in the list of birthdays."
   ]
  },
  {
   "cell_type": "code",
   "execution_count": 29,
   "id": "10f6378e-84de-4c91-8d0f-cc8b0936f24c",
   "metadata": {
    "tags": []
   },
   "outputs": [],
   "source": [
    "def get_list_of_birthdays(aTable, number):\n",
    "    listOfBirthDays = []\n",
    "    offset = count_columns_in_tags(aTable)[0]\n",
    "    contador = 0\n",
    "    for i in range(number):\n",
    "        position = 2 + (contador*offset)    # The date of birth is in the fourth column so our initial position should be at the \n",
    "        try:                                # index [3], not[2], but remember that there is a 'th' tag in the middle of the 'td' \n",
    "                                            # tags. So our starting point was moved one to the left.\n",
    "            data = aTable.find_all('td')      # find all the 'td' tags that store the data\n",
    "            dateOfBirth = data[position]       \n",
    "            listOfBirthDays.append(dateOfBirth.span.text)\n",
    "        except (IndexError, AttributeError):\n",
    "            listOfBirthDays.append(dateOfBirth.text)\n",
    "        contador +=1\n",
    "    return listOfBirthDays"
   ]
  },
  {
   "cell_type": "markdown",
   "id": "74a129c7-2999-4277-982b-acc7f9c7af91",
   "metadata": {},
   "source": [
    "In the original tables, there is a column with the player's club data, this piece of data is essential, but also we'd like to know the country where a given footballer had been playing until the World Cup kick-off. In each of their cells there is a flag icon that holds the name of the country to which that club belongs. We'll make use of the `get_list_of_clubs_federations` function to extract the country related to each club."
   ]
  },
  {
   "cell_type": "code",
   "execution_count": 30,
   "id": "021b5259-24a2-47b8-8515-ff9b85efd9a2",
   "metadata": {},
   "outputs": [],
   "source": [
    "def get_list_of_clubs_federations(aTable, number):\n",
    "    listOfClubsFederations = []\n",
    "    offset = count_columns_in_tags(aTable)[0]\n",
    "    contador = 0\n",
    "    for i in range(number):\n",
    "        position = (offset -1) + (contador*offset) # number of 'td' tags columns - number of 'th' tags columns\n",
    "        data = aTable.find_all('td')  \n",
    "        clubFederation = data[position] \n",
    "        try:\n",
    "             \n",
    "            listOfClubsFederations.append(clubFederation.a.img.get(\"alt\"))\n",
    "        except (IndexError, AttributeError):\n",
    "            if clubFederation.find(class_=\"flagicon\"):\n",
    "                listOfClubsFederations.append(clubFederation.span.img.get(\"alt\"))\n",
    "            else:\n",
    "                listOfClubsFederations.append(np.nan)\n",
    "        contador +=1\n",
    "    return listOfClubsFederations"
   ]
  },
  {
   "cell_type": "markdown",
   "id": "a7254f99-d56f-4801-b802-aa0e6e21e965",
   "metadata": {},
   "source": [
    "The function `get_listed_national_teams` gets the names of the countries from the 'H3' or 'H2' tags(depending on the web page code) located above each squad's table."
   ]
  },
  {
   "cell_type": "code",
   "execution_count": 31,
   "id": "f5f59dad-ed8d-4642-9f7c-2d74e5abc8fe",
   "metadata": {},
   "outputs": [],
   "source": [
    "def get_listed_national_teams(resultSet, numberOfSquads):\n",
    "    listNationalTeams=[]\n",
    "    for i in range(numberOfSquads):\n",
    "        try:\n",
    "            listNationalTeams.append(resultSet[i].span.text)\n",
    "        except(AttributeError):\n",
    "            listNationalTeams.append(resultSet[i].text)\n",
    "    return listNationalTeams  "
   ]
  },
  {
   "cell_type": "markdown",
   "id": "33333103-9c01-4170-9789-fc24f804566b",
   "metadata": {},
   "source": [
    "####  Functions to deal with additional tables"
   ]
  },
  {
   "cell_type": "markdown",
   "id": "2eed70f0-a48d-4476-8cd7-ba4c6928d1d6",
   "metadata": {},
   "source": [
    "The following function `exists_replacement_table` searches inside the tables containing squads. If it finds a small one, that means it found an additional table with the data of a replacement player in it."
   ]
  },
  {
   "cell_type": "code",
   "execution_count": 32,
   "id": "8a0002a8-2f42-43fb-bd6d-6801be9d0e11",
   "metadata": {},
   "outputs": [],
   "source": [
    "def exists_replacement_table(squadsTables):\n",
    "    for i in range(len(squadsTables)):\n",
    "        if len(squadsTables[i].find_all('tr')[1::1]) < 4:\n",
    "            return True\n",
    "        \n",
    "    return False"
   ]
  },
  {
   "cell_type": "markdown",
   "id": "f409953f-678f-40fe-b714-84846b3be2b8",
   "metadata": {},
   "source": [
    "If there are replacement players tables the function `report_additional_tables` will catch and list them, for further treatment."
   ]
  },
  {
   "cell_type": "code",
   "execution_count": 33,
   "id": "59c17980-0a5b-4f33-b5be-cc91aa773c07",
   "metadata": {},
   "outputs": [],
   "source": [
    "def report_additional_tables(worldCup, squadsTables, reportingList):\n",
    "    for i in range(len(squadsTables)):\n",
    "        if len(squadsTables[i].find_all('tr')[1::1]) < 4:\n",
    "            reportingList.append((worldCup,i))\n",
    "    return reportingList"
   ]
  },
  {
   "cell_type": "markdown",
   "id": "b871df91-2ceb-4bc8-ac32-db2d9b43e1ff",
   "metadata": {},
   "source": [
    "Once we have found additional tables we'll need to set them aside. That's what `take_off_additional_tables` does, by renaming their css class."
   ]
  },
  {
   "cell_type": "code",
   "execution_count": 34,
   "id": "7deddef4-032e-4a2f-a573-2d7f6becad26",
   "metadata": {},
   "outputs": [],
   "source": [
    "def take_off_additional_tables(aSoup, squadsTables):\n",
    "    for i in range(len(squadsTables)):\n",
    "        if len(squadsTables[i].find_all('tr')[1::1]) < 4:\n",
    "\n",
    "            # change the css class of the additional tables to differentiate them from the ones with the whole team data.\n",
    "            additionalTable = squadsTables[i]\n",
    "            additionalTable['class'] = 'replacement'\n",
    "\n",
    "    return soup.find_all('table', class_=\"sortable wikitable plainrowheaders\")"
   ]
  },
  {
   "cell_type": "markdown",
   "id": "fd4e70aa-2838-445d-b554-d7d38d56fd70",
   "metadata": {},
   "source": [
    "## Added data"
   ]
  },
  {
   "cell_type": "code",
   "execution_count": 35,
   "id": "1cdb8b13-eb1c-48b6-8214-0f4bb4de73b7",
   "metadata": {},
   "outputs": [],
   "source": [
    "# Create a list of all the years in which a World Cup was played.\n",
    "worldCupYears = []\n",
    "for i in range(1930,2023,4):\n",
    "    if i <= 1938:\n",
    "        worldCupYears.append(i)\n",
    "    elif ((i > 1938) & (i <1950)):\n",
    "        pass\n",
    "    else:\n",
    "        worldCupYears.append(i)"
   ]
  },
  {
   "cell_type": "code",
   "execution_count": 36,
   "id": "5ab02109",
   "metadata": {},
   "outputs": [],
   "source": [
    "wcKickOffDates = ['1930-07-17','1934-05-27','1938-06-04','1950-06-24','1954-06-16','1958-06-08','1962-05-30','1966-07-11',\n",
    "                    '1970-05-31','1974-06-13','1978-06-01','1982-06-13','1986-05-31','1990-06-08','1994-06-17','1998-06-10',\n",
    "                    '2002-05-31','2006-06-09','2010-06-11','2014-06-12','2018-06-14','2022-11-20']"
   ]
  },
  {
   "cell_type": "code",
   "execution_count": 37,
   "id": "66620b44-b4e5-4bb5-8774-76d6d7b5ca94",
   "metadata": {},
   "outputs": [],
   "source": [
    "# Initialize a list to collect and identify all the additional players tables,\n",
    "# that could break our code.\n",
    "additionalTablesList = []"
   ]
  },
  {
   "cell_type": "markdown",
   "id": "77428762-ba57-4fdb-aed9-63bb16fe76e0",
   "metadata": {},
   "source": [
    "## Files Management"
   ]
  },
  {
   "cell_type": "code",
   "execution_count": 38,
   "id": "379397dd-5b62-4dd8-9f8a-3aecb961c891",
   "metadata": {},
   "outputs": [],
   "source": [
    "#import os \n",
    "#from os import path"
   ]
  },
  {
   "cell_type": "code",
   "execution_count": 39,
   "id": "c49314a4-5fc9-4e23-b6f2-2136ba805015",
   "metadata": {},
   "outputs": [],
   "source": [
    "#def create_directories_tree(listOfWCYears):\n",
    "    \n",
    "#    for i in range(len(listOfWCYears)):\n",
    "#        year = str(listOfWCYears[i])\n",
    "#        os.makedirs(f'dataSets\\\\{year}_world_cup', exist_ok=True)  # makes a new directory      "
   ]
  },
  {
   "cell_type": "code",
   "execution_count": 40,
   "id": "6297107c-2916-4e9c-aae6-cbb08a4c6326",
   "metadata": {},
   "outputs": [],
   "source": [
    "#if (path.exists('dataSets') == False):\n",
    "#    create_directories_tree(worldCupYears)\n",
    "#if (path.exists('dataSets\\\\1930_world_cup')) & (len(os.listdir('dataSets')) < (len(worldCupYears))):\n",
    "#    create_directories_tree(worldCupYears)"
   ]
  },
  {
   "cell_type": "code",
   "execution_count": 41,
   "id": "4f6be93f-9b01-4c52-ae0a-5989acda9485",
   "metadata": {},
   "outputs": [],
   "source": [
    "#listdir = os.listdir('dataSets')"
   ]
  },
  {
   "cell_type": "markdown",
   "id": "86fcb98e",
   "metadata": {},
   "source": [
    "## Function to create a data frame"
   ]
  },
  {
   "cell_type": "code",
   "execution_count": 45,
   "id": "a892e5be",
   "metadata": {},
   "outputs": [],
   "source": [
    "def create_a_dataframe(aSquad, federations, birthDays, wcDate, aNationalTeam):\n",
    "    df = pd.read_html(aSquad)\n",
    "    df = pd.concat(df)\n",
    "    \n",
    "    if 'Goals' not in df.columns:\n",
    "        df.insert(5, 'Goals', np.nan)\n",
    "        \n",
    "    df['Club Origin'] = federations\n",
    "    df['Date of Birth (age)'] = birthDays\n",
    "    df['World Cup start date'] = wcDate\n",
    "    \n",
    "    df.insert(0, 'National Team', aNationalTeam)\n",
    "    players = df.pop('Player')\n",
    "    df.insert(0, 'Player', players)\n",
    "    \n",
    "    return df"
   ]
  },
  {
   "cell_type": "markdown",
   "id": "c0bee1ac-dc92-438f-bd32-7dca158c3f89",
   "metadata": {},
   "source": [
    "## Run the program"
   ]
  },
  {
   "cell_type": "code",
   "execution_count": 50,
   "id": "ce2d7bd5-1d58-420b-9374-885554b03823",
   "metadata": {},
   "outputs": [
    {
     "name": "stdout",
     "output_type": "stream",
     "text": [
      "[' (1987-03-30)', ' (1997-01-11)', ' (2002-01-09)', ' (1991-10-22)', ' (1999-03-12)', ' (2001-10-16)', ' (1998-01-21)', ' (1995-04-19)', ' (1994-07-17)', ' (1994-09-24)', ' (1996-04-07)', ' (2000-09-09)', ' (1989-11-04)', ' (1994-09-28)', ' (1988-01-21)', ' (2002-06-16)', ' (1998-02-18)', ' (1999-07-12)', ' (2000-11-01)', ' (1997-04-26)', ' (1998-08-21)', ' (1987-06-05)', ' (2001-11-02)', ' (1999-01-18)', ' (2000-08-04)', ' (2000-03-04)']\n",
      "[' (1983-11-08)', ' (2001-06-17)', ' (1999-08-12)', ' (1991-07-08)', ' (1995-02-18)', ' (1992-02-05)', ' (1997-10-08)', ' (1999-05-07)', ' (1990-08-27)', ' (1994-02-13)', ' (1991-12-19)', ' (1999-06-17)', ' (1998-01-22)', ' (1993-02-21)', ' (1991-03-29)', ' (1999-08-17)', ' (1990-03-09)', ' (1994-06-15)', ' (1992-08-07)', ' (1998-02-28)', ' (1997-05-12)', ' (1996-04-18)', ' (1994-04-07)', ' (2002-05-16)', ' (2003-04-21)', ' (2000-12-10)']\n",
      "[' (1990-02-19)', ' (1990-08-06)', ' (1993-08-28)', ' (1999-09-18)', ' (1997-12-05)', ' (1990-01-01)', ' (1993-01-31)', ' (1993-01-19)', ' (1993-12-20)', ' (1990-12-11)', ' (1996-11-18)', ' (1990-09-16)', ' (1993-01-01)', ' (1999-08-25)', ' (1997-12-16)', ' (1990-07-09)', ' (1990-04-05)', ' (1998-02-24)', ' (1996-08-19)', ' (1996-04-10)', ' (1996-05-24)', ' (1998-02-14)', ' (1996-10-22)', ' (2001-07-18)', ' (2002-02-20)', ' (2001-03-28)']\n",
      "[' (1994-11-23)', ' (2001-01-02)', ' (1991-06-20)', ' (1995-09-14)', ' (1989-09-26)', ' (1992-06-23)', ' (2001-06-20)', ' (1989-12-21)', ' (1996-11-16)', ' (2002-06-18)', ' (1994-03-16)', ' (1997-01-03)', ' (2000-03-06)', ' (1999-08-17)', ' (1999-02-25)', ' (1992-03-01)', ' (2002-09-14)', ' (1998-02-25)', ' (1992-12-15)', ' (2000-03-23)', ' (1993-03-05)', ' (1996-05-04)', ' (1993-09-05)', ' (1995-05-05)', ' (1996-12-30)', ' (1999-01-24)']\n",
      "[' (1994-03-07)', ' (1990-05-28)', ' (1995-07-12)', ' (1999-01-14)', ' (1994-05-28)', ' (1993-03-05)', ' (1995-09-10)', ' (1990-06-17)', ' (1993-07-28)', ' (1994-12-08)', ' (1997-10-31)', ' (1990-09-19)', ' (1992-04-19)', ' (1995-12-02)', ' (1994-01-15)', ' (1993-02-25)', ' (2001-09-05)', ' (1998-10-07)', ' (1999-01-10)', ' (2000-05-28)', ' (1997-10-08)', ' (2003-06-29)', ' (1998-05-14)', ' (1992-02-27)', ' (1996-11-23)', ' (2000-02-06)']\n",
      "[' (1992-09-21)', ' (1996-03-01)', ' (1990-02-25)', ' (1989-05-14)', ' (1993-09-29)', ' (1996-10-01)', ' (1993-08-11)', ' (1992-04-19)', ' (1992-07-18)', ' (1990-04-03)', ' (1988-04-02)', ' (1995-04-06)', ' (1994-03-23)', ' (1993-09-06)', ' (1993-07-24)', ' (1994-09-10)', ' (1996-03-10)', ' (1994-02-11)', ' (1996-06-20)', ' (1995-01-01)', ' (1993-02-01)', ' (1993-04-26)', ' (1990-03-21)', ' (1992-06-30)', ' (1998-06-26)']\n",
      "[' (1994-06-24)', ' (2000-11-03)', ' (1993-05-19)', ' (1999-02-14)', ' (1997-08-08)', ' (2002-11-29)', ' (2002-11-13)', ' (1998-08-28)', ' (2000-12-24)', ' (1998-09-18)', ' (2000-10-22)', ' (1995-06-09)', ' (1987-10-05)', ' (1998-05-23)', ' (1992-10-12)', ' (1994-10-26)', ' (1995-06-03)', ' (1996-11-02)', ' (1998-03-27)', ' (1997-12-31)', ' (2000-02-22)', ' (1993-07-09)', ' (1995-07-24)', ' (2000-02-20)', ' (1989-05-31)', ' (2002-12-31)']\n",
      "[' (1987-01-24)', ' (1989-07-21)', ' (2001-04-13)', ' (1993-04-24)', ' (1997-11-05)', ' (1997-10-22)', ' (1990-03-14)', ' (1997-03-22)', ' (2001-05-23)', ' (1990-12-26)', ' (1989-07-16)', ' (1993-06-22)', ' (1992-08-08)', ' (1995-09-23)', ' (2000-09-14)', ' (1997-01-03)', ' (1994-12-03)', ' (1993-10-09)', ' (1998-12-29)', ' (1997-11-10)', ' (1992-07-17)', ' (1999-01-25)', ' (2000-11-17)', ' (2000-05-30)', ' (2002-04-27)', ' (1999-11-22)']\n",
      "[' (1986-10-16)', ' (1998-01-12)', ' (1992-08-31)', ' (1997-01-01)', ' (1994-06-29)', ' (1991-06-27)', ' (1994-05-24)', ' (1991-10-28)', ' (2000-01-31)', ' (1987-06-24)', ' (1988-02-14)', ' (1992-05-20)', ' (1998-04-27)', ' (1998-10-05)', ' (1995-03-09)', ' (2001-04-26)', ' (1988-02-15)', ' (1994-04-12)', ' (1988-02-12)', ' (1998-12-24)', ' (1993-11-15)', ' (1997-08-22)', ' (1992-09-02)', ' (2001-01-17)', ' (1998-01-18)', ' (1998-04-06)']\n",
      "[' (1982-09-18)', ' (1991-08-29)', ' (1997-02-24)', ' (1997-10-24)', ' (1998-10-22)', ' (1998-09-07)', ' (1995-06-05)', ' (1997-01-03)', ' (1991-05-05)', ' (1997-11-25)', ' (1991-03-05)', ' (1987-07-03)', ' (1985-07-13)', ' (1995-06-15)', ' (1988-01-17)', ' (1990-04-19)', ' (1996-03-24)', ' (1986-09-28)', ' (1997-12-10)', ' (1992-11-18)', ' (1997-08-21)', ' (1995-07-30)', ' (1994-08-15)', ' (1996-01-15)', ' (1998-09-07)', ' (1999-01-15)']\n",
      "[' (1990-04-18)', ' (1997-08-07)', ' (1987-11-04)', ' (1997-02-11)', ' (1996-04-12)', ' (1998-01-04)', ' (1994-02-28)', ' (1995-06-16)', ' (1988-08-21)', ' (1990-01-29)', ' (1988-06-08)', ' (1991-05-05)', ' (2002-06-05)', ' (2000-02-15)', ' (1988-02-03)', ' (1997-01-23)', ' (1997-09-25)', ' (1992-07-12)', ' (1999-05-10)', ' (1994-05-20)', ' (2002-01-23)', ' (1999-01-08)', ' (1995-07-01)', ' (1995-04-12)', ' (1998-06-04)', ' (2000-02-15)']\n",
      "[' (1997-08-14)', ' (1994-05-06)', ' (1993-07-15)', ' (1997-01-15)', ' (1989-11-21)', ' (1992-09-15)', ' (1989-08-01)', ' (1994-10-11)', ' (2000-05-14)', ' (1991-08-19)', ' (1993-11-01)', ' (1999-07-18)', ' (1992-05-25)', ' (1992-08-03)', ' (1997-03-04)', ' (1997-02-07)', ' (1999-02-09)', ' (1990-01-26)', ' (1992-07-16)', ' (1995-06-01)', ' (1991-10-10)', ' (2000-05-10)', ' (1994-09-22)', ' (1998-12-19)', ' (2001-03-25)', ' (1993-04-28)']\n",
      "[' (1992-04-08)', ' (1994-04-28)', ' (1999-06-13)', ' (1998-06-24)', ' (1996-05-12)', ' (2001-08-23)', ' (1991-02-04)', ' (1992-07-28)', ' (1993-07-29)', ' (1996-07-05)', ' (1995-09-15)', ' (1989-01-13)', ' (1990-09-15)', ' (1998-11-02)', ' (1991-01-18)', ' (1990-12-16)', ' (1998-06-07)', ' (1985-03-27)', ' (1998-10-22)', ' (1997-03-20)', ' (2004-09-15)', ' (1993-03-07)', ' (1991-12-16)', ' (2000-10-30)', ' (1995-08-01)', ' (1998-06-07)']\n"
     ]
    },
    {
     "ename": "KeyboardInterrupt",
     "evalue": "",
     "output_type": "error",
     "traceback": [
      "\u001b[1;31m---------------------------------------------------------------------------\u001b[0m",
      "\u001b[1;31mKeyboardInterrupt\u001b[0m                         Traceback (most recent call last)",
      "File \u001b[1;32m<timed exec>:21\u001b[0m\n",
      "Cell \u001b[1;32mIn[27], line 2\u001b[0m, in \u001b[0;36mget_total_players_in_squad\u001b[1;34m(mySoup, index)\u001b[0m\n\u001b[0;32m      1\u001b[0m \u001b[38;5;28;01mdef\u001b[39;00m \u001b[38;5;21mget_total_players_in_squad\u001b[39m(mySoup, index):\n\u001b[1;32m----> 2\u001b[0m     totalRows \u001b[38;5;241m=\u001b[39m \u001b[38;5;28mlen\u001b[39m(\u001b[43mmySoup\u001b[49m\u001b[38;5;241;43m.\u001b[39;49m\u001b[43mfind_all\u001b[49m\u001b[43m(\u001b[49m\u001b[38;5;124;43m'\u001b[39;49m\u001b[38;5;124;43mtable\u001b[39;49m\u001b[38;5;124;43m'\u001b[39;49m\u001b[43m,\u001b[49m\u001b[43m \u001b[49m\u001b[43mclass_\u001b[49m\u001b[38;5;241;43m=\u001b[39;49m\u001b[38;5;124;43m\"\u001b[39;49m\u001b[38;5;124;43msortable wikitable plainrowheaders\u001b[39;49m\u001b[38;5;124;43m\"\u001b[39;49m\u001b[43m)\u001b[49m[index]\u001b[38;5;241m.\u001b[39mfind_all(\u001b[38;5;124m'\u001b[39m\u001b[38;5;124mtr\u001b[39m\u001b[38;5;124m'\u001b[39m)[\u001b[38;5;241m1\u001b[39m::\u001b[38;5;241m1\u001b[39m])\n\u001b[0;32m      3\u001b[0m     \u001b[38;5;28;01mreturn\u001b[39;00m totalRows\n",
      "File \u001b[1;32m~\\anaconda3\\envs\\Mundiales\\lib\\site-packages\\bs4\\element.py:1892\u001b[0m, in \u001b[0;36mTag.find_all\u001b[1;34m(self, name, attrs, recursive, string, limit, **kwargs)\u001b[0m\n\u001b[0;32m   1890\u001b[0m \u001b[38;5;28;01mif\u001b[39;00m \u001b[38;5;129;01mnot\u001b[39;00m recursive:\n\u001b[0;32m   1891\u001b[0m     generator \u001b[38;5;241m=\u001b[39m \u001b[38;5;28mself\u001b[39m\u001b[38;5;241m.\u001b[39mchildren\n\u001b[1;32m-> 1892\u001b[0m \u001b[38;5;28;01mreturn\u001b[39;00m \u001b[38;5;28mself\u001b[39m\u001b[38;5;241m.\u001b[39m_find_all(name, attrs, string, limit, generator, \u001b[38;5;241m*\u001b[39m\u001b[38;5;241m*\u001b[39mkwargs)\n",
      "File \u001b[1;32m~\\anaconda3\\envs\\Mundiales\\lib\\site-packages\\bs4\\element.py:823\u001b[0m, in \u001b[0;36mPageElement._find_all\u001b[1;34m(self, name, attrs, string, limit, generator, **kwargs)\u001b[0m\n\u001b[0;32m    821\u001b[0m \u001b[38;5;28;01mwhile\u001b[39;00m \u001b[38;5;28;01mTrue\u001b[39;00m:\n\u001b[0;32m    822\u001b[0m     \u001b[38;5;28;01mtry\u001b[39;00m:\n\u001b[1;32m--> 823\u001b[0m         i \u001b[38;5;241m=\u001b[39m \u001b[38;5;28;43mnext\u001b[39;49m\u001b[43m(\u001b[49m\u001b[43mgenerator\u001b[49m\u001b[43m)\u001b[49m\n\u001b[0;32m    824\u001b[0m     \u001b[38;5;28;01mexcept\u001b[39;00m \u001b[38;5;167;01mStopIteration\u001b[39;00m:\n\u001b[0;32m    825\u001b[0m         \u001b[38;5;28;01mbreak\u001b[39;00m\n",
      "File \u001b[1;32m~\\anaconda3\\envs\\Mundiales\\lib\\site-packages\\bs4\\element.py:1919\u001b[0m, in \u001b[0;36mTag.descendants\u001b[1;34m(self)\u001b[0m\n\u001b[0;32m   1917\u001b[0m \u001b[38;5;28;01mwhile\u001b[39;00m current \u001b[38;5;129;01mis\u001b[39;00m \u001b[38;5;129;01mnot\u001b[39;00m stopNode:\n\u001b[0;32m   1918\u001b[0m     \u001b[38;5;28;01myield\u001b[39;00m current\n\u001b[1;32m-> 1919\u001b[0m     current \u001b[38;5;241m=\u001b[39m \u001b[43mcurrent\u001b[49m\u001b[38;5;241;43m.\u001b[39;49m\u001b[43mnext_element\u001b[49m\n",
      "\u001b[1;31mKeyboardInterrupt\u001b[0m: "
     ]
    }
   ],
   "source": [
    "%%time\n",
    "squadsHystorical = filter_list(listA,subString, rootURL)\n",
    "for j in range(len(squadsHystorical)):\n",
    "    \n",
    "    soup = get_soup(squadsHystorical, j)\n",
    "    allSquadsTables = soup.find_all('table', class_=\"sortable wikitable plainrowheaders\")\n",
    "    wcKickOff = wcKickOffDates[j]\n",
    "    \n",
    "    if exists_replacement_table(allSquadsTables):\n",
    "        report_additional_tables(worldCupYears[j],allSquadsTables, additionalTablesList)\n",
    "        take_off_additional_tables(soup, allSquadsTables)\n",
    "        allSquadsTables = soup.find_all('table', class_=\"sortable wikitable plainrowheaders\")\n",
    "    \n",
    "    totalSquads = len(soup.find_all('table',{'class': 'sortable wikitable plainrowheaders'}))\n",
    "    listH3CountryNames = soup.find_all(\"h3\", limit = totalSquads)\n",
    "    listH2CountryNames = soup.find_all(\"span\", class_=\"mw-headline\", limit = totalSquads)\n",
    "    allSquadsTables = soup.find_all('table', class_=\"sortable wikitable plainrowheaders\")\n",
    "\n",
    "    for i in range(totalSquads):\n",
    "    \n",
    "        myTable = allSquadsTables[i]\n",
    "        totalRows =  get_total_players_in_squad(soup, i) \n",
    "    \n",
    "        tagsTuple = count_columns_in_tags(myTable)\n",
    "    \n",
    "        # get the number of columns inside the 'td' tags\n",
    "        columnsAsTdTags = tagsTuple[0]\n",
    "            \n",
    "        try:\n",
    "            listNationalTeams= get_listed_national_teams(listH3CountryNames, totalSquads)\n",
    "        except (IndexError):\n",
    "            listNationalTeams= get_listed_national_teams(listH2CountryNames, totalSquads)\n",
    "    \n",
    "        listOfBirthDays =  get_list_of_birthdays(myTable, totalRows)\n",
    "        print(listOfBirthDays)\n",
    "        listOfClubsOrigin = get_list_of_clubs_federations(myTable, totalRows)\n",
    "        \n",
    "        df = create_a_dataframe(str(myTable), listOfClubsOrigin, listOfBirthDays, wcKickOff, listNationalTeams[i])\n",
    "        \n",
    "#         df = pd.read_html(str(myTable))\n",
    "#         df = pd.concat(df)\n",
    "#         ########################################################### WCKickOff Parámetro día para el dataframe\n",
    "#         if 'Goals' not in df.columns:\n",
    "#             df.insert(5, 'Goals', np.nan)\n",
    "        \n",
    "#         df['Club Origin'] = listOfClubsOrigin\n",
    "#         df['Date of birth (age)'] = listOfBirthDays\n",
    "        \n",
    "#         df.insert(0, 'National Team', listNationalTeams[i])\n",
    "#         players = df.pop('Player')\n",
    "#         df.insert(0,'Player', players) \n",
    "        \n",
    "        #nameFile = (f'{worldCupYears[j]}_{listNationalTeams[i]}')           \n",
    "    \n",
    "        #df.to_csv(f'dataSets\\\\{listdir[j]}\\\\{nameFile}.csv', index=False)"
   ]
  },
  {
   "cell_type": "code",
   "execution_count": 51,
   "id": "30fb26b6",
   "metadata": {},
   "outputs": [
    {
     "data": {
      "text/html": [
       "<div>\n",
       "<style scoped>\n",
       "    .dataframe tbody tr th:only-of-type {\n",
       "        vertical-align: middle;\n",
       "    }\n",
       "\n",
       "    .dataframe tbody tr th {\n",
       "        vertical-align: top;\n",
       "    }\n",
       "\n",
       "    .dataframe thead th {\n",
       "        text-align: right;\n",
       "    }\n",
       "</style>\n",
       "<table border=\"1\" class=\"dataframe\">\n",
       "  <thead>\n",
       "    <tr style=\"text-align: right;\">\n",
       "      <th></th>\n",
       "      <th>Player</th>\n",
       "      <th>National Team</th>\n",
       "      <th>No.</th>\n",
       "      <th>Pos.</th>\n",
       "      <th>Date of birth (age)</th>\n",
       "      <th>Caps</th>\n",
       "      <th>Goals</th>\n",
       "      <th>Club</th>\n",
       "      <th>Club Origin</th>\n",
       "      <th>Date of Birth (age)</th>\n",
       "      <th>World Cup start date</th>\n",
       "    </tr>\n",
       "  </thead>\n",
       "  <tbody>\n",
       "    <tr>\n",
       "      <th>0</th>\n",
       "      <td>Mathew Ryan (captain)</td>\n",
       "      <td>Australia</td>\n",
       "      <td>1</td>\n",
       "      <td>GK</td>\n",
       "      <td>NaN</td>\n",
       "      <td>75</td>\n",
       "      <td>0</td>\n",
       "      <td>Copenhagen</td>\n",
       "      <td>Denmark</td>\n",
       "      <td>(1992-04-08)</td>\n",
       "      <td>1930-07-17</td>\n",
       "    </tr>\n",
       "    <tr>\n",
       "      <th>1</th>\n",
       "      <td>Miloš Degenek</td>\n",
       "      <td>Australia</td>\n",
       "      <td>2</td>\n",
       "      <td>DF</td>\n",
       "      <td>NaN</td>\n",
       "      <td>38</td>\n",
       "      <td>1</td>\n",
       "      <td>Columbus Crew</td>\n",
       "      <td>United States</td>\n",
       "      <td>(1994-04-28)</td>\n",
       "      <td>1930-07-17</td>\n",
       "    </tr>\n",
       "    <tr>\n",
       "      <th>2</th>\n",
       "      <td>Nathaniel Atkinson</td>\n",
       "      <td>Australia</td>\n",
       "      <td>3</td>\n",
       "      <td>DF</td>\n",
       "      <td>NaN</td>\n",
       "      <td>5</td>\n",
       "      <td>0</td>\n",
       "      <td>Heart of Midlothian</td>\n",
       "      <td>Scotland</td>\n",
       "      <td>(1999-06-13)</td>\n",
       "      <td>1930-07-17</td>\n",
       "    </tr>\n",
       "    <tr>\n",
       "      <th>3</th>\n",
       "      <td>Kye Rowles</td>\n",
       "      <td>Australia</td>\n",
       "      <td>4</td>\n",
       "      <td>DF</td>\n",
       "      <td>NaN</td>\n",
       "      <td>3</td>\n",
       "      <td>0</td>\n",
       "      <td>Heart of Midlothian</td>\n",
       "      <td>Scotland</td>\n",
       "      <td>(1998-06-24)</td>\n",
       "      <td>1930-07-17</td>\n",
       "    </tr>\n",
       "    <tr>\n",
       "      <th>4</th>\n",
       "      <td>Fran Karačić</td>\n",
       "      <td>Australia</td>\n",
       "      <td>5</td>\n",
       "      <td>DF</td>\n",
       "      <td>NaN</td>\n",
       "      <td>11</td>\n",
       "      <td>1</td>\n",
       "      <td>Brescia</td>\n",
       "      <td>Italy</td>\n",
       "      <td>(1996-05-12)</td>\n",
       "      <td>1930-07-17</td>\n",
       "    </tr>\n",
       "    <tr>\n",
       "      <th>5</th>\n",
       "      <td>Marco Tilio</td>\n",
       "      <td>Australia</td>\n",
       "      <td>6</td>\n",
       "      <td>FW</td>\n",
       "      <td>NaN</td>\n",
       "      <td>5</td>\n",
       "      <td>0</td>\n",
       "      <td>Melbourne City</td>\n",
       "      <td>Australia</td>\n",
       "      <td>(2001-08-23)</td>\n",
       "      <td>1930-07-17</td>\n",
       "    </tr>\n",
       "    <tr>\n",
       "      <th>6</th>\n",
       "      <td>Mathew Leckie</td>\n",
       "      <td>Australia</td>\n",
       "      <td>7</td>\n",
       "      <td>FW</td>\n",
       "      <td>NaN</td>\n",
       "      <td>73</td>\n",
       "      <td>13</td>\n",
       "      <td>Melbourne City</td>\n",
       "      <td>Australia</td>\n",
       "      <td>(1991-02-04)</td>\n",
       "      <td>1930-07-17</td>\n",
       "    </tr>\n",
       "    <tr>\n",
       "      <th>7</th>\n",
       "      <td>Bailey Wright</td>\n",
       "      <td>Australia</td>\n",
       "      <td>8</td>\n",
       "      <td>DF</td>\n",
       "      <td>NaN</td>\n",
       "      <td>27</td>\n",
       "      <td>2</td>\n",
       "      <td>Sunderland</td>\n",
       "      <td>England</td>\n",
       "      <td>(1992-07-28)</td>\n",
       "      <td>1930-07-17</td>\n",
       "    </tr>\n",
       "    <tr>\n",
       "      <th>8</th>\n",
       "      <td>Jamie Maclaren</td>\n",
       "      <td>Australia</td>\n",
       "      <td>9</td>\n",
       "      <td>FW</td>\n",
       "      <td>NaN</td>\n",
       "      <td>26</td>\n",
       "      <td>8</td>\n",
       "      <td>Melbourne City</td>\n",
       "      <td>Australia</td>\n",
       "      <td>(1993-07-29)</td>\n",
       "      <td>1930-07-17</td>\n",
       "    </tr>\n",
       "    <tr>\n",
       "      <th>9</th>\n",
       "      <td>Ajdin Hrustic</td>\n",
       "      <td>Australia</td>\n",
       "      <td>10</td>\n",
       "      <td>MF</td>\n",
       "      <td>NaN</td>\n",
       "      <td>20</td>\n",
       "      <td>3</td>\n",
       "      <td>Hellas Verona</td>\n",
       "      <td>Italy</td>\n",
       "      <td>(1996-07-05)</td>\n",
       "      <td>1930-07-17</td>\n",
       "    </tr>\n",
       "    <tr>\n",
       "      <th>10</th>\n",
       "      <td>Awer Mabil</td>\n",
       "      <td>Australia</td>\n",
       "      <td>11</td>\n",
       "      <td>FW</td>\n",
       "      <td>NaN</td>\n",
       "      <td>29</td>\n",
       "      <td>8</td>\n",
       "      <td>Cádiz</td>\n",
       "      <td>Spain</td>\n",
       "      <td>(1995-09-15)</td>\n",
       "      <td>1930-07-17</td>\n",
       "    </tr>\n",
       "    <tr>\n",
       "      <th>11</th>\n",
       "      <td>Andrew Redmayne</td>\n",
       "      <td>Australia</td>\n",
       "      <td>12</td>\n",
       "      <td>GK</td>\n",
       "      <td>NaN</td>\n",
       "      <td>4</td>\n",
       "      <td>0</td>\n",
       "      <td>Sydney FC</td>\n",
       "      <td>Australia</td>\n",
       "      <td>(1989-01-13)</td>\n",
       "      <td>1930-07-17</td>\n",
       "    </tr>\n",
       "    <tr>\n",
       "      <th>12</th>\n",
       "      <td>Aaron Mooy</td>\n",
       "      <td>Australia</td>\n",
       "      <td>13</td>\n",
       "      <td>MF</td>\n",
       "      <td>NaN</td>\n",
       "      <td>53</td>\n",
       "      <td>7</td>\n",
       "      <td>Celtic</td>\n",
       "      <td>Scotland</td>\n",
       "      <td>(1990-09-15)</td>\n",
       "      <td>1930-07-17</td>\n",
       "    </tr>\n",
       "    <tr>\n",
       "      <th>13</th>\n",
       "      <td>Riley McGree</td>\n",
       "      <td>Australia</td>\n",
       "      <td>14</td>\n",
       "      <td>MF</td>\n",
       "      <td>NaN</td>\n",
       "      <td>11</td>\n",
       "      <td>1</td>\n",
       "      <td>Middlesbrough</td>\n",
       "      <td>England</td>\n",
       "      <td>(1998-11-02)</td>\n",
       "      <td>1930-07-17</td>\n",
       "    </tr>\n",
       "    <tr>\n",
       "      <th>14</th>\n",
       "      <td>Mitchell Duke</td>\n",
       "      <td>Australia</td>\n",
       "      <td>15</td>\n",
       "      <td>FW</td>\n",
       "      <td>NaN</td>\n",
       "      <td>21</td>\n",
       "      <td>8</td>\n",
       "      <td>Fagiano Okayama</td>\n",
       "      <td>Japan</td>\n",
       "      <td>(1991-01-18)</td>\n",
       "      <td>1930-07-17</td>\n",
       "    </tr>\n",
       "    <tr>\n",
       "      <th>15</th>\n",
       "      <td>Aziz Behich</td>\n",
       "      <td>Australia</td>\n",
       "      <td>16</td>\n",
       "      <td>DF</td>\n",
       "      <td>NaN</td>\n",
       "      <td>53</td>\n",
       "      <td>2</td>\n",
       "      <td>Dundee United</td>\n",
       "      <td>Scotland</td>\n",
       "      <td>(1990-12-16)</td>\n",
       "      <td>1930-07-17</td>\n",
       "    </tr>\n",
       "    <tr>\n",
       "      <th>16</th>\n",
       "      <td>Cameron Devlin</td>\n",
       "      <td>Australia</td>\n",
       "      <td>17</td>\n",
       "      <td>MF</td>\n",
       "      <td>NaN</td>\n",
       "      <td>1</td>\n",
       "      <td>0</td>\n",
       "      <td>Heart of Midlothian</td>\n",
       "      <td>Scotland</td>\n",
       "      <td>(1998-06-07)</td>\n",
       "      <td>1930-07-17</td>\n",
       "    </tr>\n",
       "    <tr>\n",
       "      <th>17</th>\n",
       "      <td>Danny Vukovic</td>\n",
       "      <td>Australia</td>\n",
       "      <td>18</td>\n",
       "      <td>GK</td>\n",
       "      <td>NaN</td>\n",
       "      <td>4</td>\n",
       "      <td>0</td>\n",
       "      <td>Central Coast Mariners</td>\n",
       "      <td>Australia</td>\n",
       "      <td>(1985-03-27)</td>\n",
       "      <td>1930-07-17</td>\n",
       "    </tr>\n",
       "    <tr>\n",
       "      <th>18</th>\n",
       "      <td>Harry Souttar</td>\n",
       "      <td>Australia</td>\n",
       "      <td>19</td>\n",
       "      <td>DF</td>\n",
       "      <td>NaN</td>\n",
       "      <td>10</td>\n",
       "      <td>6</td>\n",
       "      <td>Stoke City</td>\n",
       "      <td>England</td>\n",
       "      <td>(1998-10-22)</td>\n",
       "      <td>1930-07-17</td>\n",
       "    </tr>\n",
       "    <tr>\n",
       "      <th>19</th>\n",
       "      <td>Thomas Deng</td>\n",
       "      <td>Australia</td>\n",
       "      <td>20</td>\n",
       "      <td>DF</td>\n",
       "      <td>NaN</td>\n",
       "      <td>2</td>\n",
       "      <td>0</td>\n",
       "      <td>Albirex Niigata</td>\n",
       "      <td>Japan</td>\n",
       "      <td>(1997-03-20)</td>\n",
       "      <td>1930-07-17</td>\n",
       "    </tr>\n",
       "    <tr>\n",
       "      <th>20</th>\n",
       "      <td>Garang Kuol</td>\n",
       "      <td>Australia</td>\n",
       "      <td>21</td>\n",
       "      <td>FW</td>\n",
       "      <td>NaN</td>\n",
       "      <td>1</td>\n",
       "      <td>0</td>\n",
       "      <td>Central Coast Mariners</td>\n",
       "      <td>Australia</td>\n",
       "      <td>(2004-09-15)</td>\n",
       "      <td>1930-07-17</td>\n",
       "    </tr>\n",
       "    <tr>\n",
       "      <th>21</th>\n",
       "      <td>Jackson Irvine</td>\n",
       "      <td>Australia</td>\n",
       "      <td>22</td>\n",
       "      <td>MF</td>\n",
       "      <td>NaN</td>\n",
       "      <td>49</td>\n",
       "      <td>7</td>\n",
       "      <td>FC St. Pauli</td>\n",
       "      <td>Germany</td>\n",
       "      <td>(1993-03-07)</td>\n",
       "      <td>1930-07-17</td>\n",
       "    </tr>\n",
       "    <tr>\n",
       "      <th>22</th>\n",
       "      <td>Craig Goodwin</td>\n",
       "      <td>Australia</td>\n",
       "      <td>23</td>\n",
       "      <td>FW</td>\n",
       "      <td>NaN</td>\n",
       "      <td>10</td>\n",
       "      <td>1</td>\n",
       "      <td>Adelaide United</td>\n",
       "      <td>Australia</td>\n",
       "      <td>(1991-12-16)</td>\n",
       "      <td>1930-07-17</td>\n",
       "    </tr>\n",
       "    <tr>\n",
       "      <th>23</th>\n",
       "      <td>Joel King</td>\n",
       "      <td>Australia</td>\n",
       "      <td>24</td>\n",
       "      <td>DF</td>\n",
       "      <td>NaN</td>\n",
       "      <td>4</td>\n",
       "      <td>0</td>\n",
       "      <td>OB</td>\n",
       "      <td>Denmark</td>\n",
       "      <td>(2000-10-30)</td>\n",
       "      <td>1930-07-17</td>\n",
       "    </tr>\n",
       "    <tr>\n",
       "      <th>24</th>\n",
       "      <td>Jason Cummings</td>\n",
       "      <td>Australia</td>\n",
       "      <td>25</td>\n",
       "      <td>FW</td>\n",
       "      <td>NaN</td>\n",
       "      <td>1</td>\n",
       "      <td>1</td>\n",
       "      <td>Central Coast Mariners</td>\n",
       "      <td>Australia</td>\n",
       "      <td>(1995-08-01)</td>\n",
       "      <td>1930-07-17</td>\n",
       "    </tr>\n",
       "    <tr>\n",
       "      <th>25</th>\n",
       "      <td>Keanu Baccus</td>\n",
       "      <td>Australia</td>\n",
       "      <td>26</td>\n",
       "      <td>MF</td>\n",
       "      <td>NaN</td>\n",
       "      <td>1</td>\n",
       "      <td>0</td>\n",
       "      <td>St Mirren</td>\n",
       "      <td>Scotland</td>\n",
       "      <td>(1998-06-07)</td>\n",
       "      <td>1930-07-17</td>\n",
       "    </tr>\n",
       "  </tbody>\n",
       "</table>\n",
       "</div>"
      ],
      "text/plain": [
       "                   Player National Team  No. Pos.  Date of birth (age)  Caps  \\\n",
       "0   Mathew Ryan (captain)     Australia    1   GK                  NaN    75   \n",
       "1           Miloš Degenek     Australia    2   DF                  NaN    38   \n",
       "2      Nathaniel Atkinson     Australia    3   DF                  NaN     5   \n",
       "3              Kye Rowles     Australia    4   DF                  NaN     3   \n",
       "4            Fran Karačić     Australia    5   DF                  NaN    11   \n",
       "5             Marco Tilio     Australia    6   FW                  NaN     5   \n",
       "6           Mathew Leckie     Australia    7   FW                  NaN    73   \n",
       "7           Bailey Wright     Australia    8   DF                  NaN    27   \n",
       "8          Jamie Maclaren     Australia    9   FW                  NaN    26   \n",
       "9           Ajdin Hrustic     Australia   10   MF                  NaN    20   \n",
       "10             Awer Mabil     Australia   11   FW                  NaN    29   \n",
       "11        Andrew Redmayne     Australia   12   GK                  NaN     4   \n",
       "12             Aaron Mooy     Australia   13   MF                  NaN    53   \n",
       "13           Riley McGree     Australia   14   MF                  NaN    11   \n",
       "14          Mitchell Duke     Australia   15   FW                  NaN    21   \n",
       "15            Aziz Behich     Australia   16   DF                  NaN    53   \n",
       "16         Cameron Devlin     Australia   17   MF                  NaN     1   \n",
       "17          Danny Vukovic     Australia   18   GK                  NaN     4   \n",
       "18          Harry Souttar     Australia   19   DF                  NaN    10   \n",
       "19            Thomas Deng     Australia   20   DF                  NaN     2   \n",
       "20            Garang Kuol     Australia   21   FW                  NaN     1   \n",
       "21         Jackson Irvine     Australia   22   MF                  NaN    49   \n",
       "22          Craig Goodwin     Australia   23   FW                  NaN    10   \n",
       "23              Joel King     Australia   24   DF                  NaN     4   \n",
       "24         Jason Cummings     Australia   25   FW                  NaN     1   \n",
       "25           Keanu Baccus     Australia   26   MF                  NaN     1   \n",
       "\n",
       "    Goals                    Club    Club Origin Date of Birth (age)  \\\n",
       "0       0              Copenhagen        Denmark        (1992-04-08)   \n",
       "1       1           Columbus Crew  United States        (1994-04-28)   \n",
       "2       0     Heart of Midlothian       Scotland        (1999-06-13)   \n",
       "3       0     Heart of Midlothian       Scotland        (1998-06-24)   \n",
       "4       1                 Brescia          Italy        (1996-05-12)   \n",
       "5       0          Melbourne City      Australia        (2001-08-23)   \n",
       "6      13          Melbourne City      Australia        (1991-02-04)   \n",
       "7       2              Sunderland        England        (1992-07-28)   \n",
       "8       8          Melbourne City      Australia        (1993-07-29)   \n",
       "9       3           Hellas Verona          Italy        (1996-07-05)   \n",
       "10      8                   Cádiz          Spain        (1995-09-15)   \n",
       "11      0               Sydney FC      Australia        (1989-01-13)   \n",
       "12      7                  Celtic       Scotland        (1990-09-15)   \n",
       "13      1           Middlesbrough        England        (1998-11-02)   \n",
       "14      8         Fagiano Okayama          Japan        (1991-01-18)   \n",
       "15      2           Dundee United       Scotland        (1990-12-16)   \n",
       "16      0     Heart of Midlothian       Scotland        (1998-06-07)   \n",
       "17      0  Central Coast Mariners      Australia        (1985-03-27)   \n",
       "18      6              Stoke City        England        (1998-10-22)   \n",
       "19      0         Albirex Niigata          Japan        (1997-03-20)   \n",
       "20      0  Central Coast Mariners      Australia        (2004-09-15)   \n",
       "21      7            FC St. Pauli        Germany        (1993-03-07)   \n",
       "22      1         Adelaide United      Australia        (1991-12-16)   \n",
       "23      0                      OB        Denmark        (2000-10-30)   \n",
       "24      1  Central Coast Mariners      Australia        (1995-08-01)   \n",
       "25      0               St Mirren       Scotland        (1998-06-07)   \n",
       "\n",
       "   World Cup start date  \n",
       "0            1930-07-17  \n",
       "1            1930-07-17  \n",
       "2            1930-07-17  \n",
       "3            1930-07-17  \n",
       "4            1930-07-17  \n",
       "5            1930-07-17  \n",
       "6            1930-07-17  \n",
       "7            1930-07-17  \n",
       "8            1930-07-17  \n",
       "9            1930-07-17  \n",
       "10           1930-07-17  \n",
       "11           1930-07-17  \n",
       "12           1930-07-17  \n",
       "13           1930-07-17  \n",
       "14           1930-07-17  \n",
       "15           1930-07-17  \n",
       "16           1930-07-17  \n",
       "17           1930-07-17  \n",
       "18           1930-07-17  \n",
       "19           1930-07-17  \n",
       "20           1930-07-17  \n",
       "21           1930-07-17  \n",
       "22           1930-07-17  \n",
       "23           1930-07-17  \n",
       "24           1930-07-17  \n",
       "25           1930-07-17  "
      ]
     },
     "execution_count": 51,
     "metadata": {},
     "output_type": "execute_result"
    }
   ],
   "source": [
    "df"
   ]
  },
  {
   "cell_type": "code",
   "execution_count": 25,
   "id": "1e1f5cb0-c894-4529-8f31-82a2f0e43350",
   "metadata": {},
   "outputs": [
    {
     "data": {
      "text/plain": [
       "[(1990, 5), (1990, 23)]"
      ]
     },
     "execution_count": 25,
     "metadata": {},
     "output_type": "execute_result"
    }
   ],
   "source": [
    "additionalTablesList"
   ]
  },
  {
   "cell_type": "code",
   "execution_count": 26,
   "id": "cefda6c9-76a6-410f-bec0-cad2e93ab464",
   "metadata": {},
   "outputs": [],
   "source": [
    "os.makedirs(f'errors', exist_ok=True)"
   ]
  },
  {
   "cell_type": "code",
   "execution_count": 27,
   "id": "e07de768-8ef7-4307-b2c1-3a091ad33afb",
   "metadata": {},
   "outputs": [],
   "source": [
    "with open(\"errors\\\\additionalTables.txt\", \"w\") as output:\n",
    "    output.write(str(additionalTablesList))"
   ]
  },
  {
   "cell_type": "code",
   "execution_count": 28,
   "id": "0db24a00-2af7-4d15-9fbd-dd88e4c7a495",
   "metadata": {},
   "outputs": [
    {
     "name": "stdout",
     "output_type": "stream",
     "text": [
      "[(1990, 5), (1990, 23)]\n"
     ]
    }
   ],
   "source": [
    "f = open(\"errors\\\\additionalTables.txt\", \"r\")\n",
    "print(f.readline())"
   ]
  },
  {
   "cell_type": "code",
   "execution_count": null,
   "id": "f286f42d",
   "metadata": {},
   "outputs": [],
   "source": []
  }
 ],
 "metadata": {
  "kernelspec": {
   "display_name": "Python 3 (ipykernel)",
   "language": "python",
   "name": "python3"
  },
  "language_info": {
   "codemirror_mode": {
    "name": "ipython",
    "version": 3
   },
   "file_extension": ".py",
   "mimetype": "text/x-python",
   "name": "python",
   "nbconvert_exporter": "python",
   "pygments_lexer": "ipython3",
   "version": "3.9.15"
  }
 },
 "nbformat": 4,
 "nbformat_minor": 5
}
