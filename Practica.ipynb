{
 "cells": [
  {
   "cell_type": "code",
   "execution_count": 1,
   "id": "ebeb3f50",
   "metadata": {},
   "outputs": [],
   "source": [
    "import requests\n",
    "from bs4 import BeautifulSoup\n",
    "import pandas as pd"
   ]
  },
  {
   "cell_type": "markdown",
   "id": "f7c73676",
   "metadata": {},
   "source": [
    "[BeautifulSoup](https://beautiful-soup-4.readthedocs.io/en/latest/) documentation"
   ]
  },
  {
   "cell_type": "code",
   "execution_count": 2,
   "id": "5aa709d3",
   "metadata": {},
   "outputs": [
    {
     "name": "stdout",
     "output_type": "stream",
     "text": [
      "<!DOCTYPE html>\n",
      "\n",
      "<html>\n",
      "<head>\n",
      "<meta charset=\"utf-8\"/>\n",
      "<title>Mi titulo</title>\n",
      "</head>\n",
      "<body bgcolor=\"FFFFFF\">\n",
      "<center><img align=\"bottom\" src=\"miFoto.jpg\"/></center>\n",
      "<hr/>\n",
      "<a href=\"http://wikipedia.org\">Wikipedia</a>\n",
      "\n",
      "\t\tun link a otro lindo sitio\n",
      "\t<h1>Header h1</h1>\n",
      "<h2>Header h2</h2>\n",
      "\n",
      "\t\tenviame un mail a <a ==\"\" href=\"mailto:support@tutia.com\">support mail</a>\n",
      "<p> un parrafo</p>\n",
      "<p> <b><i>Esta es una nueva oracion en italica y negrita sin un break de parrafo</i></b></p>\n",
      "<hr/>\n",
      "</body>\n",
      "</html>\n"
     ]
    }
   ],
   "source": [
    "with open(\"index.html\", \"r\") as f:                # create a handle\n",
    "    doc = BeautifulSoup(f, \"html.parser\")         # choose a parser\n",
    "\n",
    "print(doc)    "
   ]
  },
  {
   "cell_type": "code",
   "execution_count": 1,
   "id": "f96aef4c",
   "metadata": {},
   "outputs": [],
   "source": [
    "print(doc.prettify(formatter=\"html\"))"
   ]
  },
  {
   "cell_type": "code",
   "execution_count": 4,
   "id": "7ff4599a",
   "metadata": {},
   "outputs": [],
   "source": [
    "tag = doc.title"
   ]
  },
  {
   "cell_type": "code",
   "execution_count": 5,
   "id": "be0d2385",
   "metadata": {},
   "outputs": [
    {
     "name": "stdout",
     "output_type": "stream",
     "text": [
      "<title>Mi titulo</title>\n"
     ]
    }
   ],
   "source": [
    "print(tag)"
   ]
  },
  {
   "cell_type": "code",
   "execution_count": 6,
   "id": "a79d5e5e",
   "metadata": {},
   "outputs": [
    {
     "name": "stdout",
     "output_type": "stream",
     "text": [
      "Mi titulo\n",
      "Mi titulo\n"
     ]
    }
   ],
   "source": [
    "print(tag.string)\n",
    "print(tag.text)"
   ]
  },
  {
   "cell_type": "code",
   "execution_count": 7,
   "id": "c51a925e",
   "metadata": {},
   "outputs": [],
   "source": [
    "# Puedo cambiarle el valor al tag, pero como es de esperar no modifica el archivo original"
   ]
  },
  {
   "cell_type": "code",
   "execution_count": 8,
   "id": "7be415e4",
   "metadata": {},
   "outputs": [],
   "source": [
    "tag.string = 'Hola'"
   ]
  },
  {
   "cell_type": "code",
   "execution_count": 9,
   "id": "2e135736",
   "metadata": {},
   "outputs": [
    {
     "data": {
      "text/plain": [
       "'Hola'"
      ]
     },
     "execution_count": 9,
     "metadata": {},
     "output_type": "execute_result"
    }
   ],
   "source": [
    "tag.string"
   ]
  },
  {
   "cell_type": "code",
   "execution_count": 10,
   "id": "909aed11",
   "metadata": {},
   "outputs": [
    {
     "data": {
      "text/plain": [
       "<a href=\"http://wikipedia.org\">Wikipedia</a>"
      ]
     },
     "execution_count": 10,
     "metadata": {},
     "output_type": "execute_result"
    }
   ],
   "source": [
    "tag = doc.find('a')  # encuentra solo el primer tag de este tipo\n",
    "tag"
   ]
  },
  {
   "cell_type": "code",
   "execution_count": 11,
   "id": "a125f72f",
   "metadata": {},
   "outputs": [
    {
     "data": {
      "text/plain": [
       "[<p> un parrafo</p>,\n",
       " <p> <b><i>Esta es una nueva oracion en italica y negrita sin un break de parrafo</i></b></p>]"
      ]
     },
     "execution_count": 11,
     "metadata": {},
     "output_type": "execute_result"
    }
   ],
   "source": [
    "tags = doc.find_all('p') # me da un objeto que se comporta como un set\n",
    "tags"
   ]
  },
  {
   "cell_type": "code",
   "execution_count": 12,
   "id": "dfa842bd",
   "metadata": {},
   "outputs": [
    {
     "data": {
      "text/plain": [
       "<p> <b><i>Esta es una nueva oracion en italica y negrita sin un break de parrafo</i></b></p>"
      ]
     },
     "execution_count": 12,
     "metadata": {},
     "output_type": "execute_result"
    }
   ],
   "source": [
    "tags[1] # puedo seleccionar los diferentes elementos que encontré"
   ]
  },
  {
   "cell_type": "code",
   "execution_count": 13,
   "id": "e487ce95",
   "metadata": {},
   "outputs": [
    {
     "data": {
      "text/plain": [
       "[<b><i>Esta es una nueva oracion en italica y negrita sin un break de parrafo</i></b>]"
      ]
     },
     "execution_count": 13,
     "metadata": {},
     "output_type": "execute_result"
    }
   ],
   "source": [
    "tags[1].find_all('b') # puedo buscar tags anidados"
   ]
  },
  {
   "cell_type": "code",
   "execution_count": 14,
   "id": "35e2a219",
   "metadata": {},
   "outputs": [],
   "source": [
    "import requests"
   ]
  },
  {
   "cell_type": "code",
   "execution_count": 15,
   "id": "5c125d8a",
   "metadata": {},
   "outputs": [],
   "source": [
    "url = 'https://www.newegg.ca/gigabyte-geforce-rtx-3080-ti-gv-n308tgaming-oc-12gd/p/N82E16814932436?Description=3080&cm_re=3080-_-14-932-436-_-Product'"
   ]
  },
  {
   "cell_type": "code",
   "execution_count": 16,
   "id": "1c0a71be",
   "metadata": {},
   "outputs": [],
   "source": [
    "result = requests.get(url)"
   ]
  },
  {
   "cell_type": "code",
   "execution_count": 2,
   "id": "97933b3d",
   "metadata": {},
   "outputs": [],
   "source": [
    "print(result.text)"
   ]
  },
  {
   "cell_type": "code",
   "execution_count": 18,
   "id": "50e27b92",
   "metadata": {},
   "outputs": [],
   "source": [
    "doc = BeautifulSoup(result.text, 'html.parser')"
   ]
  },
  {
   "cell_type": "code",
   "execution_count": 3,
   "id": "5db8a15b",
   "metadata": {},
   "outputs": [],
   "source": [
    "print(doc.prettify())"
   ]
  },
  {
   "cell_type": "code",
   "execution_count": 20,
   "id": "ef2c124b",
   "metadata": {},
   "outputs": [],
   "source": [
    "prices = doc.find_all(text='$') # No solo se puede buscar tags, también texto"
   ]
  },
  {
   "cell_type": "code",
   "execution_count": 21,
   "id": "05c04ca3",
   "metadata": {},
   "outputs": [
    {
     "name": "stdout",
     "output_type": "stream",
     "text": [
      "['$']\n"
     ]
    }
   ],
   "source": [
    "print(prices)"
   ]
  },
  {
   "cell_type": "markdown",
   "id": "46fbbc1c",
   "metadata": {},
   "source": [
    "el precio tiene que verse algo así como __$xxxx__ o similar. Lo importante es que ya encontré el símbolo, si encuentro el tag padre de ese símbolo, puedo volver a bajar y encontrar todo el texto."
   ]
  },
  {
   "cell_type": "code",
   "execution_count": 22,
   "id": "fedc07fa",
   "metadata": {},
   "outputs": [
    {
     "data": {
      "text/plain": [
       "<li class=\"price-current\"><span class=\"price-current-label\"></span>$<strong>1,299</strong><sup>.99</sup></li>"
      ]
     },
     "execution_count": 22,
     "metadata": {},
     "output_type": "execute_result"
    }
   ],
   "source": [
    "priceParent = prices[0].parent\n",
    "priceParent"
   ]
  },
  {
   "cell_type": "code",
   "execution_count": 23,
   "id": "db9a81b9",
   "metadata": {},
   "outputs": [
    {
     "data": {
      "text/plain": [
       "'1,299'"
      ]
     },
     "execution_count": 23,
     "metadata": {},
     "output_type": "execute_result"
    }
   ],
   "source": [
    "precio = priceParent.find('strong').text\n",
    "precio"
   ]
  },
  {
   "cell_type": "markdown",
   "id": "90541a92",
   "metadata": {},
   "source": [
    "## Vamos de nuevo con un archivo local"
   ]
  },
  {
   "cell_type": "code",
   "execution_count": 24,
   "id": "e1d3287b",
   "metadata": {},
   "outputs": [],
   "source": [
    "import re"
   ]
  },
  {
   "cell_type": "code",
   "execution_count": 25,
   "id": "cebc01e0",
   "metadata": {},
   "outputs": [],
   "source": [
    "with open('index2.html','r') as f:\n",
    "    doc = BeautifulSoup(f,\"html.parser\")"
   ]
  },
  {
   "cell_type": "code",
   "execution_count": 26,
   "id": "f5c6bf04",
   "metadata": {},
   "outputs": [],
   "source": [
    "tags = doc.find_all(['p','div','li']) # puedo buscar varios tags al mismo tiempo"
   ]
  },
  {
   "cell_type": "code",
   "execution_count": 27,
   "id": "5e313164",
   "metadata": {},
   "outputs": [],
   "source": [
    "#print(tags)"
   ]
  },
  {
   "cell_type": "code",
   "execution_count": 28,
   "id": "c7bd28fe",
   "metadata": {},
   "outputs": [],
   "source": [
    "# puedo buscar tags que tengan ciertos valores\n",
    "tags = doc.find_all(['option'], text=\"Undergraduate\", value = 'undergraduate')"
   ]
  },
  {
   "cell_type": "code",
   "execution_count": 29,
   "id": "b773936b",
   "metadata": {},
   "outputs": [
    {
     "data": {
      "text/plain": [
       "[<option value=\"undergraduate\">Undergraduate</option>]"
      ]
     },
     "execution_count": 29,
     "metadata": {},
     "output_type": "execute_result"
    }
   ],
   "source": [
    "tags"
   ]
  },
  {
   "cell_type": "code",
   "execution_count": 30,
   "id": "9678741a",
   "metadata": {},
   "outputs": [
    {
     "name": "stdout",
     "output_type": "stream",
     "text": [
      "<select>\n",
      "<option selected=\"\" value=\"course-type\">Course type*</option>\n",
      "<option value=\"short-courses\">Short courses</option>\n",
      "<option value=\"featured-courses\">Featured courses</option>\n",
      "<option value=\"undergraduate\">Undergraduate</option>\n",
      "<option value=\"diploma\">Diploma</option>\n",
      "<option value=\"certificate\">Certificate</option>\n",
      "<option value=\"masters-degree\">Masters degree</option>\n",
      "<option value=\"postgraduate\">Postgraduate</option>\n",
      "</select>\n"
     ]
    }
   ],
   "source": [
    "print(tags[0].parent)"
   ]
  },
  {
   "cell_type": "code",
   "execution_count": 31,
   "id": "acf0729a",
   "metadata": {},
   "outputs": [],
   "source": [
    "# Puedo buscar por clases "
   ]
  },
  {
   "cell_type": "code",
   "execution_count": 32,
   "id": "e546daad",
   "metadata": {},
   "outputs": [],
   "source": [
    "tags = doc.find_all(class_=\"btn-item\")"
   ]
  },
  {
   "cell_type": "code",
   "execution_count": 33,
   "id": "d8261264",
   "metadata": {},
   "outputs": [
    {
     "data": {
      "text/plain": [
       "[<a class=\"btn-item\" href=\"https://www.w3docs.com/learn-html.html\">Learn HTML</a>,\n",
       " <a class=\"btn-item\" href=\"https://www.w3docs.com/quiz/#\">Select Quiz</a>]"
      ]
     },
     "execution_count": 33,
     "metadata": {},
     "output_type": "execute_result"
    }
   ],
   "source": [
    "tags"
   ]
  },
  {
   "cell_type": "markdown",
   "id": "6d9acd22",
   "metadata": {},
   "source": [
    "#### usemos regex"
   ]
  },
  {
   "cell_type": "code",
   "execution_count": 34,
   "id": "bcbd46ab",
   "metadata": {},
   "outputs": [],
   "source": [
    "tags = doc.find_all(text= re.compile(\"\\$.*\") )"
   ]
  },
  {
   "cell_type": "code",
   "execution_count": 35,
   "id": "e5008f1f",
   "metadata": {},
   "outputs": [
    {
     "data": {
      "text/plain": [
       "['\\n        $2345\\n      ', '\\n        $123\\n        ']"
      ]
     },
     "execution_count": 35,
     "metadata": {},
     "output_type": "execute_result"
    }
   ],
   "source": [
    "tags"
   ]
  },
  {
   "cell_type": "code",
   "execution_count": 36,
   "id": "8cc15493",
   "metadata": {},
   "outputs": [
    {
     "name": "stdout",
     "output_type": "stream",
     "text": [
      "$2345\n",
      "$123\n"
     ]
    }
   ],
   "source": [
    "for tag in tags:\n",
    "    print(tag.strip())"
   ]
  },
  {
   "cell_type": "markdown",
   "id": "5667a45a",
   "metadata": {},
   "source": [
    "#### Limitar el número de elementos que quiero encontrar"
   ]
  },
  {
   "cell_type": "code",
   "execution_count": 37,
   "id": "346d7766",
   "metadata": {},
   "outputs": [],
   "source": [
    "tags = doc.find_all(text=re.compile(\"\\$.*\"), limit = 1)"
   ]
  },
  {
   "cell_type": "code",
   "execution_count": null,
   "id": "5fa6fc02",
   "metadata": {},
   "outputs": [],
   "source": []
  },
  {
   "cell_type": "markdown",
   "id": "ad239cd1",
   "metadata": {},
   "source": [
    "## Navegar a través del árbol HTML"
   ]
  },
  {
   "cell_type": "code",
   "execution_count": 38,
   "id": "b391a8f4",
   "metadata": {},
   "outputs": [],
   "source": [
    "url = 'https://coinmarketcap.com/'\n",
    "reqs = requests.get(url)\n",
    "doc = BeautifulSoup(reqs.text, 'html.parser')"
   ]
  },
  {
   "cell_type": "code",
   "execution_count": 39,
   "id": "952daddc",
   "metadata": {},
   "outputs": [],
   "source": [
    "tbody = doc.tbody"
   ]
  },
  {
   "cell_type": "code",
   "execution_count": 4,
   "id": "a3de907f",
   "metadata": {},
   "outputs": [],
   "source": [
    "print(tbody)"
   ]
  },
  {
   "cell_type": "markdown",
   "id": "4597a828",
   "metadata": {},
   "source": [
    "**El tag tbody( cuerpo de una tabla) es padre de un montón de tags tr(table row).** \n",
    "\n",
    "**Para acceder a cada uno de ellos puedo hacerlo usando el método next_sibling()**\n",
    "\n",
    "**Me puedo desplazar entre siblings aunque no sean del mismo tipo de tag**"
   ]
  },
  {
   "cell_type": "code",
   "execution_count": 5,
   "id": "8bf9b8b5",
   "metadata": {},
   "outputs": [],
   "source": [
    "# trs tiene todos los tags hijos de tbody\n",
    "# los métodos siguientes son equivalentes .contents, .children\n",
    "# creo que descendants va toooda la línea hacia abajo del arbol\n",
    "trs = tbody.contents # sirve para ver el contenido\n",
    "trs"
   ]
  },
  {
   "cell_type": "code",
   "execution_count": 42,
   "id": "93e3d510",
   "metadata": {},
   "outputs": [
    {
     "data": {
      "text/plain": [
       "'Bitcoin1BTC'"
      ]
     },
     "execution_count": 42,
     "metadata": {},
     "output_type": "execute_result"
    }
   ],
   "source": [
    "# veamos el primer elemento\n",
    "trs[0].a.text"
   ]
  },
  {
   "cell_type": "code",
   "execution_count": 43,
   "id": "65e1cb9a",
   "metadata": {},
   "outputs": [],
   "source": [
    "# veamos ahora el siguiente del primero\n",
    "trs1 = trs[0].next_sibling.a.text"
   ]
  },
  {
   "cell_type": "code",
   "execution_count": 44,
   "id": "0e5a2139",
   "metadata": {},
   "outputs": [
    {
     "data": {
      "text/plain": [
       "'Ethereum2ETH'"
      ]
     },
     "execution_count": 44,
     "metadata": {},
     "output_type": "execute_result"
    }
   ],
   "source": [
    "trs1"
   ]
  },
  {
   "cell_type": "code",
   "execution_count": 45,
   "id": "c91b109a",
   "metadata": {},
   "outputs": [
    {
     "data": {
      "text/plain": [
       "'Bitcoin1BTC'"
      ]
     },
     "execution_count": 45,
     "metadata": {},
     "output_type": "execute_result"
    }
   ],
   "source": [
    "# Ahora posicionémonos en el segundo elemento y retrocedamos\n",
    "trs[1].previous_sibling.a.text"
   ]
  },
  {
   "cell_type": "code",
   "execution_count": 46,
   "id": "bf369fe7",
   "metadata": {},
   "outputs": [
    {
     "name": "stdout",
     "output_type": "stream",
     "text": [
      "Hay un total de 100 hijos. \n",
      "Hay 9 después del elemento 91\n"
     ]
    }
   ],
   "source": [
    "# Obtener todos los siblings siguientes\n",
    "hijos = len(trs)\n",
    "hijosSiguientes = list((trs[90].next_siblings))\n",
    "print(f'Hay un total de {hijos} hijos. \\nHay {len(hijosSiguientes)} después del elemento 91')"
   ]
  },
  {
   "cell_type": "markdown",
   "id": "cfef4e2e",
   "metadata": {},
   "source": [
    "#### Ahora volvamos al padre"
   ]
  },
  {
   "cell_type": "code",
   "execution_count": 47,
   "id": "f583c0cb",
   "metadata": {},
   "outputs": [
    {
     "data": {
      "text/plain": [
       "'tbody'"
      ]
     },
     "execution_count": 47,
     "metadata": {},
     "output_type": "execute_result"
    }
   ],
   "source": [
    "trs[0].parent.name"
   ]
  },
  {
   "cell_type": "code",
   "execution_count": 48,
   "id": "ccae921e",
   "metadata": {},
   "outputs": [],
   "source": [
    "prices = {}"
   ]
  },
  {
   "cell_type": "code",
   "execution_count": 6,
   "id": "7145c3d7",
   "metadata": {},
   "outputs": [],
   "source": [
    "for tr in trs:\n",
    "    for td in tr.contents[2:4]:   # revisé como se ve, solo quiero el 2do y 3er td, nombre y precio\n",
    "        print(f'{td}\\n')"
   ]
  },
  {
   "cell_type": "code",
   "execution_count": 54,
   "id": "a1717418",
   "metadata": {},
   "outputs": [],
   "source": [
    "# vamos a hacerle un cambio al for interno porque ya vi que info tengo\n",
    "# voy a declarar el el elemnto tr.contents[2] como nombre y el elemento tr.contents[3] como precio\n",
    "# tr.contents[2:4] (la diferencia entre :4] y [3] es por la sintaxis de python)"
   ]
  },
  {
   "cell_type": "code",
   "execution_count": 60,
   "id": "2ad3ba75",
   "metadata": {},
   "outputs": [
    {
     "name": "stdout",
     "output_type": "stream",
     "text": [
      "$17,428.44\n",
      "$1,333.69\n",
      "$1.00\n",
      "$277.67\n",
      "$1.00\n",
      "$0.3628\n",
      "$0.9999\n",
      "$0.3137\n",
      "$0.07654\n",
      "$0.8582\n"
     ]
    }
   ],
   "source": [
    "for tr in trs[:10]:\n",
    "    name, price = tr.contents[2:4]\n",
    "    print(price.span.text)     # El nombre está dentro de un tag p =>> name.p.text\n",
    "                               # El precio está dentro de un span q está dentro de un a"
   ]
  },
  {
   "cell_type": "code",
   "execution_count": 63,
   "id": "0919acdc",
   "metadata": {},
   "outputs": [],
   "source": [
    "# paso final en mi for:\n",
    "for tr in trs[:10]:\n",
    "    name, price = tr.contents[2:4]\n",
    "    cleanedName = name.p.text\n",
    "    cleanedPrice = price.span.text\n",
    "    # Guardar las variables en un diccionario\n",
    "    prices[cleanedName] = cleanedPrice     # Asignación key: value"
   ]
  },
  {
   "cell_type": "code",
   "execution_count": 64,
   "id": "86900168",
   "metadata": {},
   "outputs": [
    {
     "data": {
      "text/plain": [
       "{'Bitcoin': '$17,428.44',\n",
       " 'Ethereum': '$1,333.69',\n",
       " 'Tether': '$1.00',\n",
       " 'BNB': '$277.67',\n",
       " 'USD Coin': '$1.00',\n",
       " 'XRP': '$0.3628',\n",
       " 'Binance USD': '$0.9999',\n",
       " 'Cardano': '$0.3137',\n",
       " 'Dogecoin': '$0.07654',\n",
       " 'Polygon': '$0.8582'}"
      ]
     },
     "execution_count": 64,
     "metadata": {},
     "output_type": "execute_result"
    }
   ],
   "source": [
    "prices"
   ]
  },
  {
   "cell_type": "code",
   "execution_count": null,
   "id": "d1a4af7f",
   "metadata": {},
   "outputs": [],
   "source": []
  },
  {
   "cell_type": "code",
   "execution_count": null,
   "id": "27379685",
   "metadata": {},
   "outputs": [],
   "source": []
  },
  {
   "cell_type": "code",
   "execution_count": null,
   "id": "f2563b22",
   "metadata": {},
   "outputs": [],
   "source": []
  },
  {
   "cell_type": "code",
   "execution_count": null,
   "id": "e2e56d61",
   "metadata": {},
   "outputs": [],
   "source": []
  },
  {
   "cell_type": "code",
   "execution_count": null,
   "id": "a086f322",
   "metadata": {},
   "outputs": [],
   "source": []
  },
  {
   "cell_type": "code",
   "execution_count": null,
   "id": "eb4bc606",
   "metadata": {},
   "outputs": [],
   "source": []
  }
 ],
 "metadata": {
  "kernelspec": {
   "display_name": "Python 3 (ipykernel)",
   "language": "python",
   "name": "python3"
  },
  "language_info": {
   "codemirror_mode": {
    "name": "ipython",
    "version": 3
   },
   "file_extension": ".py",
   "mimetype": "text/x-python",
   "name": "python",
   "nbconvert_exporter": "python",
   "pygments_lexer": "ipython3",
   "version": "3.9.15"
  }
 },
 "nbformat": 4,
 "nbformat_minor": 5
}
