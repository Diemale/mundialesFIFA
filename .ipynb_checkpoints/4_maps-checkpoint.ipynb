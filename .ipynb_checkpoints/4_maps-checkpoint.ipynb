{
 "cells": [
  {
   "cell_type": "code",
   "execution_count": 4,
   "id": "eec81092",
   "metadata": {},
   "outputs": [],
   "source": [
    "import pandas as pd\n",
    "import geopandas as gpd"
   ]
  },
  {
   "cell_type": "code",
   "execution_count": 5,
   "id": "d2789987",
   "metadata": {},
   "outputs": [],
   "source": [
    "# Load the shape file \n",
    "world = gpd.read_file('world_countries\\\\World_Countries.shp')\n",
    "world = world.rename(columns={'COUNTRY': 'country' })"
   ]
  },
  {
   "cell_type": "code",
   "execution_count": 6,
   "id": "4f65523f",
   "metadata": {},
   "outputs": [
    {
     "data": {
      "text/html": [
       "<div>\n",
       "<style scoped>\n",
       "    .dataframe tbody tr th:only-of-type {\n",
       "        vertical-align: middle;\n",
       "    }\n",
       "\n",
       "    .dataframe tbody tr th {\n",
       "        vertical-align: top;\n",
       "    }\n",
       "\n",
       "    .dataframe thead th {\n",
       "        text-align: right;\n",
       "    }\n",
       "</style>\n",
       "<table border=\"1\" class=\"dataframe\">\n",
       "  <thead>\n",
       "    <tr style=\"text-align: right;\">\n",
       "      <th></th>\n",
       "      <th>country</th>\n",
       "      <th>geometry</th>\n",
       "    </tr>\n",
       "  </thead>\n",
       "  <tbody>\n",
       "    <tr>\n",
       "      <th>0</th>\n",
       "      <td>Aruba (Netherlands)</td>\n",
       "      <td>POLYGON ((-69.88223 12.41111, -69.94695 12.436...</td>\n",
       "    </tr>\n",
       "    <tr>\n",
       "      <th>1</th>\n",
       "      <td>Antigua and Barbuda</td>\n",
       "      <td>MULTIPOLYGON (((-61.73889 17.54055, -61.75195 ...</td>\n",
       "    </tr>\n",
       "    <tr>\n",
       "      <th>2</th>\n",
       "      <td>Afghanistan</td>\n",
       "      <td>POLYGON ((61.27656 35.60725, 61.29638 35.62853...</td>\n",
       "    </tr>\n",
       "    <tr>\n",
       "      <th>3</th>\n",
       "      <td>Algeria</td>\n",
       "      <td>POLYGON ((-5.15213 30.18047, -5.13917 30.19236...</td>\n",
       "    </tr>\n",
       "    <tr>\n",
       "      <th>4</th>\n",
       "      <td>Azerbaijan</td>\n",
       "      <td>MULTIPOLYGON (((46.54037 38.87559, 46.49554 38...</td>\n",
       "    </tr>\n",
       "    <tr>\n",
       "      <th>...</th>\n",
       "      <td>...</td>\n",
       "      <td>...</td>\n",
       "    </tr>\n",
       "    <tr>\n",
       "      <th>247</th>\n",
       "      <td>South Sudan</td>\n",
       "      <td>POLYGON ((34.21807 9.96458, 34.20722 9.90500, ...</td>\n",
       "    </tr>\n",
       "    <tr>\n",
       "      <th>248</th>\n",
       "      <td>Indonesia</td>\n",
       "      <td>MULTIPOLYGON (((123.21846 -10.80917, 123.19832...</td>\n",
       "    </tr>\n",
       "    <tr>\n",
       "      <th>249</th>\n",
       "      <td>East Timor</td>\n",
       "      <td>MULTIPOLYGON (((124.41824 -9.30010, 124.40446 ...</td>\n",
       "    </tr>\n",
       "    <tr>\n",
       "      <th>250</th>\n",
       "      <td>Curacao (Netherlands)</td>\n",
       "      <td>POLYGON ((-68.96556 12.19889, -68.91196 12.181...</td>\n",
       "    </tr>\n",
       "    <tr>\n",
       "      <th>251</th>\n",
       "      <td>Bonaire (Netherlands)</td>\n",
       "      <td>POLYGON ((-68.19736 12.22264, -68.19292 12.207...</td>\n",
       "    </tr>\n",
       "  </tbody>\n",
       "</table>\n",
       "<p>252 rows × 2 columns</p>\n",
       "</div>"
      ],
      "text/plain": [
       "                   country                                           geometry\n",
       "0      Aruba (Netherlands)  POLYGON ((-69.88223 12.41111, -69.94695 12.436...\n",
       "1      Antigua and Barbuda  MULTIPOLYGON (((-61.73889 17.54055, -61.75195 ...\n",
       "2              Afghanistan  POLYGON ((61.27656 35.60725, 61.29638 35.62853...\n",
       "3                  Algeria  POLYGON ((-5.15213 30.18047, -5.13917 30.19236...\n",
       "4               Azerbaijan  MULTIPOLYGON (((46.54037 38.87559, 46.49554 38...\n",
       "..                     ...                                                ...\n",
       "247            South Sudan  POLYGON ((34.21807 9.96458, 34.20722 9.90500, ...\n",
       "248              Indonesia  MULTIPOLYGON (((123.21846 -10.80917, 123.19832...\n",
       "249             East Timor  MULTIPOLYGON (((124.41824 -9.30010, 124.40446 ...\n",
       "250  Curacao (Netherlands)  POLYGON ((-68.96556 12.19889, -68.91196 12.181...\n",
       "251  Bonaire (Netherlands)  POLYGON ((-68.19736 12.22264, -68.19292 12.207...\n",
       "\n",
       "[252 rows x 2 columns]"
      ]
     },
     "execution_count": 6,
     "metadata": {},
     "output_type": "execute_result"
    }
   ],
   "source": [
    "world"
   ]
  },
  {
   "cell_type": "code",
   "execution_count": 8,
   "id": "5470e9a4",
   "metadata": {},
   "outputs": [],
   "source": [
    "# Let's eliminate Antarctica\n",
    "world.iloc[14]\n",
    "world.drop(14, inplace=True)\n",
    "world = world.reset_index(drop=True)"
   ]
  },
  {
   "cell_type": "code",
   "execution_count": 11,
   "id": "38779d09",
   "metadata": {},
   "outputs": [],
   "source": [
    "uk =  gpd.read_file('NUTS1\\\\NUTS1_Jan_2018_UGCB_in_the_UK.shp')"
   ]
  },
  {
   "cell_type": "code",
   "execution_count": 12,
   "id": "a36c6f79",
   "metadata": {},
   "outputs": [],
   "source": [
    "#uk"
   ]
  },
  {
   "cell_type": "code",
   "execution_count": 13,
   "id": "cb2d5ac2",
   "metadata": {},
   "outputs": [],
   "source": [
    "uk.drop(['nuts118cd', 'bng_e', 'bng_n', 'long', 'lat', 'GlobalID'], axis = 1, inplace = True)"
   ]
  },
  {
   "cell_type": "code",
   "execution_count": 14,
   "id": "3f0f1464",
   "metadata": {},
   "outputs": [],
   "source": [
    "uk = uk.rename(columns={'nuts118nm': 'country'}) "
   ]
  },
  {
   "cell_type": "code",
   "execution_count": 15,
   "id": "a95efc68",
   "metadata": {},
   "outputs": [
    {
     "data": {
      "text/plain": [
       "<Projected CRS: EPSG:27700>\n",
       "Name: OSGB36 / British National Grid\n",
       "Axis Info [cartesian]:\n",
       "- E[east]: Easting (metre)\n",
       "- N[north]: Northing (metre)\n",
       "Area of Use:\n",
       "- name: United Kingdom (UK) - offshore to boundary of UKCS within 49°45'N to 61°N and 9°W to 2°E; onshore Great Britain (England, Wales and Scotland). Isle of Man onshore.\n",
       "- bounds: (-9.01, 49.75, 2.01, 61.01)\n",
       "Coordinate Operation:\n",
       "- name: British National Grid\n",
       "- method: Transverse Mercator\n",
       "Datum: Ordnance Survey of Great Britain 1936\n",
       "- Ellipsoid: Airy 1830\n",
       "- Prime Meridian: Greenwich"
      ]
     },
     "execution_count": 15,
     "metadata": {},
     "output_type": "execute_result"
    }
   ],
   "source": [
    "uk.crs"
   ]
  },
  {
   "cell_type": "code",
   "execution_count": 16,
   "id": "4afa4949",
   "metadata": {},
   "outputs": [
    {
     "data": {
      "text/plain": [
       "<Geographic 2D CRS: EPSG:4326>\n",
       "Name: WGS 84\n",
       "Axis Info [ellipsoidal]:\n",
       "- Lat[north]: Geodetic latitude (degree)\n",
       "- Lon[east]: Geodetic longitude (degree)\n",
       "Area of Use:\n",
       "- name: World.\n",
       "- bounds: (-180.0, -90.0, 180.0, 90.0)\n",
       "Datum: World Geodetic System 1984 ensemble\n",
       "- Ellipsoid: WGS 84\n",
       "- Prime Meridian: Greenwich"
      ]
     },
     "execution_count": 16,
     "metadata": {},
     "output_type": "execute_result"
    }
   ],
   "source": [
    "world.crs"
   ]
  },
  {
   "cell_type": "markdown",
   "id": "4500a2c7",
   "metadata": {},
   "source": [
    "As we can see, our GeoDataFrames use different coordinate reference systems. So, we need to reconcile this data."
   ]
  },
  {
   "cell_type": "code",
   "execution_count": 17,
   "id": "5fe5e28d",
   "metadata": {},
   "outputs": [],
   "source": [
    "# Assign the crs value to uk GeoDataFrame\n",
    "uk = uk.to_crs('EPSG:4326')"
   ]
  },
  {
   "cell_type": "code",
   "execution_count": 18,
   "id": "76e54b1f",
   "metadata": {},
   "outputs": [],
   "source": [
    "# Create one dataframe containing England regions\n",
    "england = uk.iloc[:9]\n",
    "# and another one for the other 3 UK countries\n",
    "other = uk.iloc[-3:]"
   ]
  },
  {
   "cell_type": "code",
   "execution_count": 19,
   "id": "b8bd660f",
   "metadata": {},
   "outputs": [
    {
     "data": {
      "text/html": [
       "<div>\n",
       "<style scoped>\n",
       "    .dataframe tbody tr th:only-of-type {\n",
       "        vertical-align: middle;\n",
       "    }\n",
       "\n",
       "    .dataframe tbody tr th {\n",
       "        vertical-align: top;\n",
       "    }\n",
       "\n",
       "    .dataframe thead th {\n",
       "        text-align: right;\n",
       "    }\n",
       "</style>\n",
       "<table border=\"1\" class=\"dataframe\">\n",
       "  <thead>\n",
       "    <tr style=\"text-align: right;\">\n",
       "      <th></th>\n",
       "      <th>country</th>\n",
       "      <th>geometry</th>\n",
       "    </tr>\n",
       "  </thead>\n",
       "  <tbody>\n",
       "    <tr>\n",
       "      <th>0</th>\n",
       "      <td>North East (England)</td>\n",
       "      <td>MULTIPOLYGON (((-2.03439 55.81108, -2.00157 55...</td>\n",
       "    </tr>\n",
       "    <tr>\n",
       "      <th>1</th>\n",
       "      <td>North West (England)</td>\n",
       "      <td>MULTIPOLYGON (((-2.67455 55.17589, -2.67732 55...</td>\n",
       "    </tr>\n",
       "    <tr>\n",
       "      <th>2</th>\n",
       "      <td>Yorkshire and The Humber</td>\n",
       "      <td>POLYGON ((-0.76477 54.54797, -0.74464 54.52853...</td>\n",
       "    </tr>\n",
       "    <tr>\n",
       "      <th>3</th>\n",
       "      <td>East Midlands (England)</td>\n",
       "      <td>POLYGON ((-0.24847 53.59364, -0.25139 53.58463...</td>\n",
       "    </tr>\n",
       "    <tr>\n",
       "      <th>4</th>\n",
       "      <td>West Midlands (England)</td>\n",
       "      <td>POLYGON ((-1.86073 53.18841, -1.81254 53.15433...</td>\n",
       "    </tr>\n",
       "    <tr>\n",
       "      <th>5</th>\n",
       "      <td>East of England</td>\n",
       "      <td>MULTIPOLYGON (((0.97708 52.97996, 1.10538 52.9...</td>\n",
       "    </tr>\n",
       "    <tr>\n",
       "      <th>6</th>\n",
       "      <td>London</td>\n",
       "      <td>POLYGON ((-0.01195 51.68088, -0.01229 51.64623...</td>\n",
       "    </tr>\n",
       "    <tr>\n",
       "      <th>7</th>\n",
       "      <td>South East (England)</td>\n",
       "      <td>MULTIPOLYGON (((-0.62747 52.18153, -0.63069 52...</td>\n",
       "    </tr>\n",
       "    <tr>\n",
       "      <th>8</th>\n",
       "      <td>South West (England)</td>\n",
       "      <td>MULTIPOLYGON (((-1.76766 52.11258, -1.74603 52...</td>\n",
       "    </tr>\n",
       "  </tbody>\n",
       "</table>\n",
       "</div>"
      ],
      "text/plain": [
       "                    country                                           geometry\n",
       "0      North East (England)  MULTIPOLYGON (((-2.03439 55.81108, -2.00157 55...\n",
       "1      North West (England)  MULTIPOLYGON (((-2.67455 55.17589, -2.67732 55...\n",
       "2  Yorkshire and The Humber  POLYGON ((-0.76477 54.54797, -0.74464 54.52853...\n",
       "3   East Midlands (England)  POLYGON ((-0.24847 53.59364, -0.25139 53.58463...\n",
       "4   West Midlands (England)  POLYGON ((-1.86073 53.18841, -1.81254 53.15433...\n",
       "5           East of England  MULTIPOLYGON (((0.97708 52.97996, 1.10538 52.9...\n",
       "6                    London  POLYGON ((-0.01195 51.68088, -0.01229 51.64623...\n",
       "7      South East (England)  MULTIPOLYGON (((-0.62747 52.18153, -0.63069 52...\n",
       "8      South West (England)  MULTIPOLYGON (((-1.76766 52.11258, -1.74603 52..."
      ]
     },
     "execution_count": 19,
     "metadata": {},
     "output_type": "execute_result"
    }
   ],
   "source": [
    "england"
   ]
  },
  {
   "cell_type": "code",
   "execution_count": 20,
   "id": "fbe11dee",
   "metadata": {},
   "outputs": [
    {
     "data": {
      "text/html": [
       "<div>\n",
       "<style scoped>\n",
       "    .dataframe tbody tr th:only-of-type {\n",
       "        vertical-align: middle;\n",
       "    }\n",
       "\n",
       "    .dataframe tbody tr th {\n",
       "        vertical-align: top;\n",
       "    }\n",
       "\n",
       "    .dataframe thead th {\n",
       "        text-align: right;\n",
       "    }\n",
       "</style>\n",
       "<table border=\"1\" class=\"dataframe\">\n",
       "  <thead>\n",
       "    <tr style=\"text-align: right;\">\n",
       "      <th></th>\n",
       "      <th>country</th>\n",
       "      <th>geometry</th>\n",
       "    </tr>\n",
       "  </thead>\n",
       "  <tbody>\n",
       "    <tr>\n",
       "      <th>9</th>\n",
       "      <td>Wales</td>\n",
       "      <td>MULTIPOLYGON (((-3.28000 53.32257, -3.26789 53...</td>\n",
       "    </tr>\n",
       "    <tr>\n",
       "      <th>10</th>\n",
       "      <td>Scotland</td>\n",
       "      <td>MULTIPOLYGON (((-3.38105 58.67060, -3.37680 58...</td>\n",
       "    </tr>\n",
       "    <tr>\n",
       "      <th>11</th>\n",
       "      <td>Northern Ireland</td>\n",
       "      <td>MULTIPOLYGON (((-6.45497 55.23905, -6.40933 55...</td>\n",
       "    </tr>\n",
       "  </tbody>\n",
       "</table>\n",
       "</div>"
      ],
      "text/plain": [
       "             country                                           geometry\n",
       "9              Wales  MULTIPOLYGON (((-3.28000 53.32257, -3.26789 53...\n",
       "10          Scotland  MULTIPOLYGON (((-3.38105 58.67060, -3.37680 58...\n",
       "11  Northern Ireland  MULTIPOLYGON (((-6.45497 55.23905, -6.40933 55..."
      ]
     },
     "execution_count": 20,
     "metadata": {},
     "output_type": "execute_result"
    }
   ],
   "source": [
    "other"
   ]
  },
  {
   "cell_type": "code",
   "execution_count": 21,
   "id": "472dc4bc",
   "metadata": {},
   "outputs": [],
   "source": [
    "# Convert England regions dataframe to a  GeoDataFrame\n",
    "eng_gdf = gpd.GeoDataFrame(england, geometry='geometry')\n",
    "\n",
    "# save the GeoDataFrame\n",
    "eng_gdf.to_file('england\\\\regions\\\\england_regions.shp')"
   ]
  },
  {
   "cell_type": "code",
   "execution_count": 22,
   "id": "e000b15e",
   "metadata": {},
   "outputs": [],
   "source": [
    "england_regions =  gpd.read_file('england\\\\regions\\\\england_regions.shp')"
   ]
  },
  {
   "cell_type": "code",
   "execution_count": 23,
   "id": "e446aa71",
   "metadata": {},
   "outputs": [
    {
     "data": {
      "text/html": [
       "<div>\n",
       "<style scoped>\n",
       "    .dataframe tbody tr th:only-of-type {\n",
       "        vertical-align: middle;\n",
       "    }\n",
       "\n",
       "    .dataframe tbody tr th {\n",
       "        vertical-align: top;\n",
       "    }\n",
       "\n",
       "    .dataframe thead th {\n",
       "        text-align: right;\n",
       "    }\n",
       "</style>\n",
       "<table border=\"1\" class=\"dataframe\">\n",
       "  <thead>\n",
       "    <tr style=\"text-align: right;\">\n",
       "      <th></th>\n",
       "      <th>country</th>\n",
       "      <th>geometry</th>\n",
       "    </tr>\n",
       "  </thead>\n",
       "  <tbody>\n",
       "    <tr>\n",
       "      <th>0</th>\n",
       "      <td>North East (England)</td>\n",
       "      <td>MULTIPOLYGON (((-2.03439 55.81108, -2.00157 55...</td>\n",
       "    </tr>\n",
       "    <tr>\n",
       "      <th>1</th>\n",
       "      <td>North West (England)</td>\n",
       "      <td>MULTIPOLYGON (((-2.67455 55.17589, -2.67732 55...</td>\n",
       "    </tr>\n",
       "    <tr>\n",
       "      <th>2</th>\n",
       "      <td>Yorkshire and The Humber</td>\n",
       "      <td>POLYGON ((-0.76477 54.54797, -0.74464 54.52853...</td>\n",
       "    </tr>\n",
       "    <tr>\n",
       "      <th>3</th>\n",
       "      <td>East Midlands (England)</td>\n",
       "      <td>POLYGON ((-0.24847 53.59364, -0.25139 53.58463...</td>\n",
       "    </tr>\n",
       "    <tr>\n",
       "      <th>4</th>\n",
       "      <td>West Midlands (England)</td>\n",
       "      <td>POLYGON ((-1.86073 53.18841, -1.81254 53.15433...</td>\n",
       "    </tr>\n",
       "    <tr>\n",
       "      <th>5</th>\n",
       "      <td>East of England</td>\n",
       "      <td>MULTIPOLYGON (((0.97708 52.97996, 1.10538 52.9...</td>\n",
       "    </tr>\n",
       "    <tr>\n",
       "      <th>6</th>\n",
       "      <td>London</td>\n",
       "      <td>POLYGON ((-0.01195 51.68088, -0.01229 51.64623...</td>\n",
       "    </tr>\n",
       "    <tr>\n",
       "      <th>7</th>\n",
       "      <td>South East (England)</td>\n",
       "      <td>MULTIPOLYGON (((-0.62747 52.18153, -0.63069 52...</td>\n",
       "    </tr>\n",
       "    <tr>\n",
       "      <th>8</th>\n",
       "      <td>South West (England)</td>\n",
       "      <td>MULTIPOLYGON (((-1.76766 52.11258, -1.74603 52...</td>\n",
       "    </tr>\n",
       "  </tbody>\n",
       "</table>\n",
       "</div>"
      ],
      "text/plain": [
       "                    country                                           geometry\n",
       "0      North East (England)  MULTIPOLYGON (((-2.03439 55.81108, -2.00157 55...\n",
       "1      North West (England)  MULTIPOLYGON (((-2.67455 55.17589, -2.67732 55...\n",
       "2  Yorkshire and The Humber  POLYGON ((-0.76477 54.54797, -0.74464 54.52853...\n",
       "3   East Midlands (England)  POLYGON ((-0.24847 53.59364, -0.25139 53.58463...\n",
       "4   West Midlands (England)  POLYGON ((-1.86073 53.18841, -1.81254 53.15433...\n",
       "5           East of England  MULTIPOLYGON (((0.97708 52.97996, 1.10538 52.9...\n",
       "6                    London  POLYGON ((-0.01195 51.68088, -0.01229 51.64623...\n",
       "7      South East (England)  MULTIPOLYGON (((-0.62747 52.18153, -0.63069 52...\n",
       "8      South West (England)  MULTIPOLYGON (((-1.76766 52.11258, -1.74603 52..."
      ]
     },
     "execution_count": 23,
     "metadata": {},
     "output_type": "execute_result"
    }
   ],
   "source": [
    "england_regions"
   ]
  },
  {
   "cell_type": "code",
   "execution_count": 24,
   "id": "8b14e382",
   "metadata": {},
   "outputs": [],
   "source": [
    "# join all the polygons to get the shape of England\n",
    "england = england_regions.unary_union"
   ]
  },
  {
   "cell_type": "code",
   "execution_count": 25,
   "id": "0350de2c",
   "metadata": {},
   "outputs": [],
   "source": [
    "# Create a new GeoDataFrame of England\n",
    "england_gdf = gpd.GeoDataFrame({'country': 'England', 'geometry': [england]})\n",
    "\n",
    "# We need to specify a coordinate reference system(CRS) for our new GeoDataFrame\n",
    "england_gdf.crs = 'EPSG:4326'\n",
    "# save it\n",
    "england_gdf.to_file('england\\\\country\\\\england.shp')"
   ]
  },
  {
   "cell_type": "code",
   "execution_count": 26,
   "id": "7eed2f5b",
   "metadata": {},
   "outputs": [],
   "source": [
    "# Add England to 'world' GeoDataFrame\n",
    "world = pd.concat([world, england_gdf], ignore_index=True)"
   ]
  },
  {
   "cell_type": "code",
   "execution_count": 27,
   "id": "67a17449",
   "metadata": {},
   "outputs": [],
   "source": [
    "# Create a GeoDataFrame for Wales, Scotland and Nothern Ireland\n",
    "other_gdf = gpd.GeoDataFrame(other, geometry='geometry')\n",
    "\n",
    "\n",
    "# We need to specify a coordinate reference system(CRS) for our new GeoDataFrame\n",
    "other_gdf.crs = 'EPSG:4326'\n",
    "\n",
    "\n",
    "# save to a shapefile\n",
    "other_gdf.to_file('rest_of_uk\\\\other.shp')"
   ]
  },
  {
   "cell_type": "code",
   "execution_count": 28,
   "id": "e08b701b",
   "metadata": {},
   "outputs": [],
   "source": [
    "# Add the other three countries to 'world'\n",
    "world = pd.concat([world, other], ignore_index=True)"
   ]
  },
  {
   "cell_type": "code",
   "execution_count": 29,
   "id": "4916ee3b",
   "metadata": {},
   "outputs": [],
   "source": [
    "# Finally, save to a shapefile\n",
    "world.to_file('world_new\\\\world.shp')"
   ]
  },
  {
   "cell_type": "code",
   "execution_count": null,
   "id": "070cb487",
   "metadata": {},
   "outputs": [],
   "source": []
  }
 ],
 "metadata": {
  "kernelspec": {
   "display_name": "Python 3 (ipykernel)",
   "language": "python",
   "name": "python3"
  },
  "language_info": {
   "codemirror_mode": {
    "name": "ipython",
    "version": 3
   },
   "file_extension": ".py",
   "mimetype": "text/x-python",
   "name": "python",
   "nbconvert_exporter": "python",
   "pygments_lexer": "ipython3",
   "version": "3.9.15"
  }
 },
 "nbformat": 4,
 "nbformat_minor": 5
}
