{
 "cells": [
  {
   "cell_type": "markdown",
   "id": "3e3cc201",
   "metadata": {},
   "source": [
    "# ETL"
   ]
  },
  {
   "cell_type": "code",
   "execution_count": 1,
   "id": "4f532f41",
   "metadata": {},
   "outputs": [],
   "source": [
    "#!which python"
   ]
  },
  {
   "cell_type": "code",
   "execution_count": 2,
   "id": "b3a1d8c9",
   "metadata": {},
   "outputs": [],
   "source": [
    "import pandas as pd\n",
    "import sqlite3\n",
    "import numpy as np\n",
    "import re\n",
    "import pycountry_convert as pc"
   ]
  },
  {
   "cell_type": "markdown",
   "id": "04fd576b",
   "metadata": {},
   "source": [
    "## Import the data from our database"
   ]
  },
  {
   "cell_type": "code",
   "execution_count": 3,
   "id": "aeacbcb5",
   "metadata": {},
   "outputs": [],
   "source": [
    "db = 'dataBases//world_cups_squads.db'"
   ]
  },
  {
   "cell_type": "code",
   "execution_count": 4,
   "id": "301b13aa",
   "metadata": {},
   "outputs": [],
   "source": [
    "def load_table_as_df(database):\n",
    "    conn = sqlite3.connect(database)\n",
    "    df = pd.read_sql_query(\"SELECT * FROM squads\", conn)\n",
    "    conn.close()\n",
    "    return df"
   ]
  },
  {
   "cell_type": "code",
   "execution_count": 5,
   "id": "3f49c7f3",
   "metadata": {},
   "outputs": [],
   "source": [
    "df = load_table_as_df(db)"
   ]
  },
  {
   "cell_type": "markdown",
   "id": "ad3823f4",
   "metadata": {},
   "source": [
    "## Explore the data"
   ]
  },
  {
   "cell_type": "code",
   "execution_count": 6,
   "id": "9b50de91",
   "metadata": {},
   "outputs": [
    {
     "data": {
      "text/html": [
       "<div>\n",
       "<style scoped>\n",
       "    .dataframe tbody tr th:only-of-type {\n",
       "        vertical-align: middle;\n",
       "    }\n",
       "\n",
       "    .dataframe tbody tr th {\n",
       "        vertical-align: top;\n",
       "    }\n",
       "\n",
       "    .dataframe thead th {\n",
       "        text-align: right;\n",
       "    }\n",
       "</style>\n",
       "<table border=\"1\" class=\"dataframe\">\n",
       "  <thead>\n",
       "    <tr style=\"text-align: right;\">\n",
       "      <th></th>\n",
       "      <th>player</th>\n",
       "      <th>national_team</th>\n",
       "      <th>shirt_number</th>\n",
       "      <th>position</th>\n",
       "      <th>birthday</th>\n",
       "      <th>caps</th>\n",
       "      <th>goals</th>\n",
       "      <th>club</th>\n",
       "      <th>club_origin</th>\n",
       "      <th>wc_date</th>\n",
       "    </tr>\n",
       "  </thead>\n",
       "  <tbody>\n",
       "    <tr>\n",
       "      <th>0</th>\n",
       "      <td>Ángel Bossio</td>\n",
       "      <td>Argentina</td>\n",
       "      <td>None</td>\n",
       "      <td>GK</td>\n",
       "      <td>(1905-05-05)</td>\n",
       "      <td>16</td>\n",
       "      <td>NaN</td>\n",
       "      <td>Talleres (BA)</td>\n",
       "      <td>Argentina</td>\n",
       "      <td>1930-07-17</td>\n",
       "    </tr>\n",
       "    <tr>\n",
       "      <th>1</th>\n",
       "      <td>Juan Botasso</td>\n",
       "      <td>Argentina</td>\n",
       "      <td>None</td>\n",
       "      <td>GK</td>\n",
       "      <td>(1908-10-23)</td>\n",
       "      <td>2</td>\n",
       "      <td>NaN</td>\n",
       "      <td>Argentino (Q)</td>\n",
       "      <td>Argentina</td>\n",
       "      <td>1930-07-17</td>\n",
       "    </tr>\n",
       "    <tr>\n",
       "      <th>2</th>\n",
       "      <td>Roberto Cherro</td>\n",
       "      <td>Argentina</td>\n",
       "      <td>None</td>\n",
       "      <td>FW</td>\n",
       "      <td>(1907-02-23)</td>\n",
       "      <td>10</td>\n",
       "      <td>NaN</td>\n",
       "      <td>Boca Juniors</td>\n",
       "      <td>Argentina</td>\n",
       "      <td>1930-07-17</td>\n",
       "    </tr>\n",
       "    <tr>\n",
       "      <th>3</th>\n",
       "      <td>Alberto Chividini</td>\n",
       "      <td>Argentina</td>\n",
       "      <td>None</td>\n",
       "      <td>DF</td>\n",
       "      <td>(1907-02-23)</td>\n",
       "      <td>2</td>\n",
       "      <td>NaN</td>\n",
       "      <td>Central Norte</td>\n",
       "      <td>Argentina</td>\n",
       "      <td>1930-07-17</td>\n",
       "    </tr>\n",
       "    <tr>\n",
       "      <th>4</th>\n",
       "      <td>Attilio Demaría</td>\n",
       "      <td>Argentina</td>\n",
       "      <td>None</td>\n",
       "      <td>FW</td>\n",
       "      <td>(1909-03-19)</td>\n",
       "      <td>0</td>\n",
       "      <td>NaN</td>\n",
       "      <td>Estudiantil Porteño</td>\n",
       "      <td>Argentina</td>\n",
       "      <td>1930-07-17</td>\n",
       "    </tr>\n",
       "  </tbody>\n",
       "</table>\n",
       "</div>"
      ],
      "text/plain": [
       "              player national_team shirt_number position       birthday caps  \\\n",
       "0       Ángel Bossio     Argentina         None       GK   (1905-05-05)   16   \n",
       "1       Juan Botasso     Argentina         None       GK   (1908-10-23)    2   \n",
       "2     Roberto Cherro     Argentina         None       FW   (1907-02-23)   10   \n",
       "3  Alberto Chividini     Argentina         None       DF   (1907-02-23)    2   \n",
       "4    Attilio Demaría     Argentina         None       FW   (1909-03-19)    0   \n",
       "\n",
       "   goals                 club club_origin     wc_date  \n",
       "0    NaN        Talleres (BA)   Argentina  1930-07-17  \n",
       "1    NaN        Argentino (Q)   Argentina  1930-07-17  \n",
       "2    NaN         Boca Juniors   Argentina  1930-07-17  \n",
       "3    NaN        Central Norte   Argentina  1930-07-17  \n",
       "4    NaN  Estudiantil Porteño   Argentina  1930-07-17  "
      ]
     },
     "execution_count": 6,
     "metadata": {},
     "output_type": "execute_result"
    }
   ],
   "source": [
    "df.head()"
   ]
  },
  {
   "cell_type": "code",
   "execution_count": 7,
   "id": "6a5e0986",
   "metadata": {},
   "outputs": [
    {
     "name": "stdout",
     "output_type": "stream",
     "text": [
      "<class 'pandas.core.frame.DataFrame'>\n",
      "RangeIndex: 10964 entries, 0 to 10963\n",
      "Data columns (total 10 columns):\n",
      " #   Column         Non-Null Count  Dtype  \n",
      "---  ------         --------------  -----  \n",
      " 0   player         10964 non-null  object \n",
      " 1   national_team  10964 non-null  object \n",
      " 2   shirt_number   10074 non-null  object \n",
      " 3   position       10964 non-null  object \n",
      " 4   birthday       10964 non-null  object \n",
      " 5   caps           10932 non-null  object \n",
      " 6   goals          1567 non-null   float64\n",
      " 7   club           10964 non-null  object \n",
      " 8   club_origin    10960 non-null  object \n",
      " 9   wc_date        10964 non-null  object \n",
      "dtypes: float64(1), object(9)\n",
      "memory usage: 856.7+ KB\n"
     ]
    }
   ],
   "source": [
    "df.info()"
   ]
  },
  {
   "cell_type": "markdown",
   "id": "7d0e2d1f",
   "metadata": {},
   "source": [
    "### Search for null values and treat them if needed\n",
    "    "
   ]
  },
  {
   "cell_type": "code",
   "execution_count": 8,
   "id": "514761e0",
   "metadata": {},
   "outputs": [
    {
     "data": {
      "text/plain": [
       "True"
      ]
     },
     "execution_count": 8,
     "metadata": {},
     "output_type": "execute_result"
    }
   ],
   "source": [
    "df.isna().any().any()"
   ]
  },
  {
   "cell_type": "code",
   "execution_count": 9,
   "id": "7ea3ad9b",
   "metadata": {},
   "outputs": [],
   "source": [
    "def get_nan_in_df(dataFrame):\n",
    "    # count all null values in each column, sort them by the amount of null values.\n",
    "    nanValues = dataFrame.isna().sum().sort_values(ascending=False)\n",
    "    # get the percentage of those values\n",
    "    nanValuesPrct = (nanValues/len(dataFrame) )*100\n",
    "    \n",
    "    return nanValuesPrct"
   ]
  },
  {
   "cell_type": "code",
   "execution_count": 10,
   "id": "7879beb6",
   "metadata": {},
   "outputs": [
    {
     "data": {
      "text/plain": [
       "goals            85.707771\n",
       "shirt_number      8.117475\n",
       "caps              0.291864\n",
       "club_origin       0.036483\n",
       "player            0.000000\n",
       "national_team     0.000000\n",
       "position          0.000000\n",
       "birthday          0.000000\n",
       "club              0.000000\n",
       "wc_date           0.000000\n",
       "dtype: float64"
      ]
     },
     "execution_count": 10,
     "metadata": {},
     "output_type": "execute_result"
    }
   ],
   "source": [
    "get_nan_in_df(df)"
   ]
  },
  {
   "cell_type": "markdown",
   "id": "828981a1",
   "metadata": {},
   "source": [
    "## Data Transformation"
   ]
  },
  {
   "cell_type": "markdown",
   "id": "26841ca6",
   "metadata": {},
   "source": [
    "We'll drop the following columns:\n",
    "\n",
    "\n",
    "|Column        |Reason                            |\n",
    "|--------------|----------------------------------|\n",
    "|    \"goals\"   |86% of the column values are null.|\n",
    "|\"shirt_number\"| It's irrelevant for our analysis |\n"
   ]
  },
  {
   "cell_type": "code",
   "execution_count": 11,
   "id": "f0cb5d5d",
   "metadata": {},
   "outputs": [],
   "source": [
    "df.drop(columns = ['goals','shirt_number'], inplace = True)"
   ]
  },
  {
   "cell_type": "markdown",
   "id": "a86c8706",
   "metadata": {},
   "source": [
    "### convert 'wc_date' data type to datetime"
   ]
  },
  {
   "cell_type": "code",
   "execution_count": 12,
   "id": "848875b1",
   "metadata": {},
   "outputs": [],
   "source": [
    "df['wc_date'] = pd.to_datetime(df['wc_date'])"
   ]
  },
  {
   "cell_type": "markdown",
   "id": "45d3f971",
   "metadata": {},
   "source": [
    "### Create a column to contain the year of a given world cup"
   ]
  },
  {
   "cell_type": "code",
   "execution_count": 13,
   "id": "9720162b",
   "metadata": {},
   "outputs": [],
   "source": [
    "df['year'] = df['wc_date'].dt.strftime('%Y').astype(int)"
   ]
  },
  {
   "cell_type": "code",
   "execution_count": 14,
   "id": "a97dca4c",
   "metadata": {},
   "outputs": [
    {
     "name": "stdout",
     "output_type": "stream",
     "text": [
      "<class 'pandas.core.frame.DataFrame'>\n",
      "RangeIndex: 10964 entries, 0 to 10963\n",
      "Data columns (total 9 columns):\n",
      " #   Column         Non-Null Count  Dtype         \n",
      "---  ------         --------------  -----         \n",
      " 0   player         10964 non-null  object        \n",
      " 1   national_team  10964 non-null  object        \n",
      " 2   position       10964 non-null  object        \n",
      " 3   birthday       10964 non-null  object        \n",
      " 4   caps           10932 non-null  object        \n",
      " 5   club           10964 non-null  object        \n",
      " 6   club_origin    10960 non-null  object        \n",
      " 7   wc_date        10964 non-null  datetime64[ns]\n",
      " 8   year           10964 non-null  int32         \n",
      "dtypes: datetime64[ns](1), int32(1), object(7)\n",
      "memory usage: 728.2+ KB\n"
     ]
    }
   ],
   "source": [
    "df.info()"
   ]
  },
  {
   "cell_type": "code",
   "execution_count": 15,
   "id": "8de1da8f",
   "metadata": {},
   "outputs": [
    {
     "data": {
      "text/plain": [
       "32"
      ]
     },
     "execution_count": 15,
     "metadata": {},
     "output_type": "execute_result"
    }
   ],
   "source": [
    "capsNan = df[df.caps.isna()]\n",
    "len(capsNan)"
   ]
  },
  {
   "cell_type": "markdown",
   "id": "b4590eb8",
   "metadata": {},
   "source": [
    "Even though there are only a few nan registers, we'd like to keep them all and see if we can get the data from other sources or input a value. "
   ]
  },
  {
   "cell_type": "markdown",
   "id": "60de49c8",
   "metadata": {},
   "source": [
    " We'll calculate the median among these footballer's teammates. Then we'll apply it to the formers."
   ]
  },
  {
   "cell_type": "markdown",
   "id": "8fec25b2",
   "metadata": {},
   "source": [
    "#### Optimize memory usage"
   ]
  },
  {
   "cell_type": "code",
   "execution_count": 16,
   "id": "9fc0fbc3",
   "metadata": {},
   "outputs": [],
   "source": [
    "# 16 bits range goes from −32,768 to 32,767"
   ]
  },
  {
   "cell_type": "code",
   "execution_count": 17,
   "id": "c176b879",
   "metadata": {},
   "outputs": [],
   "source": [
    "df.year = pd.Series(df.year, dtype=pd.Int16Dtype()) #from now on it'll use pandas.NA as missing value, instead of numpy.nan.        "
   ]
  },
  {
   "cell_type": "markdown",
   "id": "7362dc6b",
   "metadata": {},
   "source": [
    "### replace"
   ]
  },
  {
   "cell_type": "markdown",
   "id": "4d989134",
   "metadata": {},
   "source": [
    "Let's find the different values in the column 'caps'"
   ]
  },
  {
   "cell_type": "code",
   "execution_count": 18,
   "id": "a4537b6c",
   "metadata": {},
   "outputs": [],
   "source": [
    "# get a data frame that contains both, the unique values and their counts \n",
    "value_caps = df.caps.value_counts().reset_index().rename(columns={'index':'value'})"
   ]
  },
  {
   "cell_type": "code",
   "execution_count": 19,
   "id": "3eaa289b",
   "metadata": {},
   "outputs": [],
   "source": [
    "# convert the values to a list\n",
    "values_caps_list = value_caps.value.tolist()"
   ]
  },
  {
   "cell_type": "code",
   "execution_count": 20,
   "id": "b1012ad8",
   "metadata": {},
   "outputs": [],
   "source": [
    "#values_caps_list.sort()  # can't sort this time, because the list has a mix of str and int values\n",
    "#values_caps_list"
   ]
  },
  {
   "cell_type": "code",
   "execution_count": 21,
   "id": "2c843a6b",
   "metadata": {},
   "outputs": [
    {
     "name": "stdout",
     "output_type": "stream",
     "text": [
      "?\n",
      "0-\n",
      "-\n",
      "1[7]\n",
      "7*\n",
      "32*\n"
     ]
    }
   ],
   "source": [
    "# Let's see if we can filter the weird values. They don't look like integers, so let's try the following.\n",
    "for element in values_caps_list:\n",
    "    if type(element) ==str:\n",
    "        print(element)"
   ]
  },
  {
   "cell_type": "code",
   "execution_count": 22,
   "id": "2287db39",
   "metadata": {},
   "outputs": [],
   "source": [
    "# Great! Let's replace them.\n",
    "df.caps.replace({'?':np.nan, '-': np.nan, '0-': 0, '1[7]':1, '7*':7, '32*':32  }, inplace=True ) "
   ]
  },
  {
   "cell_type": "markdown",
   "id": "86425939",
   "metadata": {},
   "source": [
    "We've added a few nan values. So let's check the missing values count again."
   ]
  },
  {
   "cell_type": "code",
   "execution_count": 23,
   "id": "f3b50167",
   "metadata": {},
   "outputs": [
    {
     "data": {
      "text/plain": [
       "138"
      ]
     },
     "execution_count": 23,
     "metadata": {},
     "output_type": "execute_result"
    }
   ],
   "source": [
    "capsNan = df[df.caps.isna()]\n",
    "len(capsNan)"
   ]
  },
  {
   "cell_type": "markdown",
   "id": "3249831c",
   "metadata": {},
   "source": [
    "### Create a list of tuples with all the teams having nan values in column 'caps'"
   ]
  },
  {
   "cell_type": "code",
   "execution_count": 24,
   "id": "e2f88d66",
   "metadata": {},
   "outputs": [],
   "source": [
    "nan_grouped = capsNan.groupby(['national_team','year'])['caps'].unique()"
   ]
  },
  {
   "cell_type": "code",
   "execution_count": 25,
   "id": "04cca14c",
   "metadata": {},
   "outputs": [],
   "source": [
    "nan_grouped = nan_grouped.to_frame().reset_index().drop(columns = 'caps')\n",
    "#nan_grouped"
   ]
  },
  {
   "cell_type": "code",
   "execution_count": 26,
   "id": "bc7bd889",
   "metadata": {},
   "outputs": [],
   "source": [
    "unique_nan_list = list(zip(nan_grouped.national_team, nan_grouped.year))"
   ]
  },
  {
   "cell_type": "code",
   "execution_count": 27,
   "id": "cafc0e86",
   "metadata": {},
   "outputs": [
    {
     "name": "stdout",
     "output_type": "stream",
     "text": [
      "[('Algeria', 1982), ('Algeria', 1986), ('Belgium', 1934), ('Bolivia', 1994), ('Brazil', 1954), ('Cameroon', 1982), ('Cameroon', 1990), ('Colombia', 1994), ('Costa Rica', 1990), ('Czechoslovakia', 1938), ('Egypt', 1934), ('Egypt', 1990), ('El Salvador', 1970), ('El Salvador', 1982), ('Haiti', 1974), ('Honduras', 1982), ('Iran', 1978), ('Kuwait', 1982), ('Morocco', 1970), ('Morocco', 1986), ('New Zealand', 1982), ('North Korea', 1966), ('Paraguay', 1930), ('Paraguay', 1950), ('Paraguay', 1958), ('Paraguay', 1986), ('Peru', 1970), ('Peru', 1982), ('Romania', 1938), ('Saudi Arabia', 1994), ('South Korea', 1954), ('South Korea', 1990), ('South Korea', 1994), ('Switzerland', 1934), ('Tunisia', 1978), ('Zaire', 1974)]\n"
     ]
    }
   ],
   "source": [
    "print(unique_nan_list)"
   ]
  },
  {
   "cell_type": "markdown",
   "id": "e3eba7c5",
   "metadata": {},
   "source": [
    "Remove the (1950, Paraguay) tuple, since all their corresponding cells in the column 'caps' are null."
   ]
  },
  {
   "cell_type": "code",
   "execution_count": 28,
   "id": "0d9a002f",
   "metadata": {},
   "outputs": [],
   "source": [
    "unique_nan_list.remove(('Paraguay', 1950))"
   ]
  },
  {
   "cell_type": "markdown",
   "id": "5d3b49c6",
   "metadata": {},
   "source": [
    "### Create a column to register the imputed values"
   ]
  },
  {
   "cell_type": "code",
   "execution_count": 29,
   "id": "60344511",
   "metadata": {},
   "outputs": [],
   "source": [
    "df['imputed']  = '-'"
   ]
  },
  {
   "cell_type": "markdown",
   "id": "7246d33b",
   "metadata": {},
   "source": [
    "### Impute values"
   ]
  },
  {
   "cell_type": "code",
   "execution_count": 30,
   "id": "15ad2a09",
   "metadata": {},
   "outputs": [],
   "source": [
    "def get_a_team(nation_name, wc_year):\n",
    "    team = df[(df.national_team == nation_name) &(df.year == wc_year)]\n",
    "    return team    "
   ]
  },
  {
   "cell_type": "code",
   "execution_count": 31,
   "id": "7cbfc917",
   "metadata": {},
   "outputs": [],
   "source": [
    "def get_team_median(nation_name, wc_year):\n",
    "    # Obtain a data frame of a particular team \n",
    "    team = get_a_team(nation_name, wc_year)\n",
    "    # and get its caps median\n",
    "    team_median = team.caps.median()\n",
    "    # In case the median is a rational number, round it up\n",
    "    team_median = np.ceil(team_median)\n",
    "    return team_median"
   ]
  },
  {
   "cell_type": "code",
   "execution_count": 32,
   "id": "b16e2cc1",
   "metadata": {},
   "outputs": [],
   "source": [
    "def get_team_nans_list(nation_name, wc_year, column_name):\n",
    "    # call get_a_team to get the data frame of the desired team\n",
    "    team_nans = get_a_team(nation_name, wc_year)\n",
    "    # filter the data frame by nan values in the selected column(passed as parameter)\n",
    "    team_nans = team_nans[(team_nans[column_name].isna()== True)]\n",
    "    # make a list with the indexes of the filtered data frame\n",
    "    listed_by_index = team_nans.index.to_list()\n",
    "    return listed_by_index"
   ]
  },
  {
   "cell_type": "code",
   "execution_count": 33,
   "id": "c0b41913",
   "metadata": {},
   "outputs": [],
   "source": [
    "# Void function\n",
    "def fill_nan_in_team(nation_name, wc_year, column_name):\n",
    "    # Get all the indexes that represent footballers with no caps data, and for each of them \n",
    "    for index in get_team_nans_list(nation_name, wc_year, column_name):\n",
    "    # calculate the respective team's median. Then, impute this median to each record in the original data frame.\n",
    "        df.at[index, column_name] = get_team_median(nation_name, wc_year)        "
   ]
  },
  {
   "cell_type": "code",
   "execution_count": 34,
   "id": "4d2ae93b",
   "metadata": {},
   "outputs": [],
   "source": [
    "# This function records and points out in which column of the data frame an imputation was made.\n",
    "def record_imputation(a_list,column_name):\n",
    "    for element in a_list:\n",
    "        df.at[element,'imputed'] = column_name        "
   ]
  },
  {
   "cell_type": "code",
   "execution_count": 35,
   "id": "a4cdd53f",
   "metadata": {},
   "outputs": [],
   "source": [
    "def fill_all(list_of_tuples, name_of_column):\n",
    "    # iterate over a list of tuples (of the form (country, year)) \n",
    "    for elemento in list_of_tuples:\n",
    "        # call the functions above to do all the job at once\n",
    "        list_of_indexes = get_team_nans_list(elemento[0], elemento[1], name_of_column)\n",
    "        fill_nan_in_team(elemento[0], elemento[1], name_of_column)\n",
    "        record_imputation(list_of_indexes, name_of_column)"
   ]
  },
  {
   "cell_type": "code",
   "execution_count": 36,
   "id": "e854308b",
   "metadata": {},
   "outputs": [],
   "source": [
    "fill_all(unique_nan_list, 'caps')"
   ]
  },
  {
   "cell_type": "markdown",
   "id": "d3edeea2",
   "metadata": {},
   "source": [
    "Let's fill in the  null values of  the Paraguay national team of 1950."
   ]
  },
  {
   "cell_type": "code",
   "execution_count": 37,
   "id": "872f63e1",
   "metadata": {},
   "outputs": [
    {
     "data": {
      "text/plain": [
       "22"
      ]
     },
     "execution_count": 37,
     "metadata": {},
     "output_type": "execute_result"
    }
   ],
   "source": [
    "capsNan = df[df.caps.isna()]\n",
    "len(capsNan)"
   ]
  },
  {
   "cell_type": "code",
   "execution_count": 38,
   "id": "933decb2",
   "metadata": {},
   "outputs": [],
   "source": [
    "#capsNan"
   ]
  },
  {
   "cell_type": "code",
   "execution_count": 39,
   "id": "a2051e05",
   "metadata": {},
   "outputs": [],
   "source": [
    "list_indexes = capsNan.index.to_list()"
   ]
  },
  {
   "cell_type": "code",
   "execution_count": 40,
   "id": "6232b826",
   "metadata": {},
   "outputs": [
    {
     "name": "stdout",
     "output_type": "stream",
     "text": [
      "[1028, 1029, 1030, 1031, 1032, 1033, 1034, 1035, 1036, 1037, 1038, 1039, 1040, 1041, 1042, 1043, 1044, 1045, 1046, 1047, 1048, 1049]\n"
     ]
    }
   ],
   "source": [
    "print(list_indexes)"
   ]
  },
  {
   "cell_type": "markdown",
   "id": "b150e5f1",
   "metadata": {},
   "source": [
    "We decided to calculate the median of all the South American teams in the tournament and impute that value to the Paraguayan national team."
   ]
  },
  {
   "cell_type": "code",
   "execution_count": 41,
   "id": "24a26474",
   "metadata": {},
   "outputs": [],
   "source": [
    "df1950 = df[df.year == 1950]"
   ]
  },
  {
   "cell_type": "code",
   "execution_count": 42,
   "id": "294df58e",
   "metadata": {},
   "outputs": [],
   "source": [
    "df1950Bol = df1950[(df1950.national_team == 'Bolivia')]\n",
    "df1950Bra = df1950[(df1950.national_team == 'Brazil')]\n",
    "df1950Chi = df1950[(df1950.national_team == 'Chile')]\n",
    "df1950Uru = df1950[(df1950.national_team == 'Uruguay')]"
   ]
  },
  {
   "cell_type": "code",
   "execution_count": 43,
   "id": "083cb6ff",
   "metadata": {},
   "outputs": [],
   "source": [
    "df1950SAm = pd.concat([df1950Bol, df1950Bra, df1950Chi, df1950Uru])"
   ]
  },
  {
   "cell_type": "code",
   "execution_count": 44,
   "id": "e926ae49",
   "metadata": {},
   "outputs": [],
   "source": [
    "for element in list_indexes:\n",
    "        # impute value\n",
    "        df.at[element,'caps']  = df1950SAm.caps.median()\n",
    "        # record the imputation\n",
    "        df.at[element,'imputed'] = 'caps'"
   ]
  },
  {
   "cell_type": "code",
   "execution_count": 45,
   "id": "03fcc27e",
   "metadata": {},
   "outputs": [],
   "source": [
    "# optimize the memory usage\n",
    "df.caps = pd.Series(df.caps, dtype=pd.Int16Dtype())"
   ]
  },
  {
   "cell_type": "markdown",
   "id": "2a6989ee",
   "metadata": {},
   "source": [
    "### Column 'national_team'"
   ]
  },
  {
   "cell_type": "markdown",
   "id": "9e7cf68c",
   "metadata": {},
   "source": [
    "Normalize Yugoslavia's name."
   ]
  },
  {
   "cell_type": "code",
   "execution_count": 46,
   "id": "e0acbec3",
   "metadata": {},
   "outputs": [],
   "source": [
    "teams = df.national_team.unique().tolist()\n",
    "teams.sort()"
   ]
  },
  {
   "cell_type": "code",
   "execution_count": 47,
   "id": "15390e87",
   "metadata": {},
   "outputs": [
    {
     "name": "stdout",
     "output_type": "stream",
     "text": [
      "['Algeria', 'Angola', 'Argentina', 'Australia', 'Austria', 'Belgium', 'Bolivia', 'Bosnia and Herzegovina', 'Brazil', 'Bulgaria', 'Cameroon', 'Canada', 'Chile', 'China PR', 'Colombia', 'Costa Rica', 'Croatia', 'Cuba', 'Czech Republic', 'Czechoslovakia', 'Denmark', 'Dutch East Indies', 'East Germany', 'Ecuador', 'Egypt', 'El Salvador', 'England', 'FR Yugoslavia', 'France', 'Germany', 'Ghana', 'Greece', 'Haiti', 'Honduras', 'Hungary', 'Iceland', 'Iran', 'Iraq', 'Israel', 'Italy', 'Ivory Coast', 'Jamaica', 'Japan', 'Kuwait', 'Mexico', 'Morocco', 'Netherlands', 'New Zealand', 'Nigeria', 'North Korea', 'Northern Ireland', 'Norway', 'Panama', 'Paraguay', 'Peru', 'Poland', 'Portugal', 'Qatar', 'Republic of Ireland', 'Romania', 'Russia', 'Saudi Arabia', 'Scotland', 'Senegal', 'Serbia', 'Serbia and Montenegro', 'Slovakia', 'Slovenia', 'South Africa', 'South Korea', 'Soviet Union', 'Spain', 'Sweden', 'Switzerland', 'Togo', 'Trinidad and Tobago', 'Tunisia', 'Turkey', 'Ukraine', 'United Arab Emirates', 'United States', 'Uruguay', 'Wales', 'West Germany', 'Yugoslavia', 'Zaire']\n"
     ]
    }
   ],
   "source": [
    "print(teams)"
   ]
  },
  {
   "cell_type": "code",
   "execution_count": 48,
   "id": "aa5b4483",
   "metadata": {},
   "outputs": [],
   "source": [
    "yugo = df[df.national_team == 'FR Yugoslavia'].index.tolist()"
   ]
  },
  {
   "cell_type": "code",
   "execution_count": 49,
   "id": "ef30f27a",
   "metadata": {},
   "outputs": [],
   "source": [
    "for ind in yugo:\n",
    "    df.at[ind, 'national_team'] = 'Yugoslavia'"
   ]
  },
  {
   "cell_type": "markdown",
   "id": "969e567e",
   "metadata": {},
   "source": [
    "### Column 'club_origin'"
   ]
  },
  {
   "cell_type": "code",
   "execution_count": 50,
   "id": "089d7bc9",
   "metadata": {},
   "outputs": [
    {
     "data": {
      "text/html": [
       "<div>\n",
       "<style scoped>\n",
       "    .dataframe tbody tr th:only-of-type {\n",
       "        vertical-align: middle;\n",
       "    }\n",
       "\n",
       "    .dataframe tbody tr th {\n",
       "        vertical-align: top;\n",
       "    }\n",
       "\n",
       "    .dataframe thead th {\n",
       "        text-align: right;\n",
       "    }\n",
       "</style>\n",
       "<table border=\"1\" class=\"dataframe\">\n",
       "  <thead>\n",
       "    <tr style=\"text-align: right;\">\n",
       "      <th></th>\n",
       "      <th>player</th>\n",
       "      <th>national_team</th>\n",
       "      <th>position</th>\n",
       "      <th>birthday</th>\n",
       "      <th>caps</th>\n",
       "      <th>club</th>\n",
       "      <th>club_origin</th>\n",
       "      <th>wc_date</th>\n",
       "      <th>year</th>\n",
       "      <th>imputed</th>\n",
       "    </tr>\n",
       "  </thead>\n",
       "  <tbody>\n",
       "    <tr>\n",
       "      <th>3303</th>\n",
       "      <td>Alberto Tarantini</td>\n",
       "      <td>Argentina</td>\n",
       "      <td>DF</td>\n",
       "      <td>(1955-12-03)</td>\n",
       "      <td>26</td>\n",
       "      <td>Free agent[1]</td>\n",
       "      <td>None</td>\n",
       "      <td>1978-06-01</td>\n",
       "      <td>1978</td>\n",
       "      <td>-</td>\n",
       "    </tr>\n",
       "    <tr>\n",
       "      <th>7973</th>\n",
       "      <td>Craig Moore</td>\n",
       "      <td>Australia</td>\n",
       "      <td>DF</td>\n",
       "      <td>(1975-12-12)</td>\n",
       "      <td>50</td>\n",
       "      <td>Unattached</td>\n",
       "      <td>None</td>\n",
       "      <td>2010-06-11</td>\n",
       "      <td>2010</td>\n",
       "      <td>-</td>\n",
       "    </tr>\n",
       "    <tr>\n",
       "      <th>8345</th>\n",
       "      <td>Simon Elliott</td>\n",
       "      <td>New Zealand</td>\n",
       "      <td>MF</td>\n",
       "      <td>(1974-06-10)</td>\n",
       "      <td>63</td>\n",
       "      <td>Unattached</td>\n",
       "      <td>None</td>\n",
       "      <td>2010-06-11</td>\n",
       "      <td>2010</td>\n",
       "      <td>-</td>\n",
       "    </tr>\n",
       "    <tr>\n",
       "      <th>8355</th>\n",
       "      <td>Dave Mulligan</td>\n",
       "      <td>New Zealand</td>\n",
       "      <td>MF</td>\n",
       "      <td>(1982-03-24)</td>\n",
       "      <td>25</td>\n",
       "      <td>Unattached</td>\n",
       "      <td>None</td>\n",
       "      <td>2010-06-11</td>\n",
       "      <td>2010</td>\n",
       "      <td>-</td>\n",
       "    </tr>\n",
       "  </tbody>\n",
       "</table>\n",
       "</div>"
      ],
      "text/plain": [
       "                 player national_team position       birthday  caps  \\\n",
       "3303  Alberto Tarantini     Argentina       DF   (1955-12-03)    26   \n",
       "7973        Craig Moore     Australia       DF   (1975-12-12)    50   \n",
       "8345      Simon Elliott   New Zealand       MF   (1974-06-10)    63   \n",
       "8355      Dave Mulligan   New Zealand       MF   (1982-03-24)    25   \n",
       "\n",
       "               club club_origin    wc_date  year imputed  \n",
       "3303  Free agent[1]        None 1978-06-01  1978       -  \n",
       "7973     Unattached        None 2010-06-11  2010       -  \n",
       "8345     Unattached        None 2010-06-11  2010       -  \n",
       "8355     Unattached        None 2010-06-11  2010       -  "
      ]
     },
     "execution_count": 50,
     "metadata": {},
     "output_type": "execute_result"
    }
   ],
   "source": [
    "club_originNan = df[df.club_origin.isna()]\n",
    "club_originNan"
   ]
  },
  {
   "cell_type": "code",
   "execution_count": 51,
   "id": "3e191e30",
   "metadata": {},
   "outputs": [],
   "source": [
    "df.at[3303,'club'], df.at[3303,'club_origin'] = 'Free Agent', '-'\n",
    "df.at[7973,'club'], df.at[7973,'club_origin'] = 'Kavala', 'Greece'\n",
    "df.at[8345,'club'], df.at[8345,'club_origin'] = 'San Jose Earthquakes', 'United States'\n",
    "df.at[8355,'club'], df.at[8355,'club_origin'] = 'Wellington Phoenix', 'New Zealand'"
   ]
  },
  {
   "cell_type": "code",
   "execution_count": 52,
   "id": "c9adea64",
   "metadata": {},
   "outputs": [],
   "source": [
    "# normalize Yugoslavia's name\n",
    "#df['club_origin'] = df[df['club_origin'].apply(lambda x: x.replace('Socialist Federal Republic of',''))]"
   ]
  },
  {
   "cell_type": "code",
   "execution_count": 53,
   "id": "140acbc9",
   "metadata": {},
   "outputs": [],
   "source": [
    "# get_nan_in_df(df)"
   ]
  },
  {
   "cell_type": "markdown",
   "id": "661fcf04",
   "metadata": {},
   "source": [
    "### Normalize column 'player'"
   ]
  },
  {
   "cell_type": "markdown",
   "id": "bd1b6103",
   "metadata": {},
   "source": [
    "As far as we can see, this data has several punctuation marks we need to remove."
   ]
  },
  {
   "cell_type": "code",
   "execution_count": 54,
   "id": "c6de1c88",
   "metadata": {},
   "outputs": [],
   "source": [
    "punctuation = ['!','\"','#','$','~','%','&','\\'','(',')','*','+',',','-','.','/',':',';',\n",
    "               '<','=','>','?','@','[','\\\\',']','^','_','`','{','|','}']"
   ]
  },
  {
   "cell_type": "markdown",
   "id": "1786e6d8",
   "metadata": {},
   "source": [
    "We can filter the data frame by all the registers in the column 'player' that contain punctuation marks."
   ]
  },
  {
   "cell_type": "code",
   "execution_count": 55,
   "id": "4f0db212",
   "metadata": {},
   "outputs": [],
   "source": [
    "def find_punctuation(a_string):\n",
    "    for element in punctuation:\n",
    "        if element != '-':\n",
    "            if element in a_string:\n",
    "                return True\n",
    "    return False            "
   ]
  },
  {
   "cell_type": "code",
   "execution_count": 56,
   "id": "fe540d91",
   "metadata": {},
   "outputs": [],
   "source": [
    "dfPunt = df[df.player.apply(find_punctuation)]"
   ]
  },
  {
   "cell_type": "code",
   "execution_count": 57,
   "id": "b37aae21",
   "metadata": {},
   "outputs": [],
   "source": [
    "#dfPunt"
   ]
  },
  {
   "cell_type": "code",
   "execution_count": 58,
   "id": "3fa7c4c4",
   "metadata": {},
   "outputs": [],
   "source": [
    "# Split the strings on the first unwanted char, then keep the first element of the resulting list, that's the desired value.\n",
    "df.player = df.player.apply(lambda x: x.split('[')[0])\n",
    "df.player = df.player.apply(lambda x: x.split(' (')[0])\n",
    "df.player = df.player.apply(lambda x: x.split('*')[0])"
   ]
  },
  {
   "cell_type": "code",
   "execution_count": 59,
   "id": "d740f84a",
   "metadata": {},
   "outputs": [],
   "source": [
    "# Getting rid of footballers' nicknames by removing all those chars between quotation marks or between apostrophes\n",
    "df.player = df.player.apply(lambda x: re.sub(r'\"([A-Za-z0-9_\\./\\\\-]*)\"' ,'' , x))\n",
    "df.player = df.player.apply(lambda x: re.sub(r\"'([A-Za-z0-9_\\./\\\\-]*)'\" ,'' , x))"
   ]
  },
  {
   "cell_type": "code",
   "execution_count": 60,
   "id": "4bd11d27",
   "metadata": {},
   "outputs": [],
   "source": [
    "from unidecode import unidecode"
   ]
  },
  {
   "cell_type": "code",
   "execution_count": 61,
   "id": "2e42e69a",
   "metadata": {},
   "outputs": [],
   "source": [
    "# Apply unidecode to column 'player' to normalize the name of the players\n",
    "df['player'] = df['player'].apply(lambda x: unidecode(x))"
   ]
  },
  {
   "cell_type": "code",
   "execution_count": 62,
   "id": "8daf22cf",
   "metadata": {},
   "outputs": [
    {
     "data": {
      "text/html": [
       "<div>\n",
       "<style scoped>\n",
       "    .dataframe tbody tr th:only-of-type {\n",
       "        vertical-align: middle;\n",
       "    }\n",
       "\n",
       "    .dataframe tbody tr th {\n",
       "        vertical-align: top;\n",
       "    }\n",
       "\n",
       "    .dataframe thead th {\n",
       "        text-align: right;\n",
       "    }\n",
       "</style>\n",
       "<table border=\"1\" class=\"dataframe\">\n",
       "  <thead>\n",
       "    <tr style=\"text-align: right;\">\n",
       "      <th></th>\n",
       "      <th>player</th>\n",
       "      <th>national_team</th>\n",
       "      <th>position</th>\n",
       "      <th>birthday</th>\n",
       "      <th>caps</th>\n",
       "      <th>club</th>\n",
       "      <th>club_origin</th>\n",
       "      <th>wc_date</th>\n",
       "      <th>year</th>\n",
       "      <th>imputed</th>\n",
       "    </tr>\n",
       "  </thead>\n",
       "  <tbody>\n",
       "    <tr>\n",
       "      <th>0</th>\n",
       "      <td>Angel Bossio</td>\n",
       "      <td>Argentina</td>\n",
       "      <td>GK</td>\n",
       "      <td>(1905-05-05)</td>\n",
       "      <td>16</td>\n",
       "      <td>Talleres (BA)</td>\n",
       "      <td>Argentina</td>\n",
       "      <td>1930-07-17</td>\n",
       "      <td>1930</td>\n",
       "      <td>-</td>\n",
       "    </tr>\n",
       "    <tr>\n",
       "      <th>1</th>\n",
       "      <td>Juan Botasso</td>\n",
       "      <td>Argentina</td>\n",
       "      <td>GK</td>\n",
       "      <td>(1908-10-23)</td>\n",
       "      <td>2</td>\n",
       "      <td>Argentino (Q)</td>\n",
       "      <td>Argentina</td>\n",
       "      <td>1930-07-17</td>\n",
       "      <td>1930</td>\n",
       "      <td>-</td>\n",
       "    </tr>\n",
       "    <tr>\n",
       "      <th>2</th>\n",
       "      <td>Roberto Cherro</td>\n",
       "      <td>Argentina</td>\n",
       "      <td>FW</td>\n",
       "      <td>(1907-02-23)</td>\n",
       "      <td>10</td>\n",
       "      <td>Boca Juniors</td>\n",
       "      <td>Argentina</td>\n",
       "      <td>1930-07-17</td>\n",
       "      <td>1930</td>\n",
       "      <td>-</td>\n",
       "    </tr>\n",
       "    <tr>\n",
       "      <th>3</th>\n",
       "      <td>Alberto Chividini</td>\n",
       "      <td>Argentina</td>\n",
       "      <td>DF</td>\n",
       "      <td>(1907-02-23)</td>\n",
       "      <td>2</td>\n",
       "      <td>Central Norte</td>\n",
       "      <td>Argentina</td>\n",
       "      <td>1930-07-17</td>\n",
       "      <td>1930</td>\n",
       "      <td>-</td>\n",
       "    </tr>\n",
       "    <tr>\n",
       "      <th>4</th>\n",
       "      <td>Attilio Demaria</td>\n",
       "      <td>Argentina</td>\n",
       "      <td>FW</td>\n",
       "      <td>(1909-03-19)</td>\n",
       "      <td>0</td>\n",
       "      <td>Estudiantil Porteño</td>\n",
       "      <td>Argentina</td>\n",
       "      <td>1930-07-17</td>\n",
       "      <td>1930</td>\n",
       "      <td>-</td>\n",
       "    </tr>\n",
       "    <tr>\n",
       "      <th>...</th>\n",
       "      <td>...</td>\n",
       "      <td>...</td>\n",
       "      <td>...</td>\n",
       "      <td>...</td>\n",
       "      <td>...</td>\n",
       "      <td>...</td>\n",
       "      <td>...</td>\n",
       "      <td>...</td>\n",
       "      <td>...</td>\n",
       "      <td>...</td>\n",
       "    </tr>\n",
       "    <tr>\n",
       "      <th>10959</th>\n",
       "      <td>Sorba Thomas</td>\n",
       "      <td>Wales</td>\n",
       "      <td>MF</td>\n",
       "      <td>(1999-01-25)</td>\n",
       "      <td>6</td>\n",
       "      <td>Huddersfield Town</td>\n",
       "      <td>England</td>\n",
       "      <td>2022-11-20</td>\n",
       "      <td>2022</td>\n",
       "      <td>-</td>\n",
       "    </tr>\n",
       "    <tr>\n",
       "      <th>10960</th>\n",
       "      <td>Dylan Levitt</td>\n",
       "      <td>Wales</td>\n",
       "      <td>MF</td>\n",
       "      <td>(2000-11-17)</td>\n",
       "      <td>13</td>\n",
       "      <td>Dundee United</td>\n",
       "      <td>Scotland</td>\n",
       "      <td>2022-11-20</td>\n",
       "      <td>2022</td>\n",
       "      <td>-</td>\n",
       "    </tr>\n",
       "    <tr>\n",
       "      <th>10961</th>\n",
       "      <td>Ben Cabango</td>\n",
       "      <td>Wales</td>\n",
       "      <td>DF</td>\n",
       "      <td>(2000-05-30)</td>\n",
       "      <td>5</td>\n",
       "      <td>Swansea City</td>\n",
       "      <td>Wales</td>\n",
       "      <td>2022-11-20</td>\n",
       "      <td>2022</td>\n",
       "      <td>-</td>\n",
       "    </tr>\n",
       "    <tr>\n",
       "      <th>10962</th>\n",
       "      <td>Rubin Colwill</td>\n",
       "      <td>Wales</td>\n",
       "      <td>MF</td>\n",
       "      <td>(2002-04-27)</td>\n",
       "      <td>7</td>\n",
       "      <td>Cardiff City</td>\n",
       "      <td>Wales</td>\n",
       "      <td>2022-11-20</td>\n",
       "      <td>2022</td>\n",
       "      <td>-</td>\n",
       "    </tr>\n",
       "    <tr>\n",
       "      <th>10963</th>\n",
       "      <td>Matthew Smith</td>\n",
       "      <td>Wales</td>\n",
       "      <td>MF</td>\n",
       "      <td>(1999-11-22)</td>\n",
       "      <td>19</td>\n",
       "      <td>Milton Keynes Dons</td>\n",
       "      <td>England</td>\n",
       "      <td>2022-11-20</td>\n",
       "      <td>2022</td>\n",
       "      <td>-</td>\n",
       "    </tr>\n",
       "  </tbody>\n",
       "</table>\n",
       "<p>10964 rows × 10 columns</p>\n",
       "</div>"
      ],
      "text/plain": [
       "                  player national_team position       birthday  caps  \\\n",
       "0           Angel Bossio     Argentina       GK   (1905-05-05)    16   \n",
       "1           Juan Botasso     Argentina       GK   (1908-10-23)     2   \n",
       "2         Roberto Cherro     Argentina       FW   (1907-02-23)    10   \n",
       "3      Alberto Chividini     Argentina       DF   (1907-02-23)     2   \n",
       "4        Attilio Demaria     Argentina       FW   (1909-03-19)     0   \n",
       "...                  ...           ...      ...            ...   ...   \n",
       "10959       Sorba Thomas         Wales       MF   (1999-01-25)     6   \n",
       "10960       Dylan Levitt         Wales       MF   (2000-11-17)    13   \n",
       "10961        Ben Cabango         Wales       DF   (2000-05-30)     5   \n",
       "10962      Rubin Colwill         Wales       MF   (2002-04-27)     7   \n",
       "10963      Matthew Smith         Wales       MF   (1999-11-22)    19   \n",
       "\n",
       "                      club club_origin    wc_date  year imputed  \n",
       "0            Talleres (BA)   Argentina 1930-07-17  1930       -  \n",
       "1            Argentino (Q)   Argentina 1930-07-17  1930       -  \n",
       "2             Boca Juniors   Argentina 1930-07-17  1930       -  \n",
       "3            Central Norte   Argentina 1930-07-17  1930       -  \n",
       "4      Estudiantil Porteño   Argentina 1930-07-17  1930       -  \n",
       "...                    ...         ...        ...   ...     ...  \n",
       "10959    Huddersfield Town     England 2022-11-20  2022       -  \n",
       "10960        Dundee United    Scotland 2022-11-20  2022       -  \n",
       "10961         Swansea City       Wales 2022-11-20  2022       -  \n",
       "10962         Cardiff City       Wales 2022-11-20  2022       -  \n",
       "10963   Milton Keynes Dons     England 2022-11-20  2022       -  \n",
       "\n",
       "[10964 rows x 10 columns]"
      ]
     },
     "execution_count": 62,
     "metadata": {},
     "output_type": "execute_result"
    }
   ],
   "source": [
    "df"
   ]
  },
  {
   "cell_type": "markdown",
   "id": "3ca1515b",
   "metadata": {},
   "source": [
    "### Normalize  column 'birthday'"
   ]
  },
  {
   "cell_type": "code",
   "execution_count": 63,
   "id": "0c815d1f",
   "metadata": {},
   "outputs": [],
   "source": [
    "list_of_birthdays = df.birthday.tolist()"
   ]
  },
  {
   "cell_type": "code",
   "execution_count": 64,
   "id": "c671c61f",
   "metadata": {},
   "outputs": [
    {
     "data": {
      "text/plain": [
       "[' (1905-05-05)',\n",
       " ' (1908-10-23)',\n",
       " ' (1907-02-23)',\n",
       " ' (1907-02-23)',\n",
       " ' (1909-03-19)',\n",
       " ' (1906-03-23)',\n",
       " ' (1902-06-20)',\n",
       " ' (1908-12-10)',\n",
       " ' (1905-10-22)',\n",
       " ' (1901-05-15)',\n",
       " ' (1899-03-12)',\n",
       " ' (1905-01-01)',\n",
       " ' (1903-05-24)',\n",
       " ' (1900-12-28)',\n",
       " ' (1908-09-13)',\n",
       " ' (1905-10-03)',\n",
       " ' (1908-05-12)',\n",
       " ' (1902-02-05)',\n",
       " ' (1905-01-17)',\n",
       " ' (1908-06-05)',\n",
       " ' (1910-02-05)',\n",
       " ' (1902-01-05)',\n",
       " ' (1903-05-03)',\n",
       " ' (1909-06-26)',\n",
       " ' (1900-10-26)',\n",
       " ' (1901-03-16)',\n",
       " ' (1892-05-09)',\n",
       " ' (1905-05-17)',\n",
       " ' (1907-08-03)',\n",
       " ' (1903-09-01)',\n",
       " ' (1908-09-14)',\n",
       " ' (1907-09-14)',\n",
       " ' (1900-12-29)',\n",
       " ' (1900-09-06)',\n",
       " ' (1908-02-17)',\n",
       " ' (1911-02-20)',\n",
       " ' (1908-12-05)',\n",
       " ' (1910-05-10)',\n",
       " ' (1910-09-19)',\n",
       " ' (1906-11-25)',\n",
       " ' (1902-01-24)',\n",
       " ' (1901-06-13)',\n",
       " ' (1907-01-01)',\n",
       " ' (1901-08-03)',\n",
       " ' (1912-03-17)',\n",
       " ' (1906-01-01)',\n",
       " ' (1907-01-21)',\n",
       " ' (1903-04-06)',\n",
       " ' (1904-01-01)',\n",
       " ' (1898-03-24)',\n",
       " '\\n',\n",
       " ' (1907-01-01)',\n",
       " ' (1911-06-05)',\n",
       " ' (1899-12-14)',\n",
       " ' (1906-12-12)',\n",
       " ' (1905-07-17)',\n",
       " ' (1906-10-30)',\n",
       " ' (1904-11-05)',\n",
       " ' (1912-06-25)',\n",
       " ' (1905-01-28)',\n",
       " ' (1906-03-01)',\n",
       " ' (1901-09-09)',\n",
       " ' (1908-11-04)',\n",
       " ' (1907-05-22)',\n",
       " ' (1910-05-16)',\n",
       " ' (1904-05-01)',\n",
       " ' (1907-08-22)',\n",
       " ' (1902-07-14)',\n",
       " ' (1903-04-03)',\n",
       " ' (1907-01-17)',\n",
       " ' (1904-03-24)',\n",
       " ' (1909-01-26)',\n",
       " ' (1905-02-08)',\n",
       " ' (1902-12-18)',\n",
       " ' (1900-04-11)',\n",
       " ' (1908-09-25)',\n",
       " ' (1904-11-16)',\n",
       " ' (1903-10-23)',\n",
       " ' (1908-08-21)',\n",
       " ' (1901-01-04)',\n",
       " ' (1905-01-14)',\n",
       " ' (1905-02-02)',\n",
       " ' (1904-09-10)',\n",
       " ' (1900-09-28)',\n",
       " ' (1905-05-10)',\n",
       " '1 January 1900 (aged 30)\\n',\n",
       " ' (1910-04-20)',\n",
       " ' (1897-02-02)',\n",
       " ' (1902-02-10)',\n",
       " ' (1903-11-05)',\n",
       " ' (1902-06-21)',\n",
       " ' (1902-02-25)',\n",
       " ' (1906-10-20)',\n",
       " '1 January 1906 (age 24)\\n',\n",
       " ' (1902-02-24)',\n",
       " ' (1908-04-01)',\n",
       " ' (1908-03-19)',\n",
       " ' (1904-12-11)',\n",
       " ' (1906-11-11)',\n",
       " ' (1907-11-01)',\n",
       " ' (1907-02-15)',\n",
       " ' (1908-06-02)',\n",
       " ' (1906-12-30)',\n",
       " ' (1907-12-10)',\n",
       " ' (1906-03-22)',\n",
       " ' (1903-06-28)',\n",
       " ' (1905-12-25)',\n",
       " ' (1908-07-08)',\n",
       " ' (1902-12-24)',\n",
       " ' (1906-07-30)',\n",
       " ' (1907-06-12)',\n",
       " ' (1904-12-24)',\n",
       " ' (1907-08-03)',\n",
       " ' (1905-10-05)',\n",
       " ' (1907-08-14)',\n",
       " '1 January 1900 (age 30)\\n',\n",
       " ' (1896-12-13)',\n",
       " ' (1904-03-14)',\n",
       " '1 January 1905 (age 25)\\n',\n",
       " ' (1907-11-18)',\n",
       " ' (1907-01-06)',\n",
       " '18 November 1907 (age 22)\\n',\n",
       " '1 January 1907 (age 23)\\n',\n",
       " '15 April 1905 (age 25)\\n',\n",
       " ' (1910-02-05)',\n",
       " ' (1912-04-17)',\n",
       " '1 January 1904 (age 26)\\n',\n",
       " ' (1908-05-24)',\n",
       " ' (1902-02-04)',\n",
       " '1908\\n',\n",
       " ' (1901-01-12)',\n",
       " '1906\\n',\n",
       " ' (1910-09-24)',\n",
       " '\\n',\n",
       " '\\n',\n",
       " '1901\\n',\n",
       " '1901\\n',\n",
       " '1902\\n',\n",
       " ' (1906-12-15)',\n",
       " '\\n',\n",
       " '1906\\n',\n",
       " '1907\\n',\n",
       " ' (1905-09-25)',\n",
       " ' (1903-09-23)',\n",
       " '1904\\n',\n",
       " ' (1907-12-21)',\n",
       " '\\n',\n",
       " '\\n',\n",
       " '1906\\n',\n",
       " ' (1907-04-23)',\n",
       " '\\n',\n",
       " ' (1905-08-15)',\n",
       " ' (1910-07-01)',\n",
       " ' (1901-01-31)',\n",
       " ' (1906-08-07)',\n",
       " ' (1910-04-10)',\n",
       " ' (1906-03-09)',\n",
       " ' (1904-11-30)',\n",
       " ' (1911-06-05)',\n",
       " ' (1908-09-15)',\n",
       " ' (1902-11-29)',\n",
       " ' (1908-12-15)',\n",
       " ' (1908-06-22)',\n",
       " ' (1909-12-19)',\n",
       " ' (1904-07-13)',\n",
       " ' (1910-08-30)',\n",
       " ' (1900-11-02)',\n",
       " ' (1906-03-10)',\n",
       " ' (1904-06-30)',\n",
       " ' (1910-05-06)',\n",
       " ' (1908-06-04)',\n",
       " ' (1908-03-02)',\n",
       " ' (1908-10-31)',\n",
       " ' (1906-06-11)',\n",
       " ' (1909-03-24)',\n",
       " ' (1908-04-07)',\n",
       " ' (1911-12-23)',\n",
       " ' (1908-12-08)',\n",
       " ' (1905-04-23)',\n",
       " ' (1908-05-23)',\n",
       " ' (1907-09-24)',\n",
       " ' (1907-01-24)',\n",
       " ' (1906-01-01)',\n",
       " ' (1905-08-12)',\n",
       " ' (1901-03-17)',\n",
       " ' (1900-11-10)',\n",
       " ' (1900-01-26)',\n",
       " ' (1904-09-12)',\n",
       " ' (1908-12-31)',\n",
       " ' (1898-01-12)',\n",
       " ' (1897-09-06)',\n",
       " ' (1901-06-07)',\n",
       " ' (1904-07-21)',\n",
       " ' (1908-08-10)',\n",
       " ' (1899-04-30)',\n",
       " ' (1901-05-04)',\n",
       " ' (1907-05-22)',\n",
       " ' (1909-11-04)',\n",
       " ' (1907-01-20)',\n",
       " ' (1904-02-06)',\n",
       " ' (1902-02-18)',\n",
       " ' (1907-06-12)',\n",
       " ' (1901-11-22)',\n",
       " ' (1902-04-30)',\n",
       " ' (1905-01-18)',\n",
       " ' (1906-06-26)',\n",
       " ' (1904-01-05)',\n",
       " ' (1904-11-29)',\n",
       " ' (1900-09-01)',\n",
       " ' (1908-06-22)',\n",
       " ' (1900-05-20)',\n",
       " ' (1907-05-17)',\n",
       " ' (1902-11-02)',\n",
       " ' (1907-11-21)',\n",
       " ' (1905-03-22)',\n",
       " ' (1901-05-24)',\n",
       " ' (1905-05-11)',\n",
       " ' (1905-06-17)',\n",
       " ' (1904-11-03)',\n",
       " ' (1903-11-05)',\n",
       " ' (1903-10-26)',\n",
       " ' (1898-11-26)',\n",
       " ' (1899-07-27)',\n",
       " ' (1900-03-30)',\n",
       " ' (1906-06-06)',\n",
       " ' (1909-10-29)',\n",
       " ' (1911-02-27)',\n",
       " ' (1908-06-05)',\n",
       " ' (1906-03-03)',\n",
       " ' (1909-09-19)',\n",
       " ' (1907-09-09)',\n",
       " ' (1900-01-01)',\n",
       " ' (1906-12-13)',\n",
       " ' (1908-04-15)',\n",
       " ' (1906-10-29)',\n",
       " ' (1909-01-21)',\n",
       " ' (1910-01-04)',\n",
       " ' (1911-12-28)',\n",
       " ' (1910-07-15)',\n",
       " ' (1909-11-08)',\n",
       " ' (1909-11-29)',\n",
       " ' (1907-09-25)',\n",
       " '\\n',\n",
       " ' (1909-02-01)',\n",
       " '\\n',\n",
       " ' (1911-01-24)',\n",
       " ' (1911-05-22)',\n",
       " ' (1912-03-04)',\n",
       " ' (1914-03-02)',\n",
       " ' (1915-03-21)',\n",
       " '\\n',\n",
       " ' (1910-09-15)',\n",
       " '\\n',\n",
       " ' (1905-10-13)',\n",
       " ' (1909-06-06)',\n",
       " '\\n',\n",
       " ' (1911-02-04)',\n",
       " ' (1907-08-12)',\n",
       " '1909\\n',\n",
       " ' (1913-09-25)',\n",
       " ' (1907-02-22)',\n",
       " ' (1908-11-28)',\n",
       " ' (1905-03-06)',\n",
       " ' (1910-05-21)',\n",
       " ' (1905-10-31)',\n",
       " ' (1903-05-20)',\n",
       " ' (1904-05-01)',\n",
       " ' (1911-02-09)',\n",
       " ' (1910-05-29)',\n",
       " ' (1911-02-07)',\n",
       " ' (1907-06-22)',\n",
       " ' (1911-06-16)',\n",
       " ' (1906-03-18)',\n",
       " ' (1903-02-10)',\n",
       " ' (1905-11-28)',\n",
       " ' (1913-03-05)',\n",
       " ' (1910-10-10)',\n",
       " ' (1902-11-12)',\n",
       " ' (1911-09-23)',\n",
       " ' (1906-03-23)',\n",
       " ' (1910-08-28)',\n",
       " ' (1909-06-26)',\n",
       " ' (1908-12-13)',\n",
       " ' (1911-07-29)',\n",
       " ' (1913-10-26)',\n",
       " ' (1908-06-18)',\n",
       " ' (1913-08-21)',\n",
       " ' (1902-12-14)',\n",
       " ' (1907-09-14)',\n",
       " ' (1906-04-13)',\n",
       " ' (1908-03-03)',\n",
       " ' (1911-03-18)',\n",
       " ' (1908-07-04)',\n",
       " ' (1905-11-05)',\n",
       " ' (1913-02-15)',\n",
       " ' (1914-05-29)',\n",
       " ' (1904-04-10)',\n",
       " ' (1911-01-17)',\n",
       " ' (1912-01-23)',\n",
       " ' (1909-06-21)',\n",
       " ' (1908-12-05)',\n",
       " ' (1910-05-10)',\n",
       " ' (1908-12-12)',\n",
       " ' (1910-02-22)',\n",
       " ' (1911-03-06)',\n",
       " ' (1910-12-16)',\n",
       " ' (1907-03-12)',\n",
       " ' (1912-06-25)',\n",
       " ' (1912-11-19)',\n",
       " ' (1911-03-14)',\n",
       " ' (1913-11-06)',\n",
       " ' (1909-11-29)',\n",
       " ' (1911-03-29)',\n",
       " ' (1911-03-02)',\n",
       " ' (1909-11-21)',\n",
       " ' (1904-03-24)',\n",
       " ' (1910-11-12)',\n",
       " ' (1913-07-08)',\n",
       " ' (1908-05-15)',\n",
       " ' (1904-12-02)',\n",
       " ' (1912-03-21)',\n",
       " ' (1913-05-17)',\n",
       " ' (1912-11-13)',\n",
       " ' (1906-03-07)',\n",
       " ' (1908-12-17)',\n",
       " ' (1906-09-30)',\n",
       " ' (1910-05-31)',\n",
       " ' (1907-01-17)',\n",
       " ' (1913-05-30)',\n",
       " ' (1912-10-14)',\n",
       " ' (1909-08-31)',\n",
       " ' (1906-03-05)',\n",
       " ' (1909-12-25)',\n",
       " ' (1914-12-02)',\n",
       " ' (1904-06-02)',\n",
       " ' (1907-05-16)',\n",
       " ' (1902-01-23)',\n",
       " ' (1909-08-05)',\n",
       " ' (1911-06-06)',\n",
       " ' (1908-06-04)',\n",
       " ' (1912-01-27)',\n",
       " ' (1905-07-05)',\n",
       " ' (1907-03-01)',\n",
       " ' (1904-03-07)',\n",
       " '\\n',\n",
       " ' (1913-01-01)',\n",
       " '\\n',\n",
       " ' (1906-06-15)',\n",
       " '\\n',\n",
       " ' (1907-12-23)',\n",
       " '\\n',\n",
       " ' (1909-08-11)',\n",
       " ' (1910-02-10)',\n",
       " '\\n',\n",
       " ' (1905-02-05)',\n",
       " '\\n',\n",
       " ' (1909-10-23)',\n",
       " '\\n',\n",
       " ' (1914-08-02)',\n",
       " ' (1914-08-02)',\n",
       " ' (1908-01-01)',\n",
       " ' (1909-01-01)',\n",
       " ' (1910-03-23)',\n",
       " ' (1911-06-11)',\n",
       " ' (1911-06-15)',\n",
       " ' (1912-05-16)',\n",
       " ' (1912-04-15)',\n",
       " ' (1912-05-30)',\n",
       " ' (1909-06-16)',\n",
       " ' (1907-11-01)',\n",
       " ' (1907-02-15)',\n",
       " ' (1914-06-16)',\n",
       " ' (1907-02-19)',\n",
       " ' (1913-08-21)',\n",
       " ' (1908-04-20)',\n",
       " ' (1907-12-10)',\n",
       " ' (1908-11-17)',\n",
       " ' (1913-07-14)',\n",
       " ' (1905-02-27)',\n",
       " ' (1905-12-25)',\n",
       " ' (1913-06-09)',\n",
       " ' (1913-02-13)',\n",
       " ' (1906-07-30)',\n",
       " ' (1908-12-30)',\n",
       " ' (1907-06-12)',\n",
       " ' (1909-07-15)',\n",
       " ' (1907-11-12)',\n",
       " ' (1910-03-23)',\n",
       " ' (1909-11-26)',\n",
       " ' (1907-01-04)',\n",
       " ' (1914-11-10)',\n",
       " ' (1900-01-01)',\n",
       " ' (1908-06-06)',\n",
       " ' (1908-12-09)',\n",
       " ' (1912-02-07)',\n",
       " ' (1908-06-18)',\n",
       " ' (1908-06-16)',\n",
       " ' (1912-03-10)',\n",
       " ' (1910-11-15)',\n",
       " ' (1906-11-13)',\n",
       " ' (1912-11-07)',\n",
       " ' (1909-01-25)',\n",
       " ' (1913-03-20)',\n",
       " ' (1913-03-01)',\n",
       " ' (1912-08-03)',\n",
       " ' (1912-04-16)',\n",
       " ' (1907-09-02)',\n",
       " ' (1911-11-20)',\n",
       " ' (1905-05-30)',\n",
       " ' (1911-08-19)',\n",
       " ' (1913-02-13)',\n",
       " ' (1908-12-29)',\n",
       " ' (1911-03-02)',\n",
       " ' (1913-03-05)',\n",
       " ' (1911-01-24)',\n",
       " ' (1908-06-09)',\n",
       " ' (1908-03-05)',\n",
       " ' (1912-02-08)',\n",
       " ' (1912-09-15)',\n",
       " ' (1911-05-22)',\n",
       " ' (1905-05-28)',\n",
       " ' (1910-09-04)',\n",
       " ' (1902-10-14)',\n",
       " ' (1912-03-12)',\n",
       " ' (1912-04-23)',\n",
       " ' (1906-06-30)',\n",
       " ' (1906-03-05)',\n",
       " ' (1909-02-11)',\n",
       " ' (1906-06-30)',\n",
       " ' (1908-11-20)',\n",
       " ' (1903-11-18)',\n",
       " ' (1909-12-02)',\n",
       " ' (1904-09-13)',\n",
       " ' (1914-04-05)',\n",
       " ' (1901-07-26)',\n",
       " ' (1904-10-07)',\n",
       " ' (1905-09-18)',\n",
       " ' (1902-11-20)',\n",
       " ' (1909-03-19)',\n",
       " ' (1907-12-06)',\n",
       " ' (1904-03-26)',\n",
       " ' (1910-07-11)',\n",
       " ' (1905-12-26)',\n",
       " ' (1907-11-22)',\n",
       " ' (1910-08-23)',\n",
       " ' (1901-05-15)',\n",
       " ' (1906-06-05)',\n",
       " ' (1901-12-02)',\n",
       " ' (1909-12-07)',\n",
       " ' (1902-02-25)',\n",
       " ' (1905-10-15)',\n",
       " ' (1905-12-26)',\n",
       " ' (1903-11-27)',\n",
       " ' (1909-04-16)',\n",
       " ' (1909-08-21)',\n",
       " ' (1903-02-17)',\n",
       " ' (1909-04-13)',\n",
       " ' (1912-09-28)',\n",
       " ' (1912-02-03)',\n",
       " ' (1910-11-25)',\n",
       " ' (1911-10-04)',\n",
       " ' (1910-11-10)',\n",
       " ' (1911-11-08)',\n",
       " ' (1911-11-03)',\n",
       " ' (1903-01-23)',\n",
       " ' (1903-08-05)',\n",
       " ' (1904-01-21)',\n",
       " ' (1910-10-07)',\n",
       " ' (1910-03-15)',\n",
       " ' (1904-01-12)',\n",
       " ' (1911-05-14)',\n",
       " ' (1915-04-29)',\n",
       " ' (1914-03-01)',\n",
       " ' (1909-02-21)',\n",
       " ' (1909-09-12)',\n",
       " ' (1910-05-14)',\n",
       " ' (1912-10-24)',\n",
       " ' (1912-02-26)',\n",
       " ' (1908-10-31)',\n",
       " ' (1908-08-10)',\n",
       " ' (1910-09-26)',\n",
       " ' (1910-08-12)',\n",
       " ' (1909-09-26)',\n",
       " ' (1911-12-19)',\n",
       " ' (1913-04-15)',\n",
       " ' (1911-01-23)',\n",
       " ' (1913-10-23)',\n",
       " ' (1911-12-29)',\n",
       " ' (1911-01-14)',\n",
       " ' (1907-04-06)',\n",
       " ' (1909-01-18)',\n",
       " ' (1910-12-30)',\n",
       " ' (1909-04-29)',\n",
       " ' (1905-08-12)',\n",
       " '2 March 1906 (aged 28)\\n',\n",
       " ' (1906-01-11)',\n",
       " ' (1907-12-26)',\n",
       " ' (1912-02-09)',\n",
       " ' (1911-04-14)',\n",
       " ' (1912-11-05)',\n",
       " ' (1904-08-08)',\n",
       " ' (1912-10-14)',\n",
       " ' (1909-02-15)',\n",
       " ' (1905-12-08)',\n",
       " ' (1912-03-16)',\n",
       " ' (1907-12-31)',\n",
       " ' (1912-05-25)',\n",
       " ' (1912-02-11)',\n",
       " ' (1907-09-24)',\n",
       " ' (1906-09-04)',\n",
       " ' (1911-09-15)',\n",
       " ' (1909-03-28)',\n",
       " ' (1905-07-17)',\n",
       " ' (1908-07-01)',\n",
       " ' (1905-05-07)',\n",
       " ' (1906-12-16)',\n",
       " ' (1910-06-10)',\n",
       " ' (1901-01-21)',\n",
       " ' (1909-03-26)',\n",
       " ' (1910-05-07)',\n",
       " ' (1907-02-14)',\n",
       " ' (1906-01-18)',\n",
       " ' (1912-04-03)',\n",
       " ' (1909-10-01)',\n",
       " ' (1906-02-05)',\n",
       " ' (1905-09-16)',\n",
       " ' (1907-09-28)',\n",
       " ' (1906-07-17)',\n",
       " ' (1910-10-19)',\n",
       " ' (1907-07-17)',\n",
       " ' (1909-07-09)',\n",
       " ' (1905-01-04)',\n",
       " ' (1906-06-19)',\n",
       " ' (1905-10-16)',\n",
       " ' (1908-07-19)',\n",
       " ' (1903-03-03)',\n",
       " ' (1902-05-22)',\n",
       " ' (1906-10-29)',\n",
       " ' (1905-06-15)',\n",
       " ' (1909-03-07)',\n",
       " ' (1912-09-07)',\n",
       " ' (1911-08-29)',\n",
       " '1911\\n',\n",
       " '\\n',\n",
       " '\\n',\n",
       " ' (1908-10-28)',\n",
       " ' (1914-11-10)',\n",
       " '\\n',\n",
       " ' (1913-12-17)',\n",
       " ' (1913-02-04)',\n",
       " ' (1907-10-08)',\n",
       " ' (1911-08-02)',\n",
       " ' (1906-07-28)',\n",
       " ' (1911-06-09)',\n",
       " '\\n',\n",
       " ' (1909-09-06)',\n",
       " ' (1913-08-05)',\n",
       " ' (1905-01-12)',\n",
       " ' (1907-11-03)',\n",
       " ' (1909-10-30)',\n",
       " ' (1903-12-04)',\n",
       " '1911\\n',\n",
       " ' (1912-07-08)',\n",
       " ' (1905-09-20)',\n",
       " ' (1907-07-22)',\n",
       " ' (1910-01-10)',\n",
       " ' (1897-09-06)',\n",
       " ' (1901-06-07)',\n",
       " ' (1908-08-10)',\n",
       " ' (1910-04-11)',\n",
       " ' (1903-03-15)',\n",
       " ' (1901-12-20)',\n",
       " '\\n',\n",
       " ' (1916-08-22)',\n",
       " ' (1904-01-27)',\n",
       " ' (1901-05-04)',\n",
       " ' (1904-02-24)',\n",
       " ' (1908-04-21)',\n",
       " '1907\\n',\n",
       " ' (1908-01-10)',\n",
       " ' (1909-06-26)',\n",
       " ' (1912-02-11)',\n",
       " ' (1907-04-28)',\n",
       " ' (1918-03-03)',\n",
       " ' (1913-10-26)',\n",
       " ' (1916-02-28)',\n",
       " ' (1912-03-16)',\n",
       " ' (1908-09-12)',\n",
       " ' (1910-11-30)',\n",
       " ' (1917-04-05)',\n",
       " ' (1912-09-06)',\n",
       " ' (1914-01-30)',\n",
       " ' (1917-04-01)',\n",
       " ' (1912-11-29)',\n",
       " ' (1914-02-25)',\n",
       " ' (1912-02-12)',\n",
       " ' (1911-01-17)',\n",
       " ' (1907-11-02)',\n",
       " ' (1914-06-17)',\n",
       " ' (1916-09-07)',\n",
       " ' (1909-06-21)',\n",
       " ' (1910-05-10)',\n",
       " ' (1914-03-08)',\n",
       " ' (1915-06-03)',\n",
       " ' (1910-05-20)',\n",
       " ' (1911-04-21)',\n",
       " ' (1914-05-06)',\n",
       " ' (1912-11-19)',\n",
       " ' (1912-07-02)',\n",
       " ' (1909-12-07)',\n",
       " ' (1913-09-06)',\n",
       " ' (1910-11-01)',\n",
       " ' (1911-03-29)',\n",
       " ' (1909-01-01)',\n",
       " ' (1911-04-21)',\n",
       " ' (1912-12-08)',\n",
       " ' (1912-02-12)',\n",
       " ' (1910-11-12)',\n",
       " ' (1917-11-02)',\n",
       " ' (1912-06-20)',\n",
       " ' (1911-03-26)',\n",
       " ' (1915-02-20)',\n",
       " ' (1912-07-17)',\n",
       " ' (1913-08-12)',\n",
       " ' (1911-06-24)',\n",
       " ' (1914-11-12)',\n",
       " ' (1911-06-23)',\n",
       " ' (1915-09-03)',\n",
       " '1906\\n',\n",
       " ' (1913-07-25)',\n",
       " ' (1916-01-22)',\n",
       " '1915\\n',\n",
       " '1908\\n',\n",
       " ' (1917-12-14)',\n",
       " '\\n',\n",
       " '\\n',\n",
       " ' (1912-06-26)',\n",
       " '1910\\n',\n",
       " ' (1917-07-17)',\n",
       " ' (1912-11-13)',\n",
       " ' (1913-10-06)',\n",
       " ' (1906-03-07)',\n",
       " ' (1909-12-01)',\n",
       " ' (1910-02-01)',\n",
       " ' (1910-05-30)',\n",
       " ' (1912-09-27)',\n",
       " ' (1914-09-21)',\n",
       " ' (1912-10-14)',\n",
       " ' (1909-08-31)',\n",
       " ' (1912-05-09)',\n",
       " ' (1916-06-03)',\n",
       " ' (1909-12-26)',\n",
       " ' (1917-03-12)',\n",
       " ' (1916-05-20)',\n",
       " ' (1904-06-02)',\n",
       " ' (1907-05-16)',\n",
       " ' (1915-11-11)',\n",
       " ' (1911-03-28)',\n",
       " ' (1919-03-17)',\n",
       " ' (1916-10-04)',\n",
       " ' (1915-01-23)',\n",
       " ' (1914-03-21)',\n",
       " '\\n',\n",
       " ' (1912-09-22)',\n",
       " '\\n',\n",
       " ' (1915-09-28)',\n",
       " ' (1910-01-18)',\n",
       " ' (1911-01-01)',\n",
       " ' (1914-02-23)',\n",
       " ' (1918-03-29)',\n",
       " ' (1915-12-06)',\n",
       " '1909\\n',\n",
       " ' (1916-01-12)',\n",
       " ' (1913-02-28)',\n",
       " '1910\\n',\n",
       " '\\n',\n",
       " '\\n',\n",
       " '\\n',\n",
       " ' (1912-05-16)',\n",
       " ' (1915-06-21)',\n",
       " ' (1912-10-25)',\n",
       " ' (1913-02-24)',\n",
       " ' (1913-03-19)',\n",
       " ' (1914-04-13)',\n",
       " ' (1912-05-30)',\n",
       " ' (1916-02-16)',\n",
       " ' (1907-11-01)',\n",
       " ' (1909-01-01)',\n",
       " ' (1910-11-10)',\n",
       " ' (1914-07-18)',\n",
       " ' (1913-12-29)',\n",
       " ' (1909-02-21)',\n",
       " ' (1913-12-27)',\n",
       " ' (1913-07-14)',\n",
       " ' (1905-12-25)',\n",
       " ' (1913-06-09)',\n",
       " ' (1914-07-19)',\n",
       " ' (1908-12-30)',\n",
       " ' (1907-06-12)',\n",
       " ' (1912-12-21)',\n",
       " ' (1909-11-26)',\n",
       " ' (1916-09-11)',\n",
       " ' (1914-05-01)',\n",
       " ' (1908-03-05)',\n",
       " ' (1914-04-14)',\n",
       " ' (1908-06-16)',\n",
       " ' (1912-03-10)',\n",
       " ' (1912-02-01)',\n",
       " ' (1914-05-07)',\n",
       " ' (1912-11-07)',\n",
       " ' (1906-12-09)',\n",
       " ' (1909-01-25)',\n",
       " ' (1919-02-08)',\n",
       " ' (1911-11-07)',\n",
       " ' (1911-02-07)',\n",
       " ' (1911-06-16)',\n",
       " ' (1912-08-03)',\n",
       " ' (1909-11-29)',\n",
       " ' (1916-12-11)',\n",
       " ' (1913-03-05)',\n",
       " ' (1907-09-02)',\n",
       " ' (1911-09-23)',\n",
       " ' (1912-09-21)',\n",
       " ' (1914-07-20)',\n",
       " ' (1911-08-19)',\n",
       " ' (1910-04-04)',\n",
       " ' (1911-02-13)',\n",
       " ' (1911-03-02)',\n",
       " ' (1906-07-17)',\n",
       " ' (1907-05-15)',\n",
       " ' (1911-01-24)',\n",
       " ' (1912-03-10)',\n",
       " ' (1912-02-08)',\n",
       " ' (1919-05-15)',\n",
       " ' (1912-09-15)',\n",
       " ' (1915-03-15)',\n",
       " ' (1910-09-04)',\n",
       " ' (1912-03-12)',\n",
       " ' (1912-04-23)',\n",
       " ' (1908-01-08)',\n",
       " ' (1909-02-11)',\n",
       " ' (1905-03-01)',\n",
       " ' (1908-11-20)',\n",
       " ' (1915-12-27)',\n",
       " ' (1912-09-06)',\n",
       " ' (1915-09-23)',\n",
       " ' (1915-04-04)',\n",
       " ' (1910-05-14)',\n",
       " ' (1916-04-19)',\n",
       " ' (1914-03-04)',\n",
       " ' (1910-09-29)',\n",
       " ' (1907-12-06)',\n",
       " ' (1912-02-15)',\n",
       " ' (1911-11-20)',\n",
       " ' (1912-03-01)',\n",
       " ' (1916-02-05)',\n",
       " ' (1907-11-22)',\n",
       " ' (1910-08-23)',\n",
       " ' (1906-06-05)',\n",
       " ' (1910-10-02)',\n",
       " ' (1914-07-12)',\n",
       " ' (1910-07-21)',\n",
       " ' (1911-06-07)',\n",
       " ' (1913-09-29)',\n",
       " ' (1916-01-21)',\n",
       " ' (1906-12-11)',\n",
       " ' (1903-11-27)',\n",
       " ' (1909-07-02)',\n",
       " ' (1914-01-19)',\n",
       " ' (1919-10-10)',\n",
       " ' (1920-01-14)',\n",
       " ' (1913-10-27)',\n",
       " ' (1914-05-23)',\n",
       " ' (1919-03-18)',\n",
       " ' (1912-09-30)',\n",
       " ' (1916-06-09)',\n",
       " ' (1911-10-04)',\n",
       " ' (1917-09-15)',\n",
       " ' (1913-06-23)',\n",
       " ' (1909-02-06)',\n",
       " ' (1911-11-03)',\n",
       " ' (1918-03-25)',\n",
       " ' (1904-01-21)',\n",
       " ' (1910-10-07)',\n",
       " ' (1913-06-25)',\n",
       " ' (1911-05-14)',\n",
       " ' (1914-03-01)',\n",
       " ' (1909-02-21)',\n",
       " ' (1912-04-14)',\n",
       " ' (1917-07-23)',\n",
       " ' (1911-03-05)',\n",
       " ' (1913-01-20)',\n",
       " ' (1911-03-03)',\n",
       " ' (1914-08-24)',\n",
       " ' (1912-04-28)',\n",
       " ' (1913-12-02)',\n",
       " ' (1910-10-13)',\n",
       " ' (1910-03-15)',\n",
       " ' (1904-07-21)',\n",
       " ' (1906-11-22)',\n",
       " ' (1914-07-23)',\n",
       " ' (1910-03-13)',\n",
       " ' (1913-09-18)',\n",
       " ' (1915-12-21)',\n",
       " ' (1913-01-05)',\n",
       " ' (1914-07-18)',\n",
       " ' (1913-06-23)',\n",
       " ' (1917-04-19)',\n",
       " ' (1911-12-29)',\n",
       " ' (1910-10-21)',\n",
       " ' (1920-04-26)',\n",
       " ' (1921-02-14)',\n",
       " ' (1917-03-22)',\n",
       " ' (1914-10-18)',\n",
       " ' (1906-06-04)',\n",
       " ' (1912-10-16)',\n",
       " ' (1916-01-18)',\n",
       " ' (1914-09-13)',\n",
       " ' (1914-11-11)',\n",
       " ' (1910-04-09)',\n",
       " ' (1907-05-27)',\n",
       " ' (1914-08-11)',\n",
       " ' (1914-05-24)',\n",
       " ' (1913-10-03)',\n",
       " ' (1913-08-17)',\n",
       " ' (1915-01-07)',\n",
       " ' (1909-09-07)',\n",
       " ' (1910-05-19)',\n",
       " ' (1914-02-12)',\n",
       " ' (1911-01-06)',\n",
       " ' (1916-06-23)',\n",
       " ' (1913-08-10)',\n",
       " ' (1910-05-14)',\n",
       " ' (1917-03-25)',\n",
       " ' (1912-10-24)',\n",
       " ' (1912-02-26)',\n",
       " ' (1915-03-06)',\n",
       " ' (1913-02-23)',\n",
       " ' (1908-10-31)',\n",
       " ' (1910-08-13)',\n",
       " ' (1913-11-21)',\n",
       " ' (1914-10-16)',\n",
       " ' (1909-09-26)',\n",
       " ' (1905-10-13)',\n",
       " ' (1914-03-01)',\n",
       " ' (1911-10-29)',\n",
       " ' (1913-08-17)',\n",
       " ' (1918-01-12)',\n",
       " ' (1912-04-26)',\n",
       " ' (1916-01-16)',\n",
       " ' (1915-02-10)',\n",
       " ' (1905-04-23)',\n",
       " ' (1914-08-16)',\n",
       " ' (1909-04-29)',\n",
       " ' (1909-10-29)',\n",
       " ' (1908-01-28)',\n",
       " ' (1917-04-22)',\n",
       " ' (1913-03-07)',\n",
       " ' (1915-08-21)',\n",
       " ' (1912-04-03)',\n",
       " ' (1909-12-25)',\n",
       " ' (1914-11-05)',\n",
       " ' (1911-05-09)',\n",
       " ' (1914-04-17)',\n",
       " ' (1909-07-09)',\n",
       " ' (1907-09-07)',\n",
       " ' (1905-01-04)',\n",
       " ' (1916-02-22)',\n",
       " ' (1916-08-06)',\n",
       " ' ( 1916-01-05)',\n",
       " ' (1913-06-20)',\n",
       " ' (1909-11-19)',\n",
       " ' (1913-03-23)',\n",
       " ' (1915-03-24)',\n",
       " '\\n',\n",
       " ' (1911-10-15)',\n",
       " ' (1909-03-07)',\n",
       " ' (1910-09-10)',\n",
       " ' (1910-09-10)',\n",
       " ' (1912-03-14)',\n",
       " ' (1918-10-20)',\n",
       " ' (1918-05-02)',\n",
       " ' (1912-09-07)',\n",
       " ' (1914-11-15)',\n",
       " ' (1910-02-05)',\n",
       " ' (1914-11-10)',\n",
       " ' (1913-12-17)',\n",
       " ' (1911-06-09)',\n",
       " ' (1909-01-26)',\n",
       " ' (1913-03-15)',\n",
       " ' (1909-09-06)',\n",
       " ' (1914-03-20)',\n",
       " ' (1914-06-16)',\n",
       " ' (1908-12-04)',\n",
       " ' (1908-09-01)',\n",
       " ' (1907-05-12)',\n",
       " ' (1913-12-21)',\n",
       " ' (1916-06-20)',\n",
       " ' (1917-02-18)',\n",
       " ' (1926-04-06)',\n",
       " ' (1923-11-11)',\n",
       " ' (1920-12-21)',\n",
       " ' (1921-01-25)',\n",
       " ' (1927-03-07)',\n",
       " ' (1922-03-05)',\n",
       " ' (1925-10-21)',\n",
       " ' (1923-11-18)',\n",
       " ' (1923-07-07)',\n",
       " ' (1924-07-28)',\n",
       " ' (1923-09-17)',\n",
       " ' (1927-04-13)',\n",
       " ' (1925-09-01)',\n",
       " ' (1925-01-17)',\n",
       " ' (1928-01-04)',\n",
       " ' (1927-02-28)',\n",
       " ' (1923-08-03)',\n",
       " ' (1922-07-22)',\n",
       " ' (1926-05-05)',\n",
       " ' (1925-05-10)',\n",
       " ' (1921-03-27)',\n",
       " ' (1920-10-22)',\n",
       " ' (1925-05-16)',\n",
       " ' (1925-11-21)',\n",
       " ' (1920-12-03)',\n",
       " ' (1922-04-04)',\n",
       " ' (1924-10-20)',\n",
       " ' (1922-09-14)',\n",
       " ' (1922-11-06)',\n",
       " ' (1921-03-21)',\n",
       " ' (1922-01-07)',\n",
       " ' (1923-04-02)',\n",
       " ' (1920-01-01)',\n",
       " ' (1926-01-14)',\n",
       " ' (1927-11-27)',\n",
       " ' (1921-05-14)',\n",
       " ' (1923-11-27)',\n",
       " ' (1926-01-28)',\n",
       " ' (1921-03-27)',\n",
       " ' (1918-09-25)',\n",
       " ' (1925-06-27)',\n",
       " ' (1922-08-02)',\n",
       " ' (1928-05-23)',\n",
       " ' (1920-10-15)',\n",
       " ' (1923-10-15)',\n",
       " ' (1922-08-19)',\n",
       " ' (1923-03-08)',\n",
       " ' (1930-12-29)',\n",
       " ' (1927-09-01)',\n",
       " ' (1920-10-11)',\n",
       " ' (1930-11-28)',\n",
       " ' (1928-02-02)',\n",
       " ' (1920-03-26)',\n",
       " ' (1924-06-06)',\n",
       " ' (1925-01-15)',\n",
       " ' (1928-04-28)',\n",
       " ' (1928-12-19)',\n",
       " ' (1924-09-15)',\n",
       " ' (1920-06-27)',\n",
       " ' (1926-04-14)',\n",
       " ' (1928-10-02)',\n",
       " ' (1930-07-24)',\n",
       " ' (1923-08-13)',\n",
       " ' (1920-12-14)',\n",
       " ' (1921-09-03)',\n",
       " ' (1925-08-06)',\n",
       " ' (1924-05-17)',\n",
       " ' (1921-09-14)',\n",
       " ' (1925-04-25)',\n",
       " ' (1921-10-24)',\n",
       " ' (1925-07-16)',\n",
       " ' (1922-04-05)',\n",
       " ' (1924-03-02)',\n",
       " ' (1918-05-16)',\n",
       " ' (1915-02-01)',\n",
       " ' (1924-05-11)',\n",
       " ' (1921-05-26)',\n",
       " ' (1923-01-06)',\n",
       " ' (1919-01-26)',\n",
       " ' (1920-01-22)',\n",
       " ' (1917-04-23)',\n",
       " ' (1917-11-05)',\n",
       " ' (1920-03-07)',\n",
       " ' (1920-01-31)',\n",
       " ' (1924-02-06)',\n",
       " ' (1921-07-26)',\n",
       " ' (1925-05-24)',\n",
       " ' (1923-05-24)',\n",
       " ' (1928-07-04)',\n",
       " ' (1919-04-07)',\n",
       " ' (1920-06-02)',\n",
       " ' (1928-09-30)',\n",
       " ' (1922-07-01)',\n",
       " ' (1922-04-10)',\n",
       " ' (1922-06-22)',\n",
       " ' (1923-01-19)',\n",
       " ' (1924-07-30)',\n",
       " ' (1925-12-20)',\n",
       " ' (1923-03-09)',\n",
       " ' (1924-10-17)',\n",
       " ' (1921-01-16)',\n",
       " ...]"
      ]
     },
     "execution_count": 64,
     "metadata": {},
     "output_type": "execute_result"
    }
   ],
   "source": [
    "list_of_birthdays"
   ]
  },
  {
   "cell_type": "markdown",
   "id": "001b31f3",
   "metadata": {},
   "source": [
    "After looking these values for a while, we've found a couple of patterns.\n",
    "1) (d-d-d) where d stands for digit\n",
    "2) d w d (w d) where w stands for letters and d for digits\n",
    "3) d\\n     again, d is a digit and \\n is the new line char\n",
    "4) \\n      a mere new line char"
   ]
  },
  {
   "cell_type": "code",
   "execution_count": 65,
   "id": "e86eb319",
   "metadata": {},
   "outputs": [],
   "source": [
    "# Remove all whitespaces to avoid losing data while using reverse split with whitespaces as separators.\n",
    "df.birthday = df.birthday.apply(lambda x: x.strip())   "
   ]
  },
  {
   "cell_type": "code",
   "execution_count": 66,
   "id": "7e0648a3",
   "metadata": {},
   "outputs": [],
   "source": [
    "# Remove all the chars to the right of the year digit in the data with the second pattern type.\n",
    "df.birthday = df.birthday.apply(lambda x: x.rsplit(' ', maxsplit = 2)[0])"
   ]
  },
  {
   "cell_type": "code",
   "execution_count": 67,
   "id": "8ea5feb4",
   "metadata": {},
   "outputs": [],
   "source": [
    "# remove the parentheses\n",
    "df.birthday = df.birthday.apply(lambda x: x.replace('(','').replace(')',''))"
   ]
  },
  {
   "cell_type": "markdown",
   "id": "b686411f",
   "metadata": {},
   "source": [
    "For data containing only one year, We'll impute the median date of that year, that's July 2."
   ]
  },
  {
   "cell_type": "code",
   "execution_count": 68,
   "id": "55e82be8",
   "metadata": {},
   "outputs": [],
   "source": [
    "indices = df[(df.birthday.str.len() == 4)].index.tolist()  # filter by those cells having only one year value"
   ]
  },
  {
   "cell_type": "code",
   "execution_count": 69,
   "id": "0f34e6c1",
   "metadata": {},
   "outputs": [],
   "source": [
    "def complete_birthday(bd_string):\n",
    "    if len(bd_string) == 4:\n",
    "        bd_string = f'{bd_string}-07-02'\n",
    "         \n",
    "    return bd_string"
   ]
  },
  {
   "cell_type": "code",
   "execution_count": 70,
   "id": "7bbcf635",
   "metadata": {},
   "outputs": [],
   "source": [
    "df.birthday = df.birthday.apply(lambda x: complete_birthday(x))"
   ]
  },
  {
   "cell_type": "markdown",
   "id": "3d1c04f1",
   "metadata": {},
   "source": [
    "We've imputed some birthdays, now we'll record this imputation in the corresponding column."
   ]
  },
  {
   "cell_type": "code",
   "execution_count": 71,
   "id": "6bded967",
   "metadata": {},
   "outputs": [],
   "source": [
    "for index in indices:\n",
    "    old = df.at[index,'imputed']\n",
    "    if old == '-':\n",
    "        old =  old.replace('-', '')\n",
    "    df.at[index,'imputed'] = old + ' birthday'"
   ]
  },
  {
   "cell_type": "markdown",
   "id": "2dda145b",
   "metadata": {},
   "source": [
    "Now let's change the data type in this column, this should be final the step for this field."
   ]
  },
  {
   "cell_type": "code",
   "execution_count": 72,
   "id": "8bf1b66d",
   "metadata": {},
   "outputs": [],
   "source": [
    "df['birthday'] = pd.to_datetime(df['birthday'])"
   ]
  },
  {
   "cell_type": "code",
   "execution_count": 73,
   "id": "8973373d",
   "metadata": {},
   "outputs": [
    {
     "data": {
      "text/plain": [
       "40"
      ]
     },
     "execution_count": 73,
     "metadata": {},
     "output_type": "execute_result"
    }
   ],
   "source": [
    "df.birthday.isna().sum()"
   ]
  },
  {
   "cell_type": "markdown",
   "id": "9943607a",
   "metadata": {},
   "source": [
    "There are still 40 null birthday values, but we are good to go because we need this field to calculate players' age. So, we can take a central tendency measure for their age, later."
   ]
  },
  {
   "cell_type": "markdown",
   "id": "7a4aebfd",
   "metadata": {},
   "source": [
    "## Normalize column club"
   ]
  },
  {
   "cell_type": "code",
   "execution_count": 74,
   "id": "0494bb2d",
   "metadata": {},
   "outputs": [],
   "source": [
    "# Aplicar unidecode a la columna 'club' y crear una nueva columna\n",
    "df['club'] = df['club'].apply(lambda x: unidecode(x))"
   ]
  },
  {
   "cell_type": "code",
   "execution_count": 75,
   "id": "e9bc2bb8",
   "metadata": {},
   "outputs": [],
   "source": [
    "# Utilizar el método .str.replace() para realizar la sustitución.Es lo mismo que hacerlo con apply + función anónima pero \n",
    "# más eficiente.\n",
    "df['club'] = df['club'].str.replace(r'\\[[^\\]]*\\]', '', regex=True)\n",
    "\n",
    "df['club'] = df['club'].str.replace('1. FC ', '', regex = False)\n",
    "df['club'] = df['club'].str.replace('1. ', '', regex = False)\n",
    "\n",
    "df['club'] = df['club'].str.replace(r'(^|\\s)(AC|A\\.C\\.)(\\s|$)', '', regex=True)\n",
    "\n",
    "df['club'] = df['club'].str.replace(r'(^|\\s)(CD|C\\.D\\.)(\\s|$)', '', regex=True)\n",
    "\n",
    "df['club'] = df['club'].str.replace(r'(^|\\s)(CF|C\\.F\\.)(\\s|$)', '', regex=True)\n",
    "\n",
    "df['club'] = df['club'].str.replace(r'(^|\\s)(Club)(\\s|$)', '', regex=True)\n",
    "\n",
    "df['club'] = df['club'].str.replace(r'(^|\\s)(FC|F\\.C\\.)(\\s|$)', '', regex=True)\n",
    "\n",
    "df['club'] = df['club'].str.replace(r'(^|\\s)(SC|S\\.C\\.)(\\s|$)', '', regex=True)\n",
    "\n",
    "df['club'] = df['club'].str.replace(r'(^|\\s)(SK|S\\.K\\.)(\\s|$)', '', regex=True)\n",
    "\n",
    "df['club'] = df['club'].str.replace(r'(^|\\s)(AS|A\\.S\\.)(\\s|$)', '', regex=True)\n",
    "\n",
    "df['club'] = df['club'].str.replace('Al-', 'Al ', regex = False)\n"
   ]
  },
  {
   "cell_type": "code",
   "execution_count": 76,
   "id": "fea6f0ab",
   "metadata": {},
   "outputs": [],
   "source": [
    "normalized_names = { 'Admira/Wacker': 'Admira Wacker', 'Ajax': 'Ajax Amsterdam', 'Atletico Bilbao': 'Athletic Bilbao',\n",
    "                    'Atlético Bilbao': 'Athletic Bilbao', 'Atletico de Bilbao': 'Athletic Bilbao', \n",
    "                    'Austria Vienna': 'Austria Wien', 'BV Borussia Dortmund': 'Borussia Dortmund',\n",
    "                    'Bayern Munich': 'Bayern Munchen', \"Beijing Guo'an\": 'Beijing Guoan', 'Besiktas': 'Besiktas J. K.', \n",
    "                    'Bournemouth': 'AFC Bournemouth', 'CSKA SZ Sofia': 'CSKA Sofia', 'Colo Colo': 'Colo-Colo', \n",
    "                    'Cotonsport Garoua': 'Cottonsport Garoua',    'DFS Lokomotiv Plovdiv': 'DFS Lokomotiv Plovdiv',\n",
    "                    'Dynamo Minsk,': 'Dinamo Minsk', 'Estudiantes La Plata': 'Estudiantes', \n",
    "                    'Estudiantes (LP)': 'Estudiantes', 'ExcelsiorRoubaix': 'Excelsior Roubaix',\n",
    "                    'Ferencvaros': 'Ferencvarosi', 'Ferencvarosi TC': 'Ferencvarosi','Feijenoord': 'Feyenoord',\n",
    "                    'Feyenoord Rotterdam': 'Feyenoord', 'Flamengo*': 'Flamengo', 'Free agent': 'Free Agent',\n",
    "                    'GrasshopperZurich': 'Grasshopper Zurich', 'GrasshoppersZurich': 'Grasshopper Zurich',\n",
    "                    'Internazionale': 'Inter Milan', 'Internazionale Milano': 'Inter Milan',\n",
    "                    'Internazionale Milan': 'Inter Milan', 'Lille OSC': 'Lille', 'Malmo FF': 'Malmo',\n",
    "                    'Moscow': 'CSKA Moscow', 'Lyon': 'Olympique Lyon', 'Marseille': 'Olympique Marseille',\n",
    "                    'Olympique de Marseille': 'Olympique Marseille', 'PSV': 'PSV Eindhoven',\n",
    "                    'Racingde France': 'Racing Paris', 'Rapid Vienna': 'Rapid Wien',\n",
    "                    'Royal Olympicde Charleroi': 'Olympic Charleroi', 'Royal Racingde Bruxelles': 'Royal Racing Bruxelles',\n",
    "                    'Royal Racingde Gand': 'Royal Racing Gand', 'Royal DaringMolenbeek': 'Royal Daring Molenbeek',\n",
    "                    'Royal StandardLiege': 'Royal Standard Liege', 'RoyalBrugeois': 'Brugge KV', 'Brujas': 'Brugge KV',\n",
    "                    'Royal Brugeois': 'Brugge KV', 'RoyalLiegeois': 'Liege', 'RoyalMalinois': 'Royal Malinois',\n",
    "                    'SG Dynamo Dresden': 'Dynamo Dresden', 'Talleres de Cordoba': 'Talleres',\n",
    "                    'Tatabanyai Banyasz': 'Tatabanyai Banyasz SE', 'Tecos UAG': 'Tecos', 'Tianjin TEDA': 'Tianjin Teda',\n",
    "                    'Tigres UANL': 'Tigres', 'UANL': 'Tigres', 'UNAM Pumas': 'Pumas', 'UNAM': 'Pumas', \n",
    "                    'Union St. Gilloise': 'Union Royale Saint-Gilloise', 'White Star Brussel': 'White Star'                                            \n",
    "                    }"
   ]
  },
  {
   "cell_type": "code",
   "execution_count": 77,
   "id": "b13436a3",
   "metadata": {},
   "outputs": [],
   "source": [
    "# Aplicar los cambios en la columna\n",
    "df['club'] = df['club'].replace(normalized_names)"
   ]
  },
  {
   "cell_type": "code",
   "execution_count": 78,
   "id": "02b2a947",
   "metadata": {},
   "outputs": [],
   "source": [
    "#clubs = df.club.to_frame()\n",
    "#clubs = clubs.club.drop_duplicates().to_frame()\n",
    "#clubs = clubs.sort_values(by = 'club').reset_index(drop = True)"
   ]
  },
  {
   "cell_type": "code",
   "execution_count": 79,
   "id": "72e70171",
   "metadata": {},
   "outputs": [],
   "source": [
    "#clubs"
   ]
  },
  {
   "cell_type": "markdown",
   "id": "53af91a3",
   "metadata": {},
   "source": [
    "### Create the  column 'age'"
   ]
  },
  {
   "cell_type": "code",
   "execution_count": 80,
   "id": "1cfdcff0",
   "metadata": {},
   "outputs": [
    {
     "data": {
      "text/html": [
       "<div>\n",
       "<style scoped>\n",
       "    .dataframe tbody tr th:only-of-type {\n",
       "        vertical-align: middle;\n",
       "    }\n",
       "\n",
       "    .dataframe tbody tr th {\n",
       "        vertical-align: top;\n",
       "    }\n",
       "\n",
       "    .dataframe thead th {\n",
       "        text-align: right;\n",
       "    }\n",
       "</style>\n",
       "<table border=\"1\" class=\"dataframe\">\n",
       "  <thead>\n",
       "    <tr style=\"text-align: right;\">\n",
       "      <th></th>\n",
       "      <th>player</th>\n",
       "      <th>national_team</th>\n",
       "      <th>position</th>\n",
       "      <th>birthday</th>\n",
       "      <th>caps</th>\n",
       "      <th>club</th>\n",
       "      <th>club_origin</th>\n",
       "      <th>wc_date</th>\n",
       "      <th>year</th>\n",
       "      <th>imputed</th>\n",
       "    </tr>\n",
       "  </thead>\n",
       "  <tbody>\n",
       "    <tr>\n",
       "      <th>0</th>\n",
       "      <td>Angel Bossio</td>\n",
       "      <td>Argentina</td>\n",
       "      <td>GK</td>\n",
       "      <td>1905-05-05</td>\n",
       "      <td>16</td>\n",
       "      <td>Talleres (BA)</td>\n",
       "      <td>Argentina</td>\n",
       "      <td>1930-07-17</td>\n",
       "      <td>1930</td>\n",
       "      <td>-</td>\n",
       "    </tr>\n",
       "    <tr>\n",
       "      <th>1</th>\n",
       "      <td>Juan Botasso</td>\n",
       "      <td>Argentina</td>\n",
       "      <td>GK</td>\n",
       "      <td>1908-10-23</td>\n",
       "      <td>2</td>\n",
       "      <td>Argentino (Q)</td>\n",
       "      <td>Argentina</td>\n",
       "      <td>1930-07-17</td>\n",
       "      <td>1930</td>\n",
       "      <td>-</td>\n",
       "    </tr>\n",
       "    <tr>\n",
       "      <th>2</th>\n",
       "      <td>Roberto Cherro</td>\n",
       "      <td>Argentina</td>\n",
       "      <td>FW</td>\n",
       "      <td>1907-02-23</td>\n",
       "      <td>10</td>\n",
       "      <td>Boca Juniors</td>\n",
       "      <td>Argentina</td>\n",
       "      <td>1930-07-17</td>\n",
       "      <td>1930</td>\n",
       "      <td>-</td>\n",
       "    </tr>\n",
       "    <tr>\n",
       "      <th>3</th>\n",
       "      <td>Alberto Chividini</td>\n",
       "      <td>Argentina</td>\n",
       "      <td>DF</td>\n",
       "      <td>1907-02-23</td>\n",
       "      <td>2</td>\n",
       "      <td>Central Norte</td>\n",
       "      <td>Argentina</td>\n",
       "      <td>1930-07-17</td>\n",
       "      <td>1930</td>\n",
       "      <td>-</td>\n",
       "    </tr>\n",
       "    <tr>\n",
       "      <th>4</th>\n",
       "      <td>Attilio Demaria</td>\n",
       "      <td>Argentina</td>\n",
       "      <td>FW</td>\n",
       "      <td>1909-03-19</td>\n",
       "      <td>0</td>\n",
       "      <td>Estudiantil Porteno</td>\n",
       "      <td>Argentina</td>\n",
       "      <td>1930-07-17</td>\n",
       "      <td>1930</td>\n",
       "      <td>-</td>\n",
       "    </tr>\n",
       "    <tr>\n",
       "      <th>...</th>\n",
       "      <td>...</td>\n",
       "      <td>...</td>\n",
       "      <td>...</td>\n",
       "      <td>...</td>\n",
       "      <td>...</td>\n",
       "      <td>...</td>\n",
       "      <td>...</td>\n",
       "      <td>...</td>\n",
       "      <td>...</td>\n",
       "      <td>...</td>\n",
       "    </tr>\n",
       "    <tr>\n",
       "      <th>10959</th>\n",
       "      <td>Sorba Thomas</td>\n",
       "      <td>Wales</td>\n",
       "      <td>MF</td>\n",
       "      <td>1999-01-25</td>\n",
       "      <td>6</td>\n",
       "      <td>Huddersfield Town</td>\n",
       "      <td>England</td>\n",
       "      <td>2022-11-20</td>\n",
       "      <td>2022</td>\n",
       "      <td>-</td>\n",
       "    </tr>\n",
       "    <tr>\n",
       "      <th>10960</th>\n",
       "      <td>Dylan Levitt</td>\n",
       "      <td>Wales</td>\n",
       "      <td>MF</td>\n",
       "      <td>2000-11-17</td>\n",
       "      <td>13</td>\n",
       "      <td>Dundee United</td>\n",
       "      <td>Scotland</td>\n",
       "      <td>2022-11-20</td>\n",
       "      <td>2022</td>\n",
       "      <td>-</td>\n",
       "    </tr>\n",
       "    <tr>\n",
       "      <th>10961</th>\n",
       "      <td>Ben Cabango</td>\n",
       "      <td>Wales</td>\n",
       "      <td>DF</td>\n",
       "      <td>2000-05-30</td>\n",
       "      <td>5</td>\n",
       "      <td>Swansea City</td>\n",
       "      <td>Wales</td>\n",
       "      <td>2022-11-20</td>\n",
       "      <td>2022</td>\n",
       "      <td>-</td>\n",
       "    </tr>\n",
       "    <tr>\n",
       "      <th>10962</th>\n",
       "      <td>Rubin Colwill</td>\n",
       "      <td>Wales</td>\n",
       "      <td>MF</td>\n",
       "      <td>2002-04-27</td>\n",
       "      <td>7</td>\n",
       "      <td>Cardiff City</td>\n",
       "      <td>Wales</td>\n",
       "      <td>2022-11-20</td>\n",
       "      <td>2022</td>\n",
       "      <td>-</td>\n",
       "    </tr>\n",
       "    <tr>\n",
       "      <th>10963</th>\n",
       "      <td>Matthew Smith</td>\n",
       "      <td>Wales</td>\n",
       "      <td>MF</td>\n",
       "      <td>1999-11-22</td>\n",
       "      <td>19</td>\n",
       "      <td>Milton Keynes Dons</td>\n",
       "      <td>England</td>\n",
       "      <td>2022-11-20</td>\n",
       "      <td>2022</td>\n",
       "      <td>-</td>\n",
       "    </tr>\n",
       "  </tbody>\n",
       "</table>\n",
       "<p>10964 rows × 10 columns</p>\n",
       "</div>"
      ],
      "text/plain": [
       "                  player national_team position   birthday  caps  \\\n",
       "0           Angel Bossio     Argentina       GK 1905-05-05    16   \n",
       "1           Juan Botasso     Argentina       GK 1908-10-23     2   \n",
       "2         Roberto Cherro     Argentina       FW 1907-02-23    10   \n",
       "3      Alberto Chividini     Argentina       DF 1907-02-23     2   \n",
       "4        Attilio Demaria     Argentina       FW 1909-03-19     0   \n",
       "...                  ...           ...      ...        ...   ...   \n",
       "10959       Sorba Thomas         Wales       MF 1999-01-25     6   \n",
       "10960       Dylan Levitt         Wales       MF 2000-11-17    13   \n",
       "10961        Ben Cabango         Wales       DF 2000-05-30     5   \n",
       "10962      Rubin Colwill         Wales       MF 2002-04-27     7   \n",
       "10963      Matthew Smith         Wales       MF 1999-11-22    19   \n",
       "\n",
       "                      club club_origin    wc_date  year imputed  \n",
       "0            Talleres (BA)   Argentina 1930-07-17  1930       -  \n",
       "1            Argentino (Q)   Argentina 1930-07-17  1930       -  \n",
       "2             Boca Juniors   Argentina 1930-07-17  1930       -  \n",
       "3            Central Norte   Argentina 1930-07-17  1930       -  \n",
       "4      Estudiantil Porteno   Argentina 1930-07-17  1930       -  \n",
       "...                    ...         ...        ...   ...     ...  \n",
       "10959    Huddersfield Town     England 2022-11-20  2022       -  \n",
       "10960        Dundee United    Scotland 2022-11-20  2022       -  \n",
       "10961         Swansea City       Wales 2022-11-20  2022       -  \n",
       "10962         Cardiff City       Wales 2022-11-20  2022       -  \n",
       "10963   Milton Keynes Dons     England 2022-11-20  2022       -  \n",
       "\n",
       "[10964 rows x 10 columns]"
      ]
     },
     "execution_count": 80,
     "metadata": {},
     "output_type": "execute_result"
    }
   ],
   "source": [
    "df"
   ]
  },
  {
   "cell_type": "code",
   "execution_count": 81,
   "id": "7cdd66eb",
   "metadata": {},
   "outputs": [],
   "source": [
    "df['age'] =  (df['wc_date'] - df['birthday']).dt.days //365"
   ]
  },
  {
   "cell_type": "markdown",
   "id": "dd658fd4",
   "metadata": {},
   "source": [
    "We want to fill these missing values with the median age of the world cup that the footballers with no age registered played in."
   ]
  },
  {
   "cell_type": "code",
   "execution_count": 82,
   "id": "e0db559d",
   "metadata": {},
   "outputs": [],
   "source": [
    "# This function receives an index list to point to the rows were we want to apply the changes\n",
    "def fill_nan_age(indices_list, wc_age_median, column_name, year):\n",
    "    for ind in indices_list:\n",
    "        # If the year passed as a parameter matches the value in the column 'year' at the given index,\n",
    "        if df.at[ind, 'year'] == year:\n",
    "            # fill the missing value with the median of the corresponding world cup\n",
    "            df.at[ind, column_name] = wc_age_median\n",
    "            # then call another function to record the imputation\n",
    "            record_age_imputation(ind, column_name)"
   ]
  },
  {
   "cell_type": "code",
   "execution_count": 83,
   "id": "ed317e73",
   "metadata": {},
   "outputs": [],
   "source": [
    "def record_age_imputation(an_index, column_name):\n",
    "    old = df.at[an_index, 'imputed'] \n",
    "    if old == '-':\n",
    "        old =  old.replace('-', '')\n",
    "    df.at[an_index, 'imputed'] = old + ' ' + column_name"
   ]
  },
  {
   "cell_type": "code",
   "execution_count": 84,
   "id": "7b3de90b",
   "metadata": {},
   "outputs": [],
   "source": [
    "# get all the nan values in the corresponding column\n",
    "dfna= df[df.age.isna() == True]\n",
    "#dfna"
   ]
  },
  {
   "cell_type": "code",
   "execution_count": 85,
   "id": "4647349b",
   "metadata": {},
   "outputs": [],
   "source": [
    "# make a list with the indices of the rows containing nan values in the column 'age' \n",
    "dfnaList = df[df.age.isna() == True].index.tolist()"
   ]
  },
  {
   "cell_type": "code",
   "execution_count": 86,
   "id": "a314ee25",
   "metadata": {},
   "outputs": [],
   "source": [
    "# Get all the years of the World Cups corresponding to these missing values,\n",
    "for year in dfna.year.unique():\n",
    "    # and for each World Cup calculate the players' median age\n",
    "    median = df[df['year'] == year].age.median()\n",
    "    # fill the measing values with the calculated median\n",
    "    fill_nan_age(dfnaList, median, 'age', year)"
   ]
  },
  {
   "cell_type": "code",
   "execution_count": 87,
   "id": "5bfeb173",
   "metadata": {},
   "outputs": [],
   "source": [
    "df.age = df.age.astype(int)"
   ]
  },
  {
   "cell_type": "markdown",
   "id": "34bc3e58",
   "metadata": {},
   "source": [
    "## Add a new 'confederation' column"
   ]
  },
  {
   "cell_type": "markdown",
   "id": "8f6b7083",
   "metadata": {},
   "source": [
    "We'll use pycountry to convert country names to continent names"
   ]
  },
  {
   "cell_type": "code",
   "execution_count": 88,
   "id": "ed9d88fe",
   "metadata": {},
   "outputs": [],
   "source": [
    "# create the new column\n",
    "df['confederation'] = ' '"
   ]
  },
  {
   "cell_type": "code",
   "execution_count": 89,
   "id": "db9183de",
   "metadata": {},
   "outputs": [],
   "source": [
    "# dictionary with all the countries names that pycountry couldn't procces\n",
    "non_listed = {'China PR': 'Asia',\n",
    "             'Czechoslovakia': 'Europe',\n",
    "             'Dutch East Indies': 'Asia',\n",
    "             'East Germany': 'Europe',\n",
    "             'England':'Europe',\n",
    "             'Northern Ireland':'Europe',\n",
    "             'Republic of Ireland':'Europe',\n",
    "             'Scotland': 'Europe',\n",
    "             'Serbia and Montenegro': 'Europe',\n",
    "             'Soviet Union': 'Europe',\n",
    "             'Wales': 'Europe',\n",
    "             'West Germany': 'Europe',\n",
    "             'Yugoslavia': 'Europe',\n",
    "             'Zaire': 'Africa'}"
   ]
  },
  {
   "cell_type": "code",
   "execution_count": 90,
   "id": "1c3efed9",
   "metadata": {},
   "outputs": [],
   "source": [
    "# this function takes a country name and returns the corresponding continent name\n",
    "def country_to_continent(country_name):\n",
    "    try:\n",
    "        country_alpha2 = pc.country_name_to_country_alpha2(country_name)\n",
    "        country_continent_code = pc.country_alpha2_to_continent_code(country_alpha2)\n",
    "        country_continent_name = pc.convert_continent_code_to_continent_name(country_continent_code)\n",
    "        \n",
    "    except KeyError:\n",
    "        country_continent_name =  non_listed.get(country_name)\n",
    "    return country_continent_name"
   ]
  },
  {
   "cell_type": "code",
   "execution_count": 91,
   "id": "8d88cfca",
   "metadata": {},
   "outputs": [],
   "source": [
    "df['confederation'] = df.national_team.apply(lambda x: country_to_continent(x))"
   ]
  },
  {
   "cell_type": "code",
   "execution_count": 92,
   "id": "4de8133b",
   "metadata": {},
   "outputs": [],
   "source": [
    "# Change the order of the columns\n",
    "df = df[['player','national_team','position','birthday','age','caps',\n",
    "         'club','club_origin','wc_date','year','confederation','imputed']]"
   ]
  },
  {
   "cell_type": "markdown",
   "id": "baecf65d",
   "metadata": {},
   "source": [
    "## Save as csv"
   ]
  },
  {
   "cell_type": "code",
   "execution_count": 93,
   "id": "d8e5869e",
   "metadata": {},
   "outputs": [],
   "source": [
    "df.to_csv('dataSets\\\\allTimeSquads.csv', index = False)"
   ]
  }
 ],
 "metadata": {
  "kernelspec": {
   "display_name": "Python 3 (ipykernel)",
   "language": "python",
   "name": "python3"
  },
  "language_info": {
   "codemirror_mode": {
    "name": "ipython",
    "version": 3
   },
   "file_extension": ".py",
   "mimetype": "text/x-python",
   "name": "python",
   "nbconvert_exporter": "python",
   "pygments_lexer": "ipython3",
   "version": "3.9.15"
  }
 },
 "nbformat": 4,
 "nbformat_minor": 5
}
