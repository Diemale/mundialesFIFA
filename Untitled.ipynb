{
 "cells": [
  {
   "cell_type": "code",
   "execution_count": 1,
   "id": "83b677d2",
   "metadata": {},
   "outputs": [],
   "source": [
    "import requests\n",
    "from bs4 import BeautifulSoup\n",
    "import pandas as pd\n",
    "import numpy as np"
   ]
  },
  {
   "cell_type": "markdown",
   "id": "d2770095",
   "metadata": {},
   "source": [
    "## Crawling"
   ]
  },
  {
   "cell_type": "code",
   "execution_count": 2,
   "id": "b1d5a88d",
   "metadata": {},
   "outputs": [],
   "source": [
    "# En caso de que quiera interactuar con el usuario\n",
    "def create_list_of_links(url):\n",
    "    #url = input('Ingrese una pagina de su interés')\n",
    "    reqs = requests.get(url)\n",
    "    soup = BeautifulSoup(reqs.text, 'html.parser')               # response\n",
    " \n",
    "    urls = []\n",
    "    diccionario = {}\n",
    "    \n",
    "    for link in soup.find_all('a'):\n",
    "        #print(link.get('href'))\n",
    "        urls.append(link.get('href'))\n",
    "    lista = list(diccionario.fromkeys(urls))\n",
    "    lista.remove(None)\n",
    "    \n",
    "    return lista"
   ]
  },
  {
   "cell_type": "markdown",
   "id": "35de39e5",
   "metadata": {},
   "source": [
    "https://en.wikipedia.org/wiki/2022_FIFA_World_Cup_squads"
   ]
  },
  {
   "cell_type": "code",
   "execution_count": 3,
   "id": "7aa76729",
   "metadata": {},
   "outputs": [],
   "source": [
    "listA = create_list_of_links('https://en.wikipedia.org/wiki/2022_FIFA_World_Cup_squads')"
   ]
  },
  {
   "cell_type": "code",
   "execution_count": 4,
   "id": "afedef55",
   "metadata": {},
   "outputs": [
    {
     "data": {
      "text/plain": [
       "1995"
      ]
     },
     "execution_count": 4,
     "metadata": {},
     "output_type": "execute_result"
    }
   ],
   "source": [
    "len(listA)"
   ]
  },
  {
   "cell_type": "markdown",
   "id": "c0d02b77",
   "metadata": {},
   "source": [
    " - We need to list all the web pages which contain __'/wiki/xxxx_FIFA_World_Cup_squads'__ , where xxxx represents a year. Web [root](https://en.wikipedia.org) "
   ]
  },
  {
   "cell_type": "markdown",
   "id": "13b3698d",
   "metadata": {},
   "source": [
    "Let's filter the urls we want"
   ]
  },
  {
   "cell_type": "code",
   "execution_count": 5,
   "id": "321756c8",
   "metadata": {},
   "outputs": [],
   "source": [
    "sudDirsStringLength = len('/wiki/1930_FIFA_World_Cup_squads')  # we could try to filter by the subdirectories string length"
   ]
  },
  {
   "cell_type": "code",
   "execution_count": 6,
   "id": "2e01b0df",
   "metadata": {},
   "outputs": [],
   "source": [
    "subString = 'squads'                   # keyword\n",
    "rootURL = 'https://en.wikipedia.org'   # website root address"
   ]
  },
  {
   "cell_type": "markdown",
   "id": "93206ec3",
   "metadata": {},
   "source": [
    "The function `filter_list` receives 3 parameters; a list with all the web sites we got after parsing, a substring, and the website root addres."
   ]
  },
  {
   "cell_type": "code",
   "execution_count": 7,
   "id": "c79fae2c",
   "metadata": {},
   "outputs": [],
   "source": [
    "def filter_list(aList, mySubString,rootAddress):\n",
    "    requiredURLS = []\n",
    "    for element in aList:\n",
    "        if ((subString in element) and(len(element)==sudDirsStringLength)):\n",
    "            desiredURL = rootAddress + element\n",
    "            requiredURLS.append(desiredURL)\n",
    "    return requiredURLS       "
   ]
  },
  {
   "cell_type": "code",
   "execution_count": 8,
   "id": "07bae9e7",
   "metadata": {},
   "outputs": [],
   "source": [
    "# Get all the squads of every FIFA World Cup (list)\n",
    "squadsHystorical = filter_list(listA,subString, rootURL)   "
   ]
  },
  {
   "cell_type": "code",
   "execution_count": 9,
   "id": "36dd1575",
   "metadata": {},
   "outputs": [
    {
     "data": {
      "text/plain": [
       "['https://en.wikipedia.org/wiki/1930_FIFA_World_Cup_squads',\n",
       " 'https://en.wikipedia.org/wiki/1934_FIFA_World_Cup_squads',\n",
       " 'https://en.wikipedia.org/wiki/1938_FIFA_World_Cup_squads',\n",
       " 'https://en.wikipedia.org/wiki/1950_FIFA_World_Cup_squads',\n",
       " 'https://en.wikipedia.org/wiki/1954_FIFA_World_Cup_squads',\n",
       " 'https://en.wikipedia.org/wiki/1958_FIFA_World_Cup_squads',\n",
       " 'https://en.wikipedia.org/wiki/1962_FIFA_World_Cup_squads',\n",
       " 'https://en.wikipedia.org/wiki/1966_FIFA_World_Cup_squads',\n",
       " 'https://en.wikipedia.org/wiki/1970_FIFA_World_Cup_squads',\n",
       " 'https://en.wikipedia.org/wiki/1974_FIFA_World_Cup_squads',\n",
       " 'https://en.wikipedia.org/wiki/1978_FIFA_World_Cup_squads',\n",
       " 'https://en.wikipedia.org/wiki/1982_FIFA_World_Cup_squads',\n",
       " 'https://en.wikipedia.org/wiki/1986_FIFA_World_Cup_squads',\n",
       " 'https://en.wikipedia.org/wiki/1990_FIFA_World_Cup_squads',\n",
       " 'https://en.wikipedia.org/wiki/1994_FIFA_World_Cup_squads',\n",
       " 'https://en.wikipedia.org/wiki/1998_FIFA_World_Cup_squads',\n",
       " 'https://en.wikipedia.org/wiki/2002_FIFA_World_Cup_squads',\n",
       " 'https://en.wikipedia.org/wiki/2006_FIFA_World_Cup_squads',\n",
       " 'https://en.wikipedia.org/wiki/2010_FIFA_World_Cup_squads',\n",
       " 'https://en.wikipedia.org/wiki/2014_FIFA_World_Cup_squads',\n",
       " 'https://en.wikipedia.org/wiki/2018_FIFA_World_Cup_squads',\n",
       " 'https://en.wikipedia.org/wiki/2022_FIFA_World_Cup_squads']"
      ]
     },
     "execution_count": 9,
     "metadata": {},
     "output_type": "execute_result"
    }
   ],
   "source": [
    "squadsHystorical"
   ]
  },
  {
   "cell_type": "markdown",
   "id": "4c523292",
   "metadata": {},
   "source": [
    "We got all the urls we needeed to start "
   ]
  },
  {
   "cell_type": "markdown",
   "id": "f8c9f138",
   "metadata": {},
   "source": [
    "# Specify the data we are looking for"
   ]
  },
  {
   "cell_type": "code",
   "execution_count": 10,
   "id": "c2edd3bd",
   "metadata": {},
   "outputs": [],
   "source": [
    "# Select a table and parse it to get all the html info"
   ]
  },
  {
   "cell_type": "code",
   "execution_count": 11,
   "id": "d741d0e1",
   "metadata": {},
   "outputs": [],
   "source": [
    "page = requests.get(squadsHystorical[0]).text    # at the first web page (1st World Cup)\n",
    "soup = BeautifulSoup(page, 'html.parser')"
   ]
  },
  {
   "cell_type": "code",
   "execution_count": 12,
   "id": "f0b21848",
   "metadata": {},
   "outputs": [],
   "source": [
    "allTablesInPage = soup.find_all('table')"
   ]
  },
  {
   "cell_type": "markdown",
   "id": "0e6d35db",
   "metadata": {},
   "source": [
    "## Voy a suponer que en todas las páginas voy a encontrarme con el mismo tipo de tabla"
   ]
  },
  {
   "cell_type": "code",
   "execution_count": 13,
   "id": "1087920a",
   "metadata": {},
   "outputs": [],
   "source": [
    "# There are several types of table in the webpage. Therefore, we need to find out which one includes the squads data."
   ]
  },
  {
   "cell_type": "code",
   "execution_count": 14,
   "id": "d497ceb7",
   "metadata": {},
   "outputs": [],
   "source": [
    "def get_tables_classes(setOfTables):   \n",
    "    classes = []\n",
    "    for table in setOfTables:\n",
    "        classes.append(table.get('class'))\n",
    "    return  classes  "
   ]
  },
  {
   "cell_type": "code",
   "execution_count": 15,
   "id": "007e931b",
   "metadata": {},
   "outputs": [],
   "source": [
    "tablesClasses = get_tables_classes(allTablesInPage)"
   ]
  },
  {
   "cell_type": "markdown",
   "id": "bf9ee6cb",
   "metadata": {},
   "source": [
    "The `class_=['sortable', 'wikitable', 'plainrowheaders']` is our candidate table class because there are few of the other table classes to be considered as the ones containing the __xx__ different squads data. Let's check this out"
   ]
  },
  {
   "cell_type": "code",
   "execution_count": 16,
   "id": "d8f66a94",
   "metadata": {},
   "outputs": [],
   "source": [
    "# get the number of participating national teams, this number may vary from cup to cup.\n",
    "def get_total_squads(setOfTables):\n",
    "    counter = 0\n",
    "    for table in setOfTables:\n",
    "        if table.get('class') == ['sortable', 'wikitable', 'plainrowheaders']:\n",
    "            counter +=1\n",
    "    return counter"
   ]
  },
  {
   "cell_type": "code",
   "execution_count": 17,
   "id": "a119ddaa",
   "metadata": {},
   "outputs": [],
   "source": [
    "totalSquads = get_total_squads(allTablesInPage)"
   ]
  },
  {
   "cell_type": "code",
   "execution_count": 18,
   "id": "c7ee2ab7",
   "metadata": {},
   "outputs": [
    {
     "data": {
      "text/plain": [
       "13"
      ]
     },
     "execution_count": 18,
     "metadata": {},
     "output_type": "execute_result"
    }
   ],
   "source": [
    "totalSquads"
   ]
  },
  {
   "cell_type": "code",
   "execution_count": 19,
   "id": "eb795ca6",
   "metadata": {},
   "outputs": [],
   "source": [
    "def get_first_squad_table(mySoup):\n",
    "    tableToList = mySoup.find('table', class_=\"sortable wikitable plainrowheaders\")\n",
    "    return tableToList"
   ]
  },
  {
   "cell_type": "code",
   "execution_count": 20,
   "id": "7cb4fc97",
   "metadata": {},
   "outputs": [],
   "source": [
    "playersTableText = get_first_squad_table(soup)\n",
    "#playersTableText"
   ]
  },
  {
   "cell_type": "code",
   "execution_count": 21,
   "id": "e59b2e2c",
   "metadata": {},
   "outputs": [],
   "source": [
    "# We can get the country names from the 'h3' tags. However there are more 'h3' tags than squads, that's why we'll limit the \n",
    "# numbers of tags to get."
   ]
  },
  {
   "cell_type": "code",
   "execution_count": 22,
   "id": "fde4b516",
   "metadata": {},
   "outputs": [],
   "source": [
    "listH3CountryNames = soup.find_all(\"h3\", limit = totalSquads)"
   ]
  },
  {
   "cell_type": "markdown",
   "id": "e0b85482",
   "metadata": {},
   "source": [
    "So, we have thirteen tables, and country names for the thirteen squads of the first World Cup, it seems we are good to go."
   ]
  },
  {
   "cell_type": "code",
   "execution_count": 23,
   "id": "c7a54c95",
   "metadata": {},
   "outputs": [],
   "source": [
    "worldCupYears = []\n",
    "for i in range(1930,2023,4):\n",
    "    if i <= 1938:\n",
    "        worldCupYears.append(i)\n",
    "    elif ((i > 1938) & (i <1950)):\n",
    "        pass\n",
    "    else:\n",
    "        worldCupYears.append(i)"
   ]
  },
  {
   "cell_type": "markdown",
   "id": "34284696",
   "metadata": {},
   "source": [
    "### Creo el DataFrame"
   ]
  },
  {
   "cell_type": "markdown",
   "id": "9aa0739d",
   "metadata": {},
   "source": [
    "As we've identified that all the squads data is in `['sortable', 'wikitable', 'plainrowheaders']` class tables, we'll get all of these tables."
   ]
  },
  {
   "cell_type": "code",
   "execution_count": 24,
   "id": "486f93d5",
   "metadata": {},
   "outputs": [],
   "source": [
    "def get_all_squads_tables(mySoup):\n",
    "    allTables = mySoup.find_all('table', class_=\"sortable wikitable plainrowheaders\")\n",
    "    return allTables"
   ]
  },
  {
   "cell_type": "code",
   "execution_count": 25,
   "id": "885ba229",
   "metadata": {},
   "outputs": [],
   "source": [
    "squadsTables = get_all_squads_tables(soup)   "
   ]
  },
  {
   "cell_type": "code",
   "execution_count": 26,
   "id": "057623b7",
   "metadata": {},
   "outputs": [],
   "source": [
    "# Not all teams have the same number of players. So, we'll have to update this number for each squad."
   ]
  },
  {
   "cell_type": "code",
   "execution_count": 27,
   "id": "07e99de3",
   "metadata": {},
   "outputs": [],
   "source": [
    "def get_total_players_in_squad(mySoup, index):\n",
    "    totalRows = len(mySoup.find_all('table', class_=\"sortable wikitable plainrowheaders\")[index].find_all('tr')[1::1])\n",
    "    return totalRows"
   ]
  },
  {
   "cell_type": "code",
   "execution_count": 28,
   "id": "3bc01732",
   "metadata": {},
   "outputs": [],
   "source": [
    "totalPlayers = get_total_players_in_squad(soup, 4)"
   ]
  },
  {
   "cell_type": "code",
   "execution_count": 29,
   "id": "afb68118",
   "metadata": {},
   "outputs": [
    {
     "data": {
      "text/plain": [
       "17"
      ]
     },
     "execution_count": 29,
     "metadata": {},
     "output_type": "execute_result"
    }
   ],
   "source": [
    "totalPlayers"
   ]
  },
  {
   "cell_type": "code",
   "execution_count": 30,
   "id": "1951a797",
   "metadata": {},
   "outputs": [],
   "source": [
    "# Pandas doesn´t fill the column \"Date of birth\" correctly, so we'll have work around this issue"
   ]
  },
  {
   "cell_type": "markdown",
   "id": "3298d9c8",
   "metadata": {},
   "source": [
    "This is the table shape and the corresponding tags containing the data \n",
    "\n",
    "|No.   |Pos.|Player|Date of birth | Caps | Club |\n",
    "|------|--------|------|--------------|------|------|\n",
    "|td tag| th tag |td tag|td tag        |td tag|td tag|\n",
    "\n",
    "So, we have six columns, and we are interested only on the 'Date of birth' column. In order to get all the dates of birth, we'll look for all the 'td' tags, then filter those containing a date. Normally, we would start filtering at the fourth element, because that's the index of 'Date of birth'. However, the 'Position' column won't be collected because uses a 'th' tag, which lowers by one the index of the elements to its right. For the same reason, we'll use an offset of five to get each next date of birth, instead of six."
   ]
  },
  {
   "cell_type": "markdown",
   "id": "557a54c1",
   "metadata": {},
   "source": [
    "The tables of 2018 and 2022 have an additional column that stores each player's goals with their national team before the Worl Cup of that year. The resulting shape is the following:\n",
    "\n",
    "|No.   |Pos.|Player|Date of birth | Caps |Goals | Club |\n",
    "|------|--------|------|--------------|------|------|------|\n",
    "|td tag| th tag |td tag|td tag        |td tag|td tag|td tag|\n",
    "\n",
    "The reasoning to get the 'Date of birth' for these tables is pretty much the same, the only one difference is that the offset have grown by one."
   ]
  },
  {
   "cell_type": "markdown",
   "id": "41c60319",
   "metadata": {},
   "source": [
    "Let's find out how many columns were created inside a 'td' tag, and how many inside a 'th' tag. Once we get these numbers, we'll use them to calculate an offset to reach the next data of the same column."
   ]
  },
  {
   "cell_type": "code",
   "execution_count": 31,
   "id": "8419ce83",
   "metadata": {},
   "outputs": [],
   "source": [
    "def columns_in_tags(aTable):\n",
    "    # Navigate downwards in the data tree\n",
    "    tbodyContents = aTable.tbody.contents   \n",
    "    # The 3rd element corresponds to the 1st data row. Once there, we can start counting the 'th' tags with relevant data\n",
    "    amountOfThTags  = len(tbodyContents[2].find_all(\"th\")) \n",
    "    # and also the 'td' tags\n",
    "    totalTdTags = len(tbodyContents[2].find_all('td'))      # number of 'td' tags > number of 'th' tags \n",
    "    \n",
    "    return (totalTdTags, amountOfThTags)"
   ]
  },
  {
   "cell_type": "code",
   "execution_count": 32,
   "id": "b1efe4ab",
   "metadata": {},
   "outputs": [
    {
     "data": {
      "text/plain": [
       "(5, 1)"
      ]
     },
     "execution_count": 32,
     "metadata": {},
     "output_type": "execute_result"
    }
   ],
   "source": [
    "columns_in_tags(squadsTables[0])"
   ]
  },
  {
   "cell_type": "code",
   "execution_count": 33,
   "id": "ffca8d13",
   "metadata": {},
   "outputs": [],
   "source": [
    "def get_list_of_birthdays(aTable, number):\n",
    "    listOfBirthDays = []\n",
    "    offset = columns_in_tags(aTable)[0]\n",
    "    contador = 0\n",
    "    for i in range(number):\n",
    "        position = 2 + (contador*offset)    # The date of birth is in the fourth column so our initial position should be at the \n",
    "        try:                                # index [3], not[2], but remember that there is a 'th' tag in the middle of the 'td' \n",
    "                                            # tags. So our starting point was moved one to the left.\n",
    "            data = aTable.find_all('td')      # find all the 'td' tags that store the data\n",
    "            dateOfBirth = data[position]       \n",
    "            listOfBirthDays.append(dateOfBirth.span.text)\n",
    "        except (IndexError, AttributeError):\n",
    "            listOfBirthDays.append(dateOfBirth.text)\n",
    "        contador +=1\n",
    "    return listOfBirthDays"
   ]
  },
  {
   "cell_type": "code",
   "execution_count": 34,
   "id": "d802ee67",
   "metadata": {},
   "outputs": [],
   "source": [
    "listOfBirthDays = get_list_of_birthdays(squadsTables[4], totalPlayers)"
   ]
  },
  {
   "cell_type": "code",
   "execution_count": 35,
   "id": "54d6e953",
   "metadata": {},
   "outputs": [],
   "source": [
    "#listOfBirthDays"
   ]
  },
  {
   "cell_type": "code",
   "execution_count": 36,
   "id": "3cfb9fad",
   "metadata": {},
   "outputs": [],
   "source": [
    "def get_list_of_clubs_federations(aTable, number):\n",
    "    listOfClubsFederations = []\n",
    "    offset = columns_in_tags(aTable)[0]\n",
    "    contador = 0\n",
    "    for i in range(number):\n",
    "        position = 4 + (contador*offset)\n",
    "        try:\n",
    "            data = aTable.find_all('td')  \n",
    "            clubFederation = data[position]  \n",
    "            listOfClubsFederations.append(clubFederation.a.img.get(\"alt\"))\n",
    "        except (IndexError, AttributeError):\n",
    "            listOfClubsFederations.append(clubFederation.span.img.get(\"alt\"))\n",
    "        contador +=1\n",
    "    return listOfClubsFederations"
   ]
  },
  {
   "cell_type": "code",
   "execution_count": 37,
   "id": "fbc63b32",
   "metadata": {},
   "outputs": [],
   "source": [
    "listOfClubsOrigin = get_list_of_clubs_federations(squadsTables[4], totalPlayers)"
   ]
  },
  {
   "cell_type": "code",
   "execution_count": 38,
   "id": "b253eb25",
   "metadata": {},
   "outputs": [],
   "source": [
    "#listOfClubsOrigin"
   ]
  },
  {
   "cell_type": "code",
   "execution_count": 39,
   "id": "eef56bff",
   "metadata": {},
   "outputs": [],
   "source": [
    "# The following function receives both, a beautiful soup object with semi-processed data and the total number of participating\n",
    "# national teams of a given World Cup; it returns a list with the names of all the teams involved in the event."
   ]
  },
  {
   "cell_type": "code",
   "execution_count": 40,
   "id": "3c255c96",
   "metadata": {},
   "outputs": [],
   "source": [
    "def get_listed_national_teams(resultSet, numberOfSquads):\n",
    "    listNationalTeams=[]\n",
    "    for i in range(numberOfSquads):\n",
    "        listNationalTeams.append(resultSet[i].span.text)\n",
    "    return listNationalTeams  "
   ]
  },
  {
   "cell_type": "code",
   "execution_count": 41,
   "id": "4ef284dd",
   "metadata": {},
   "outputs": [],
   "source": [
    "listNationalTeams= get_listed_national_teams(listH3CountryNames, totalSquads)"
   ]
  },
  {
   "cell_type": "code",
   "execution_count": 42,
   "id": "bb8c4a0f",
   "metadata": {},
   "outputs": [
    {
     "data": {
      "text/plain": [
       "['Argentina',\n",
       " 'Chile',\n",
       " 'France',\n",
       " 'Mexico',\n",
       " 'Yugoslavia',\n",
       " 'Brazil',\n",
       " 'Bolivia',\n",
       " 'Uruguay',\n",
       " 'Romania',\n",
       " 'Peru',\n",
       " 'United States',\n",
       " 'Paraguay',\n",
       " 'Belgium']"
      ]
     },
     "execution_count": 42,
     "metadata": {},
     "output_type": "execute_result"
    }
   ],
   "source": [
    "listNationalTeams"
   ]
  },
  {
   "cell_type": "markdown",
   "id": "97dad877",
   "metadata": {},
   "source": [
    "## Files Management"
   ]
  },
  {
   "cell_type": "code",
   "execution_count": 56,
   "id": "f79d5a5a",
   "metadata": {},
   "outputs": [],
   "source": [
    "import os \n",
    "from os import path"
   ]
  },
  {
   "cell_type": "code",
   "execution_count": 54,
   "id": "316f1186",
   "metadata": {},
   "outputs": [],
   "source": [
    "def create_directories_tree(listOfWCYears):\n",
    "    \n",
    "    for i in range(len(listOfWCYears)):\n",
    "        year = str(listOfWCYears[i])\n",
    "        os.makedirs(f'dataSets\\\\{year}_world_cup', exist_ok=True)  # makes a new directory\n",
    "         "
   ]
  },
  {
   "cell_type": "code",
   "execution_count": 66,
   "id": "9ae1cca3",
   "metadata": {},
   "outputs": [],
   "source": [
    "if (path.exists('dataSets\\\\1930_world_cup')) & (len(os.listdir('dataSets'))==(len(worldCupYears))):   \n",
    "    pass\n",
    "else:\n",
    "    create_directories_tree(worldCupYears)"
   ]
  },
  {
   "cell_type": "code",
   "execution_count": 61,
   "id": "f55fbb1b",
   "metadata": {},
   "outputs": [],
   "source": [
    "listdir = os.listdir('dataSets')"
   ]
  },
  {
   "cell_type": "markdown",
   "id": "e007407e",
   "metadata": {},
   "source": [
    "## Execution"
   ]
  },
  {
   "cell_type": "code",
   "execution_count": 67,
   "id": "34a67b20",
   "metadata": {},
   "outputs": [],
   "source": [
    "j = 0\n",
    "for i in range(totalSquads):\n",
    "    \n",
    "    myTTable = allTablesInPage[i]\n",
    "    totalRows =  get_total_players_in_squad(soup, i) \n",
    "    \n",
    "    tags = columns_in_tags(myTTable)\n",
    "    \n",
    "    # get the number of columns inside a 'td' tag\n",
    "    columnsAsTdTags = tags[0]\n",
    "    \n",
    "    listOfBirthDays =  get_list_of_birthdays(myTTable, totalRows)\n",
    "    listOfClubsOrigin = get_list_of_clubs_federations(myTTable, totalRows)\n",
    "    \n",
    "    df = pd.read_html(str(myTTable))\n",
    "    df = pd.concat(df)\n",
    "    \n",
    "\n",
    "    if 'Goals' not in df.columns:\n",
    "        df.insert(5, 'Goals', np.nan)\n",
    "        \n",
    "    df['Club Origin'] = listOfClubsOrigin\n",
    "    df['Date of birth (age)'] = listOfBirthDays\n",
    "\n",
    "    get_listed_national_teams(listH3CountryNames, totalSquads)    \n",
    "    df.insert(0, 'National Team', listNationalTeams[i])\n",
    "    players = df.pop('Player')\n",
    "    df.insert(0,'Player', players) \n",
    "    nameFile = (f'{worldCupYears[i]}_{listNationalTeams[i]}')           \n",
    "    \n",
    "    df.to_csv(f'dataSets\\\\{listdir[j]}\\\\{nameFile}.csv', index=False)"
   ]
  },
  {
   "cell_type": "code",
   "execution_count": null,
   "id": "64191a39",
   "metadata": {},
   "outputs": [],
   "source": []
  },
  {
   "cell_type": "code",
   "execution_count": null,
   "id": "8106f203",
   "metadata": {},
   "outputs": [],
   "source": [
    "df.to_csv(f'dataSets\\\\{listdir[i]}\\\\{nameFile}.csv', index=False)"
   ]
  },
  {
   "cell_type": "code",
   "execution_count": 46,
   "id": "6129b622",
   "metadata": {},
   "outputs": [
    {
     "data": {
      "text/html": [
       "<div>\n",
       "<style scoped>\n",
       "    .dataframe tbody tr th:only-of-type {\n",
       "        vertical-align: middle;\n",
       "    }\n",
       "\n",
       "    .dataframe tbody tr th {\n",
       "        vertical-align: top;\n",
       "    }\n",
       "\n",
       "    .dataframe thead th {\n",
       "        text-align: right;\n",
       "    }\n",
       "</style>\n",
       "<table border=\"1\" class=\"dataframe\">\n",
       "  <thead>\n",
       "    <tr style=\"text-align: right;\">\n",
       "      <th></th>\n",
       "      <th>Player</th>\n",
       "      <th>National Team</th>\n",
       "      <th>No.</th>\n",
       "      <th>Pos.</th>\n",
       "      <th>Date of birth (age)</th>\n",
       "      <th>Caps</th>\n",
       "      <th>Goals</th>\n",
       "      <th>Club</th>\n",
       "      <th>Club Origin</th>\n",
       "    </tr>\n",
       "  </thead>\n",
       "  <tbody>\n",
       "    <tr>\n",
       "      <th>0</th>\n",
       "      <td>Milorad Arsenijević</td>\n",
       "      <td>Yugoslavia</td>\n",
       "      <td>NaN</td>\n",
       "      <td>MF</td>\n",
       "      <td>(1906-06-06)</td>\n",
       "      <td>16</td>\n",
       "      <td>NaN</td>\n",
       "      <td>BSK Beograd</td>\n",
       "      <td>Kingdom of Yugoslavia</td>\n",
       "    </tr>\n",
       "    <tr>\n",
       "      <th>1</th>\n",
       "      <td>Ivan Bek</td>\n",
       "      <td>Yugoslavia</td>\n",
       "      <td>NaN</td>\n",
       "      <td>FW</td>\n",
       "      <td>(1909-10-29)</td>\n",
       "      <td>2</td>\n",
       "      <td>NaN</td>\n",
       "      <td>FC Sète</td>\n",
       "      <td>France</td>\n",
       "    </tr>\n",
       "    <tr>\n",
       "      <th>2</th>\n",
       "      <td>Momčilo Đokić</td>\n",
       "      <td>Yugoslavia</td>\n",
       "      <td>NaN</td>\n",
       "      <td>MF</td>\n",
       "      <td>(1911-02-27)</td>\n",
       "      <td>2</td>\n",
       "      <td>NaN</td>\n",
       "      <td>SK Jugoslavija</td>\n",
       "      <td>Kingdom of Yugoslavia</td>\n",
       "    </tr>\n",
       "    <tr>\n",
       "      <th>3</th>\n",
       "      <td>Branislav Hrnjiček</td>\n",
       "      <td>Yugoslavia</td>\n",
       "      <td>NaN</td>\n",
       "      <td>MF</td>\n",
       "      <td>(1908-06-05)</td>\n",
       "      <td>4</td>\n",
       "      <td>NaN</td>\n",
       "      <td>SK Jugoslavija</td>\n",
       "      <td>Kingdom of Yugoslavia</td>\n",
       "    </tr>\n",
       "    <tr>\n",
       "      <th>4</th>\n",
       "      <td>Milutin Ivković (c)</td>\n",
       "      <td>Yugoslavia</td>\n",
       "      <td>NaN</td>\n",
       "      <td>DF</td>\n",
       "      <td>(1906-03-03)</td>\n",
       "      <td>22</td>\n",
       "      <td>NaN</td>\n",
       "      <td>SK Soko</td>\n",
       "      <td>Kingdom of Yugoslavia</td>\n",
       "    </tr>\n",
       "    <tr>\n",
       "      <th>5</th>\n",
       "      <td>Milovan Jakšić</td>\n",
       "      <td>Yugoslavia</td>\n",
       "      <td>NaN</td>\n",
       "      <td>GK</td>\n",
       "      <td>(1909-09-19)</td>\n",
       "      <td>2</td>\n",
       "      <td>NaN</td>\n",
       "      <td>SK Soko</td>\n",
       "      <td>Kingdom of Yugoslavia</td>\n",
       "    </tr>\n",
       "    <tr>\n",
       "      <th>6</th>\n",
       "      <td>Blagoje Marjanović</td>\n",
       "      <td>Yugoslavia</td>\n",
       "      <td>NaN</td>\n",
       "      <td>FW</td>\n",
       "      <td>(1907-09-09)</td>\n",
       "      <td>15</td>\n",
       "      <td>NaN</td>\n",
       "      <td>BSK Beograd</td>\n",
       "      <td>Kingdom of Yugoslavia</td>\n",
       "    </tr>\n",
       "    <tr>\n",
       "      <th>7</th>\n",
       "      <td>Bozidar Marković</td>\n",
       "      <td>Yugoslavia</td>\n",
       "      <td>NaN</td>\n",
       "      <td>FW</td>\n",
       "      <td>(1900-01-01)</td>\n",
       "      <td>0</td>\n",
       "      <td>NaN</td>\n",
       "      <td>SK Vojvodina</td>\n",
       "      <td>Kingdom of Yugoslavia</td>\n",
       "    </tr>\n",
       "    <tr>\n",
       "      <th>8</th>\n",
       "      <td>Dragoslav Mihajlović</td>\n",
       "      <td>Yugoslavia</td>\n",
       "      <td>NaN</td>\n",
       "      <td>DF</td>\n",
       "      <td>(1906-12-13)</td>\n",
       "      <td>1</td>\n",
       "      <td>NaN</td>\n",
       "      <td>BSK Beograd</td>\n",
       "      <td>Kingdom of Yugoslavia</td>\n",
       "    </tr>\n",
       "    <tr>\n",
       "      <th>9</th>\n",
       "      <td>Dragutin Najdanović</td>\n",
       "      <td>Yugoslavia</td>\n",
       "      <td>NaN</td>\n",
       "      <td>FW</td>\n",
       "      <td>(1908-04-15)</td>\n",
       "      <td>3</td>\n",
       "      <td>NaN</td>\n",
       "      <td>BSK Beograd</td>\n",
       "      <td>Kingdom of Yugoslavia</td>\n",
       "    </tr>\n",
       "    <tr>\n",
       "      <th>10</th>\n",
       "      <td>Branislav Sekulić</td>\n",
       "      <td>Yugoslavia</td>\n",
       "      <td>NaN</td>\n",
       "      <td>FW</td>\n",
       "      <td>(1906-10-29)</td>\n",
       "      <td>3</td>\n",
       "      <td>NaN</td>\n",
       "      <td>Club Français</td>\n",
       "      <td>France</td>\n",
       "    </tr>\n",
       "    <tr>\n",
       "      <th>11</th>\n",
       "      <td>Teofilo Spasojević</td>\n",
       "      <td>Yugoslavia</td>\n",
       "      <td>NaN</td>\n",
       "      <td>MF</td>\n",
       "      <td>(1909-01-21)</td>\n",
       "      <td>1</td>\n",
       "      <td>NaN</td>\n",
       "      <td>SK Jugoslavija</td>\n",
       "      <td>Kingdom of Yugoslavia</td>\n",
       "    </tr>\n",
       "    <tr>\n",
       "      <th>12</th>\n",
       "      <td>Ljubiša Stefanović</td>\n",
       "      <td>Yugoslavia</td>\n",
       "      <td>NaN</td>\n",
       "      <td>MF</td>\n",
       "      <td>(1910-01-04)</td>\n",
       "      <td>0</td>\n",
       "      <td>NaN</td>\n",
       "      <td>FC Sète</td>\n",
       "      <td>France</td>\n",
       "    </tr>\n",
       "    <tr>\n",
       "      <th>13</th>\n",
       "      <td>Milan Stojanović</td>\n",
       "      <td>Yugoslavia</td>\n",
       "      <td>NaN</td>\n",
       "      <td>GK</td>\n",
       "      <td>(1911-12-28)</td>\n",
       "      <td>0</td>\n",
       "      <td>NaN</td>\n",
       "      <td>BSK Beograd</td>\n",
       "      <td>Kingdom of Yugoslavia</td>\n",
       "    </tr>\n",
       "    <tr>\n",
       "      <th>14</th>\n",
       "      <td>Aleksandar Tirnanić</td>\n",
       "      <td>Yugoslavia</td>\n",
       "      <td>NaN</td>\n",
       "      <td>FW</td>\n",
       "      <td>(1910-07-15)</td>\n",
       "      <td>5</td>\n",
       "      <td>NaN</td>\n",
       "      <td>BSK Beograd</td>\n",
       "      <td>Kingdom of Yugoslavia</td>\n",
       "    </tr>\n",
       "    <tr>\n",
       "      <th>15</th>\n",
       "      <td>Dragomir Tošić</td>\n",
       "      <td>Yugoslavia</td>\n",
       "      <td>NaN</td>\n",
       "      <td>DF</td>\n",
       "      <td>(1909-11-08)</td>\n",
       "      <td>0</td>\n",
       "      <td>NaN</td>\n",
       "      <td>BSK Beograd</td>\n",
       "      <td>Kingdom of Yugoslavia</td>\n",
       "    </tr>\n",
       "    <tr>\n",
       "      <th>16</th>\n",
       "      <td>Đorđe Vujadinović</td>\n",
       "      <td>Yugoslavia</td>\n",
       "      <td>NaN</td>\n",
       "      <td>FW</td>\n",
       "      <td>(1909-11-29)</td>\n",
       "      <td>4</td>\n",
       "      <td>NaN</td>\n",
       "      <td>BSK Beograd</td>\n",
       "      <td>Kingdom of Yugoslavia</td>\n",
       "    </tr>\n",
       "  </tbody>\n",
       "</table>\n",
       "</div>"
      ],
      "text/plain": [
       "                  Player National Team  No. Pos. Date of birth (age)  Caps  \\\n",
       "0    Milorad Arsenijević    Yugoslavia  NaN   MF        (1906-06-06)    16   \n",
       "1               Ivan Bek    Yugoslavia  NaN   FW        (1909-10-29)     2   \n",
       "2          Momčilo Đokić    Yugoslavia  NaN   MF        (1911-02-27)     2   \n",
       "3     Branislav Hrnjiček    Yugoslavia  NaN   MF        (1908-06-05)     4   \n",
       "4    Milutin Ivković (c)    Yugoslavia  NaN   DF        (1906-03-03)    22   \n",
       "5         Milovan Jakšić    Yugoslavia  NaN   GK        (1909-09-19)     2   \n",
       "6     Blagoje Marjanović    Yugoslavia  NaN   FW        (1907-09-09)    15   \n",
       "7       Bozidar Marković    Yugoslavia  NaN   FW        (1900-01-01)     0   \n",
       "8   Dragoslav Mihajlović    Yugoslavia  NaN   DF        (1906-12-13)     1   \n",
       "9    Dragutin Najdanović    Yugoslavia  NaN   FW        (1908-04-15)     3   \n",
       "10     Branislav Sekulić    Yugoslavia  NaN   FW        (1906-10-29)     3   \n",
       "11    Teofilo Spasojević    Yugoslavia  NaN   MF        (1909-01-21)     1   \n",
       "12    Ljubiša Stefanović    Yugoslavia  NaN   MF        (1910-01-04)     0   \n",
       "13      Milan Stojanović    Yugoslavia  NaN   GK        (1911-12-28)     0   \n",
       "14   Aleksandar Tirnanić    Yugoslavia  NaN   FW        (1910-07-15)     5   \n",
       "15        Dragomir Tošić    Yugoslavia  NaN   DF        (1909-11-08)     0   \n",
       "16     Đorđe Vujadinović    Yugoslavia  NaN   FW        (1909-11-29)     4   \n",
       "\n",
       "    Goals            Club            Club Origin  \n",
       "0     NaN     BSK Beograd  Kingdom of Yugoslavia  \n",
       "1     NaN         FC Sète                 France  \n",
       "2     NaN  SK Jugoslavija  Kingdom of Yugoslavia  \n",
       "3     NaN  SK Jugoslavija  Kingdom of Yugoslavia  \n",
       "4     NaN         SK Soko  Kingdom of Yugoslavia  \n",
       "5     NaN         SK Soko  Kingdom of Yugoslavia  \n",
       "6     NaN     BSK Beograd  Kingdom of Yugoslavia  \n",
       "7     NaN    SK Vojvodina  Kingdom of Yugoslavia  \n",
       "8     NaN     BSK Beograd  Kingdom of Yugoslavia  \n",
       "9     NaN     BSK Beograd  Kingdom of Yugoslavia  \n",
       "10    NaN   Club Français                 France  \n",
       "11    NaN  SK Jugoslavija  Kingdom of Yugoslavia  \n",
       "12    NaN         FC Sète                 France  \n",
       "13    NaN     BSK Beograd  Kingdom of Yugoslavia  \n",
       "14    NaN     BSK Beograd  Kingdom of Yugoslavia  \n",
       "15    NaN     BSK Beograd  Kingdom of Yugoslavia  \n",
       "16    NaN     BSK Beograd  Kingdom of Yugoslavia  "
      ]
     },
     "execution_count": 46,
     "metadata": {},
     "output_type": "execute_result"
    }
   ],
   "source": [
    "pd.read_csv('1930Yugoslavia.csv')"
   ]
  },
  {
   "cell_type": "code",
   "execution_count": null,
   "id": "b593bc99",
   "metadata": {},
   "outputs": [],
   "source": []
  }
 ],
 "metadata": {
  "kernelspec": {
   "display_name": "Python 3 (ipykernel)",
   "language": "python",
   "name": "python3"
  },
  "language_info": {
   "codemirror_mode": {
    "name": "ipython",
    "version": 3
   },
   "file_extension": ".py",
   "mimetype": "text/x-python",
   "name": "python",
   "nbconvert_exporter": "python",
   "pygments_lexer": "ipython3",
   "version": "3.9.15"
  }
 },
 "nbformat": 4,
 "nbformat_minor": 5
}
